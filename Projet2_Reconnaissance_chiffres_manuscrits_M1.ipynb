{
  "cells": [
    {
      "cell_type": "markdown",
      "source": [
        "(Rapport pdf du projet en ligne)"
      ],
      "metadata": {
        "id": "tux4F_EyV-V9"
      }
    },
    {
      "cell_type": "markdown",
      "source": [
        "# Reconnaissance de chiffres manuscrits (projet 2)\n",
        "\n",
        "Professeur : Alexis Nasr\n",
        "\n",
        "Master 1\n",
        "\n",
        "Aix-Marseille Université"
      ],
      "metadata": {
        "id": "X9WcZ5CCVsiZ"
      }
    },
    {
      "cell_type": "markdown",
      "source": [
        "**Introduction**\n",
        "\n",
        "On s’intéresse à la programmation d’un réseau convolutionnel permettant de reconnaître des chiffres manuscrits.\n",
        "\n",
        "On entraîne notre modèle avec des données d’apprentissages, et on l’évaluera avec les données test. Les données d’apprentissage sont ici des couples (x i , y i ) où x i est une image de 28 x 28 pixels représentant un chiffre de 0 à 9, et yi est le chiffre correspondant à l’image. Un pixel est représenté par un nombre compris entre 0 et 255 indiquant le niveau de gris du pixel, 0 étant noir et 255, blanc. On a un fichier train_image_file.txt où une ligne correspond à une série de pixels représentant une image d’un chiffre blanc sur un fond noir (x i ). Et dans le fichier train_label_file.txt, à la ligne du même indice, correspond le chiffre représenté par l’image (y i ). La structure est la même pour les fichiers test. On dispose de 60 000 couples (x,y) pour les données train et de 10 000 pour les données test.\n",
        "\n",
        "Dans nos données d’apprentissage, les chiffres sont centrés sur l’image et on a un certain niveau de gris des pixels, qu’on pourrait qualifier de facilement identifiable. On peut donc chercher à faire des modifications, relatives à ces deux axes, afin de tester le modèle dans d’autres conditions. On va donc s’intéresser en premier lieu à l’augmentation de données par translation d’images, en générant de nouveaux exemples où les images sont décalées vers le haut/bas/droite/gauche. En second lieu, on va se focaliser sur les niveaux de gris, et faire varier la gradation, rendant les chiffres plus ou moins discernables, pour voir l’influence sur les performances du modèle.\n"
      ],
      "metadata": {
        "id": "1tzN9elzV1eG"
      }
    },
    {
      "cell_type": "markdown",
      "metadata": {
        "id": "82mWYy1z03aC"
      },
      "source": [
        "On récupère les données de train et de test"
      ]
    },
    {
      "cell_type": "code",
      "execution_count": null,
      "metadata": {
        "id": "C6B2tyHV0RGF"
      },
      "outputs": [],
      "source": [
        "%%bash\n",
        "wget http://pageperso.lif.univ-mrs.fr/~alexis.nasr/Ens/MASCO_AA/mnist.tgz\n",
        "tar xvfz mnist.tgz"
      ]
    },
    {
      "cell_type": "markdown",
      "metadata": {
        "id": "1_olsRxA1CeL"
      },
      "source": [
        "On met en forme les données d'apprentissage"
      ]
    },
    {
      "cell_type": "code",
      "execution_count": null,
      "metadata": {
        "colab": {
          "base_uri": "https://localhost:8080/"
        },
        "id": "ViHT3u4k1c5y",
        "outputId": "7ea4fc9a-0b42-4b57-b592-e9a76821177f"
      },
      "outputs": [
        {
          "output_type": "stream",
          "name": "stdout",
          "text": [
            "lecture des donnees d'entrée depuis le fichier :  data/train_image_file.txt\n",
            "lecture des donnees de sortie depuis le fichier :  data/train_label_file.txt\n",
            "x shape =  (60000, 28, 28, 1)\n",
            "y shape =  (60000, 10)\n"
          ]
        }
      ],
      "source": [
        "import numpy as np\n",
        "\n",
        "def lecture_images(nomFichierImages):\n",
        "    print(\"lecture des donnees d'entrée depuis le fichier : \", nomFichierImages)\n",
        "    try:\n",
        "        fic = open(nomFichierImages, 'r')\n",
        "    except IOError:\n",
        "        print(\"le fichier\", nomFichierImages, \"n'existe pas\")\n",
        "        return None\n",
        "    i = 0\n",
        "    L = []\n",
        "    for ligne in fic:\n",
        "      ligne.rstrip()\n",
        "      ligne = ligne.split()\n",
        "      i += 1\n",
        "      for elt in ligne:\n",
        "        L.append(int(elt))\n",
        "    L = np.array(L)\n",
        "    L = L.reshape(i,28,28,1)\n",
        "    return L\n",
        "\n",
        "\n",
        "def lecture_labels(nomFichierLabels):\n",
        "    print(\"lecture des donnees de sortie depuis le fichier : \", nomFichierLabels)\n",
        "    try:\n",
        "        fic = open(nomFichierLabels, 'r')\n",
        "    except IOError:\n",
        "        print(\"le fichier\", nomFichierLabels, \"n'existe pas\")\n",
        "        return None\n",
        "    L2 = []\n",
        "    for ligne in fic:\n",
        "      one_hot = [0] * 10\n",
        "      ligne.rstrip()\n",
        "      classe = int(ligne)\n",
        "      one_hot[classe] = 1\n",
        "      L2.append(one_hot)\n",
        "    L2 = np.array(L2)\n",
        "    return L2\n",
        "\n",
        "x_train = lecture_images('data/train_image_file.txt')\n",
        "y_train = lecture_labels('data/train_label_file.txt')\n",
        "\n",
        "print('x shape = ', x_train.shape)\n",
        "print('y shape = ', y_train.shape)"
      ]
    },
    {
      "cell_type": "markdown",
      "metadata": {
        "id": "iWsQgvNTKrw7"
      },
      "source": [
        "Construction et apprentissage du modèle"
      ]
    },
    {
      "cell_type": "code",
      "execution_count": null,
      "metadata": {
        "id": "ov_pD_6An7Ah"
      },
      "outputs": [],
      "source": [
        "import keras\n",
        "from keras.models import Sequential\n",
        "from keras.layers import Dense, Dropout, Flatten\n",
        "from keras.layers import Conv2D, MaxPooling2D\n",
        "\n",
        "batch_size = 128\n",
        "num_classes = 10\n",
        "epochs = 1\n",
        "\n",
        "# input image dimensions\n",
        "img_rows, img_cols = 28, 28\n",
        "\n",
        "input_shape = (img_rows, img_cols, 1)\n",
        "\n",
        "model = Sequential()\n",
        "model.add(Conv2D(filters=32, kernel_size=(2, 2), strides=(1, 1), activation='relu', input_shape=input_shape))\n",
        "model.add(MaxPooling2D(pool_size=(2,2), strides=(2,2)))\n",
        "model.add(Flatten())\n",
        "model.add(Dense(num_classes, activation='softmax'))\n",
        "\n",
        "model.compile(loss='categorical_crossentropy',\n",
        "              optimizer='adam',\n",
        "              metrics=['accuracy'])\n",
        "\n"
      ]
    },
    {
      "cell_type": "markdown",
      "metadata": {
        "id": "eLoH6Krl0878"
      },
      "source": [
        "On met en forme les données de test"
      ]
    },
    {
      "cell_type": "code",
      "execution_count": null,
      "metadata": {
        "colab": {
          "base_uri": "https://localhost:8080/"
        },
        "id": "6iN2imATLaFu",
        "outputId": "26e149d7-2a6a-42d3-8d32-4bf2d35ab320"
      },
      "outputs": [
        {
          "output_type": "stream",
          "name": "stdout",
          "text": [
            "lecture des donnees d'entrée depuis le fichier :  data/test_image_file.txt\n",
            "lecture des donnees de sortie depuis le fichier :  data/test_label_file.txt\n"
          ]
        }
      ],
      "source": [
        "x_test = lecture_images('data/test_image_file.txt')\n",
        "y_test = lecture_labels('data/test_label_file.txt')\n"
      ]
    },
    {
      "cell_type": "markdown",
      "metadata": {
        "id": "W2eKYXeXLjXn"
      },
      "source": [
        "On évalue les prédictions sur les données de test"
      ]
    },
    {
      "cell_type": "code",
      "execution_count": null,
      "metadata": {
        "colab": {
          "base_uri": "https://localhost:8080/"
        },
        "id": "f02slM5uLpY5",
        "outputId": "19d4d42c-3861-4ac2-d668-eed25a6528b9"
      },
      "outputs": [
        {
          "output_type": "stream",
          "name": "stdout",
          "text": [
            "375/375 [==============================] - 26s 64ms/step - loss: 1.6317 - accuracy: 0.9018 - val_loss: 0.3684 - val_accuracy: 0.9576\n",
            "Test loss: 0.33898380398750305\n",
            "Test accuracy: 0.9610000252723694\n"
          ]
        }
      ],
      "source": [
        "model.fit(x_train, y_train, epochs=epochs, batch_size=batch_size, validation_split=0.2)\n",
        "\n",
        "score = model.evaluate(x_test, y_test, verbose=0)\n",
        "print('Test loss:', score[0])\n",
        "print('Test accuracy:', score[1])"
      ]
    },
    {
      "cell_type": "markdown",
      "metadata": {
        "id": "Cqu36a3tqjGh"
      },
      "source": [
        "# I. Augmentation de données\n",
        "Générons de nouveaux exemples, en réalisant, par exemple, des translations des images, vers le haut, le bas, la gauche ou la\n",
        "droite."
      ]
    },
    {
      "cell_type": "code",
      "source": [
        "from tensorflow.keras.preprocessing.image import ImageDataGenerator\n",
        "datagen = ImageDataGenerator(\n",
        "    rotation_range = 0,\n",
        "    width_shift_range = 0.3,\n",
        "    height_shift_range = 0.2,\n",
        "    zoom_range = 0)\n",
        "datagen.fit(x_train)\n",
        "\n",
        "translated_images = []\n",
        "batch_size = 128\n",
        "\n",
        "for x_batch in datagen.flow(x_train, batch_size=batch_size, shuffle=False):\n",
        "    translated_images.append(x_batch)\n",
        "    if len(translated_images) * batch_size >= len(x_train):\n",
        "        break\n",
        "\n",
        "# on concatène les images translatées en un seul tableau numpy\n",
        "translated_images = np.concatenate(translated_images, axis=0)\n",
        "\n",
        "print('Shape of translated images:', translated_images.shape) # vérification"
      ],
      "metadata": {
        "colab": {
          "base_uri": "https://localhost:8080/"
        },
        "id": "Uk0p_xjlCeFY",
        "outputId": "f0fbb57c-deed-4333-b6cd-350c8e6607db"
      },
      "execution_count": null,
      "outputs": [
        {
          "output_type": "stream",
          "name": "stdout",
          "text": [
            "Shape of translated images: (60000, 28, 28, 1)\n"
          ]
        }
      ]
    },
    {
      "cell_type": "code",
      "source": [],
      "metadata": {
        "id": "A8ZCls12Ctso"
      },
      "execution_count": null,
      "outputs": []
    },
    {
      "cell_type": "code",
      "execution_count": null,
      "metadata": {
        "colab": {
          "base_uri": "https://localhost:8080/",
          "height": 170
        },
        "id": "tzLzZ4TjGir0",
        "outputId": "11ecf389-10c7-41a3-971e-34724e543a07"
      },
      "outputs": [
        {
          "output_type": "display_data",
          "data": {
            "text/plain": [
              "<Figure size 1000x1000 with 5 Axes>"
            ],
            "image/png": "[encoded data removed]"
          },
          "metadata": {}
        }
      ],
      "source": [
        "# génération d'images des 5 premières translatées\n",
        "import matplotlib.pyplot as plt\n",
        "\n",
        "plt.figure(figsize=(10, 10))\n",
        "for i in range(5):\n",
        "    plt.subplot(1, 5, i + 1)\n",
        "    plt.imshow(translated_images[i].squeeze(), cmap='gray')\n",
        "    plt.axis('off')\n",
        "plt.show()"
      ]
    },
    {
      "cell_type": "code",
      "execution_count": null,
      "metadata": {
        "colab": {
          "base_uri": "https://localhost:8080/"
        },
        "id": "YHrhs5rPGqhP",
        "outputId": "15377586-8741-468a-8b90-3dd3d8da5dde"
      },
      "outputs": [
        {
          "output_type": "stream",
          "name": "stdout",
          "text": [
            "375/375 [==============================] - 21s 55ms/step - loss: 1.8912 - accuracy: 0.5619 - val_loss: 1.0121 - val_accuracy: 0.6794\n",
            "Test loss: 0.7678507566452026\n",
            "Test accuracy: 0.7601000070571899\n"
          ]
        }
      ],
      "source": [
        "# entraînement du modèle des images translatées et évaluation\n",
        "\n",
        "batch_size = 128\n",
        "model.fit(translated_images, y_train, epochs=epochs, batch_size=batch_size, validation_split=0.2)\n",
        "\n",
        "score = model.evaluate(x_test, y_test, verbose=0)\n",
        "print('Test loss:', score[0])\n",
        "print('Test accuracy:', score[1])\n"
      ]
    },
    {
      "cell_type": "markdown",
      "metadata": {
        "id": "GNMLsmJ5LwqG"
      },
      "source": [
        "On peut se demander à quel point les translations rendent l’identification difficile, et donc calculer la précision en fonction du niveau de translations des images."
      ]
    },
    {
      "cell_type": "code",
      "execution_count": null,
      "metadata": {
        "colab": {
          "base_uri": "https://localhost:8080/"
        },
        "id": "Al0xxj9LLwTd",
        "outputId": "1a994efb-1bd4-4692-c6c4-913c61986c16"
      },
      "outputs": [
        {
          "output_type": "stream",
          "name": "stdout",
          "text": [
            "\n",
            "Entraînement du modèle avec width_shift_range.\n",
            "Transformation value: 0.0\n",
            "Transformation value: 0.3\n",
            "Transformation value: 0.6\n",
            "Transformation value: 0.8999999999999999\n",
            "\n",
            "Entraînement du modèle avec height_shift_range.\n",
            "Transformation value: 0.0\n",
            "Transformation value: 0.3\n",
            "Transformation value: 0.6\n",
            "Transformation value: 0.8999999999999999\n"
          ]
        }
      ],
      "source": [
        "transformations = {\n",
        "    \"width_shift_range\": np.arange(0, 1, 0.3),\n",
        "    \"height_shift_range\": np.arange(0, 1, 0.3),\n",
        "}\n",
        "\n",
        "loss_augmente, accuracy_augmente = {}, {}\n",
        "for transformation_name, transformation_values in transformations.items():\n",
        "    print(f\"\\nEntraînement du modèle avec {transformation_name}.\") # pour suivre l'exécution du code\n",
        "\n",
        "    loss_values, accuracy_values = [], []\n",
        "    for transformation_value in transformation_values:\n",
        "        print(f\"Transformation value: {transformation_value}\") # pour suivre l'exécution du code\n",
        "        datagen_train = ImageDataGenerator(**{transformation_name: transformation_value})\n",
        "        translated_train_data = datagen_train.flow(x_train, y_train, batch_size=batch_size)\n",
        "\n",
        "        model.fit(translated_train_data, steps_per_epoch=len(x_train) // batch_size, epochs=epochs, verbose=0)\n",
        "\n",
        "        loss, accuracy = model.evaluate(x_test, y_test, verbose=0)\n",
        "        loss_values.append(loss)\n",
        "        accuracy_values.append(accuracy)\n",
        "\n",
        "    loss_augmente[transformation_name] = loss_values\n",
        "    accuracy_augmente[transformation_name] = accuracy_values\n",
        "\n"
      ]
    },
    {
      "cell_type": "code",
      "execution_count": null,
      "metadata": {
        "colab": {
          "base_uri": "https://localhost:8080/",
          "height": 474
        },
        "id": "7CHIMFFtPfuL",
        "outputId": "878bb4ec-33c1-4c30-bc91-8862d4959022"
      },
      "outputs": [
        {
          "output_type": "display_data",
          "data": {
            "text/plain": [
              "<Figure size 640x480 with 1 Axes>"
            ],
            "image/png": "[encoded data removed]"
          },
          "metadata": {}
        }
      ],
      "source": [
        "# Représentation des performances\n",
        "\n",
        "for transformation_name in transformations.keys():\n",
        "    plt.plot(transformations[transformation_name], accuracy_augmente[transformation_name], label=transformation_name)\n",
        "\n",
        "plt.title('Évolution de la précision en fonction du niveau de translation')\n",
        "plt.xlabel('Niveau de translation')\n",
        "plt.ylabel('Précision')\n",
        "plt.legend()\n",
        "plt.show()"
      ]
    },
    {
      "cell_type": "markdown",
      "source": [
        "Maintenant on va augmenter la taille des données, et donc concaténer ces données translatées avec celles originales, pour obtenir 120 000 données d'apprentissages."
      ],
      "metadata": {
        "id": "0JI2WbR8D1lj"
      }
    },
    {
      "cell_type": "code",
      "source": [
        "augmented_x_train = np.concatenate((x_train,translated_images))\n",
        "print(len(augmented_x_train)) # vérifier 120 000\n",
        "\n",
        "y_train = np.concatenate((y_train,y_train)) # on double comme on a doublé avec les translated_images"
      ],
      "metadata": {
        "colab": {
          "base_uri": "https://localhost:8080/"
        },
        "id": "rDcnMzy9D3X3",
        "outputId": "68cad17b-838a-401e-b9c0-9a8ca9c7fbf3"
      },
      "execution_count": null,
      "outputs": [
        {
          "output_type": "stream",
          "name": "stdout",
          "text": [
            "120000\n"
          ]
        }
      ]
    },
    {
      "cell_type": "markdown",
      "source": [
        "Entraînement du modèle avec ces 120 000 données d'apprentissage et évaluation"
      ],
      "metadata": {
        "id": "J4y2-TziFGEK"
      }
    },
    {
      "cell_type": "code",
      "source": [
        "batch_size = 128\n",
        "model.fit(augmented_x_train, y_train, epochs=epochs, batch_size=batch_size, validation_split=0.2)\n",
        "\n",
        "score = model.evaluate(x_test, y_test, verbose=0)\n",
        "print('Test loss:', score[0])\n",
        "print('Test accuracy:', score[1])\n"
      ],
      "metadata": {
        "colab": {
          "base_uri": "https://localhost:8080/"
        },
        "id": "hgRj8rxRFJ_0",
        "outputId": "973ae735-ef59-45b6-c9c0-3c9c5cb33062"
      },
      "execution_count": null,
      "outputs": [
        {
          "output_type": "stream",
          "name": "stdout",
          "text": [
            "750/750 [==============================] - 36s 47ms/step - loss: 0.5895 - accuracy: 0.8157 - val_loss: 0.9762 - val_accuracy: 0.6905\n",
            "Test loss: 0.13479796051979065\n",
            "Test accuracy: 0.9605000019073486\n"
          ]
        }
      ]
    },
    {
      "cell_type": "markdown",
      "metadata": {
        "id": "MWfQ_lBUvJXs"
      },
      "source": [
        "# II. Niveaux de gris\n",
        "\n",
        "Modifions la gradation du niveau de gris pour voir l'influence sur la reconnaissance du chiffre.\n",
        "\n",
        "On peut par exemple ajouter à la valeur de chaque pixel un certain nombre (positif ou négatif), ce qui modifie les niveaux de gris."
      ]
    },
    {
      "cell_type": "code",
      "execution_count": null,
      "metadata": {
        "colab": {
          "base_uri": "https://localhost:8080/"
        },
        "id": "l5cPB2gcyVvS",
        "outputId": "4b58c323-46ec-4486-a7d7-2326543d3a14"
      },
      "outputs": [
        {
          "output_type": "stream",
          "name": "stdout",
          "text": [
            "lecture des donnees d'entrée depuis le fichier :  data/train_image_file.txt\n",
            "lecture des donnees de sortie depuis le fichier :  data/train_label_file.txt\n"
          ]
        }
      ],
      "source": [
        "import numpy as np\n",
        "\n",
        "def lecture_images(nomFichierImages):\n",
        "    print(\"lecture des donnees d'entrée depuis le fichier : \", nomFichierImages)\n",
        "    try:\n",
        "        fic = open(nomFichierImages, 'r')\n",
        "    except IOError:\n",
        "        print(\"le fichier\", nomFichierImages, \"n'existe pas\")\n",
        "        return None\n",
        "    i = 0\n",
        "    L = []\n",
        "    for ligne in fic:\n",
        "      ligne.rstrip()\n",
        "      ligne = ligne.split()\n",
        "      i += 1\n",
        "      for elt in ligne:\n",
        "        L.append(int(elt))\n",
        "    L = np.array(L)\n",
        "    L = L.reshape(i,28,28,1)\n",
        "    return L\n",
        "\n",
        "\n",
        "def lecture_labels(nomFichierLabels):\n",
        "    print(\"lecture des donnees de sortie depuis le fichier : \", nomFichierLabels)\n",
        "    try:\n",
        "        fic = open(nomFichierLabels, 'r')\n",
        "    except IOError:\n",
        "        print(\"le fichier\", nomFichierLabels, \"n'existe pas\")\n",
        "        return None\n",
        "    L2 = []\n",
        "    for ligne in fic:\n",
        "      one_hot = [0] * 10\n",
        "      ligne.rstrip()\n",
        "      classe = int(ligne)\n",
        "      one_hot[classe] = 1\n",
        "      L2.append(one_hot)\n",
        "    L2 = np.array(L2)\n",
        "    return L2\n",
        "\n",
        "x_train = lecture_images('data/train_image_file.txt')\n",
        "y_train = lecture_labels('data/train_label_file.txt')\n"
      ]
    },
    {
      "cell_type": "code",
      "execution_count": null,
      "metadata": {
        "colab": {
          "base_uri": "https://localhost:8080/"
        },
        "id": "429eYSlFljG_",
        "outputId": "51fdf637-1d52-483b-a6e4-6ad5061979f4"
      },
      "outputs": [
        {
          "output_type": "stream",
          "name": "stdout",
          "text": [
            "lecture des donnees d'entrée depuis le fichier :  data/test_image_file.txt\n",
            "lecture des donnees de sortie depuis le fichier :  data/test_label_file.txt\n",
            "375/375 [==============================] - 24s 63ms/step - loss: 1.6402 - accuracy: 0.8965 - val_loss: 0.4863 - val_accuracy: 0.9452\n",
            "Test loss: 0.4464513659477234\n",
            "Test accuracy: 0.9458000063896179\n"
          ]
        }
      ],
      "source": [
        "import keras\n",
        "from keras.models import Sequential\n",
        "from keras.layers import Dense, Dropout, Flatten\n",
        "from keras.layers import Conv2D, MaxPooling2D\n",
        "\n",
        "batch_size = 128\n",
        "num_classes = 10\n",
        "epochs = 1\n",
        "\n",
        "# input image dimensions\n",
        "img_rows, img_cols = 28, 28\n",
        "\n",
        "input_shape = (img_rows, img_cols, 1)\n",
        "\n",
        "model = Sequential()\n",
        "model.add(Conv2D(filters=32, kernel_size=(2, 2), strides=(1, 1), activation='relu', input_shape=input_shape))\n",
        "model.add(MaxPooling2D(pool_size=(2,2), strides=(2,2)))\n",
        "model.add(Flatten())\n",
        "model.add(Dense(num_classes, activation='softmax'))\n",
        "\n",
        "model.compile(loss='categorical_crossentropy',\n",
        "              optimizer='adam',\n",
        "              metrics=['accuracy'])\n",
        "\n",
        "x_test = lecture_images('data/test_image_file.txt')\n",
        "y_test = lecture_labels('data/test_label_file.txt')\n",
        "\n",
        "model.fit(x_train, y_train, epochs=epochs, batch_size=batch_size, validation_split=0.2)\n",
        "\n",
        "score = model.evaluate(x_test, y_test, verbose=0)\n",
        "print('Test loss:', score[0])\n",
        "print('Test accuracy:', score[1])\n"
      ]
    },
    {
      "cell_type": "markdown",
      "metadata": {
        "id": "_OC8ABpmn8Hf"
      },
      "source": [
        "Modification de la valeur des pixels"
      ]
    },
    {
      "cell_type": "code",
      "execution_count": null,
      "metadata": {
        "id": "qmaLxeiyR96Z"
      },
      "outputs": [],
      "source": [
        "def ajuster_pixels(images, valeur_ajoutee):\n",
        "    images_ajustees = np.clip(x_train + valeur_ajoutee, 0, 255)\n",
        "    return images_ajustees\n",
        "\n",
        "valeur_ajoutee = -230 # par exemple\n",
        "images_ajustees = ajuster_pixels(x_train, valeur_ajoutee)"
      ]
    },
    {
      "cell_type": "code",
      "execution_count": null,
      "metadata": {
        "colab": {
          "base_uri": "https://localhost:8080/",
          "height": 256
        },
        "id": "MUeXyvR6zh8B",
        "outputId": "66c426a1-533e-43c6-c71c-ffd9d065e2db"
      },
      "outputs": [
        {
          "output_type": "display_data",
          "data": {
            "text/plain": [
              "<Figure size 1500x300 with 5 Axes>"
            ],
            "image/png": "[encoded data removed]"
          },
          "metadata": {}
        }
      ],
      "source": [
        "# Affichage des 5 premiers chiffres après modification des valeurs de pixels\n",
        "\n",
        "import matplotlib.pyplot as plt\n",
        "fig, axes = plt.subplots(1, 5, figsize=(15, 3))\n",
        "\n",
        "for i in range(5):\n",
        "    axes[i].imshow(images_ajustees[i].squeeze(), cmap='gray')\n",
        "    axes[i].axis('off')\n",
        "    axes[i].set_title('Image {}'.format(i+1))\n",
        "\n",
        "plt.show()"
      ]
    },
    {
      "cell_type": "markdown",
      "metadata": {
        "id": "RDn5EdWgm7zS"
      },
      "source": [
        "On veut maintenant évaluer la précision du modèle sur ces images ajustées, en fonction des valeurs suivantes de valeur_ajoutee : -254, -225, -197, -169, -143, -118, -94, -72, -51, -33, 0, 33, 51, 72, 94, 118, 143, 169, 197, 225, 254."
      ]
    },
    {
      "cell_type": "code",
      "execution_count": null,
      "metadata": {
        "id": "IBLdD9supzKx"
      },
      "outputs": [],
      "source": [
        "import matplotlib.pyplot as plt\n",
        "\n",
        "valeurs_ajoutees = [-254, -225, -197, -169, -143, -118, -94, -72, -51, -33, 0, 33, 51, 72, 94, 118, 143, 169, 197, 225, 254]\n",
        "\n",
        "precisions = []\n",
        "loss = []\n",
        "\n",
        "for valeur_ajoutee in valeurs_ajoutees:\n",
        "    images_ajustees = ajuster_pixels(x_train, valeur_ajoutee)\n",
        "\n",
        "    # Entraînement du modèle sur les images ajustées\n",
        "    model.fit(images_ajustees, y_train, epochs=epochs, batch_size=batch_size, validation_split=0.2, verbose=0)\n",
        "\n",
        "    # Évaluation du modèle sur les données test\n",
        "    score = model.evaluate(x_test, y_test, verbose=0)\n",
        "\n",
        "    precisions.append(score[1])\n",
        "    loss.append(score[0])\n",
        "\n",
        "    # Possibilité de printer pendant l'exécution pour voir où on en est\n",
        "    print('Valeur ajoutée :',valeur_ajoutee)\n",
        "    print('Précision :', score[1], '(et loss :',score[0],')')\n",
        "\n",
        "# Représentation graphique de l'accuracy en fonction des valeurs ajoutées\n",
        "plt.plot(valeurs_ajoutees, precisions, marker='o')\n",
        "plt.title('Précision du modèle en fonction des valeurs ajoutées')\n",
        "plt.xlabel('Valeur ajoutée')\n",
        "plt.ylabel('Précision')\n",
        "plt.grid(True)\n",
        "plt.show()"
      ]
    }
  ],
  "metadata": {
    "colab": {
      "provenance": []
    },
    "kernelspec": {
      "display_name": "Python 3",
      "name": "python3"
    }
  },
  "nbformat": 4,
  "nbformat_minor": 0
}