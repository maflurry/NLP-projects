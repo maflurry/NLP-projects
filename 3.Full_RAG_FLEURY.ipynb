{
  "nbformat": 4,
  "nbformat_minor": 0,
  "metadata": {
    "colab": {
      "provenance": [],
      "gpuType": "T4"
    },
    "kernelspec": {
      "name": "python3",
      "display_name": "Python 3"
    },
    "language_info": {
      "name": "python"
    }
  },
  "cells": [
    {
      "cell_type": "code",
      "execution_count": null,
      "metadata": {
        "id": "YoG7Z6PRakCq",
        "collapsed": true
      },
      "outputs": [],
      "source": [
        "!pip install chromadb\n",
        "!pip install -U bitsandbytes\n",
        "!pip install llama-cpp-python\n",
        "!pip install rank_bm25 nltk"
      ]
    },
    {
      "cell_type": "markdown",
      "source": [
        "# Objectives\n",
        "\n",
        "Build a simple RAG for question answering based on a light quantized LLama3.2 1B model. The goal is to answer accuratly questions concerning Warhammer 40K rules.\n",
        "\n",
        "In order to simplify the workstream I already prepared the textual data in an additional notebook. As always, the parsing is not perfect and there can be some artifacts.\n",
        "\n",
        "## Evaluation\n",
        "\n",
        "The evaluation will be decomposed along the different componnents:\n",
        "- the LLM and prompting engine\n",
        "- the vector-DB/Approximate kNN\n",
        "- The overall quality of the full RAG function\n",
        "- the quality and readibility of the code.\n",
        "\n",
        "## Overview\n",
        "\n",
        "First we will import Llama 3.2 and try some templatting and chat with the model.\n",
        "\n",
        "Secondly, we will experiment with [ChromaDB](https://docs.trychroma.com/getting-started) and build a first RAG.\n",
        "\n",
        "Finally, we will be using the headers and BM25 to try and improve the retriever.\n",
        "\n",
        "# Imports"
      ],
      "metadata": {
        "id": "Woou6eQ-ti7y"
      }
    },
    {
      "cell_type": "code",
      "source": [
        "import chromadb # gérer des données de type embedding (vecteurs numériques)\n",
        "import json\n",
        "import uuid # pour générer des identifiants universels uniques (UUID). Pr garantir l’unicité d’un objet/enregistrement dans une base de données\n",
        "\n",
        "from llama_cpp import Llama\n",
        "from transformers import AutoModelForCausalLM, AutoTokenizer\n",
        "from jinja2 import Template # permet de générer du texte dynamique, comme des fichiers HTML, à partir de modèles avec des variables et des expressions Python.\n",
        "\n",
        "from rank_bm25 import BM25Okapi\n",
        "import nltk\n",
        "from nltk.corpus import stopwords\n",
        "from nltk.stem import SnowballStemmer\n",
        "nltk.download('stopwords')\n"
      ],
      "metadata": {
        "id": "OvJmaR5Z7MTw",
        "collapsed": true
      },
      "execution_count": null,
      "outputs": []
    },
    {
      "cell_type": "markdown",
      "source": [
        "# Large Language Model\n",
        "\n",
        "## CPU implementation\n",
        "\n",
        "Use the llama-cpp 'from_pretrained' function to import a LLM from the [\"bartowski/Llama-3.2-1B-Instruct-GGUF\"](https://huggingface.co/bartowski/Llama-3.2-1B-Instruct-GGUF) collection in the CPU.\n",
        "\n",
        "It can be used as a fallback if you're GPU credit is finished.\n",
        "\n",
        "**Clean the output and remove special tokens and the input prompt from the answer**"
      ],
      "metadata": {
        "id": "wXtY3uiahEhT"
      }
    },
    {
      "cell_type": "code",
      "source": [
        "\n",
        "llm = Llama.from_pretrained(\n",
        "    repo_id=\"bartowski/Llama-3.2-1B-Instruct-GGUF\",\n",
        "    filename=\"*Q8_0.gguf\",\n",
        "    verbose=False,\n",
        "    n_ctx=4096,\n",
        ")"
      ],
      "metadata": {
        "id": "3v2WV5rocFoM"
      },
      "execution_count": null,
      "outputs": []
    },
    {
      "cell_type": "markdown",
      "source": [
        "## Initial LLM experiments\n",
        "\n",
        "### Prompt Template\n",
        "Create a Jinja2 ``Template`` to add the llama 3.2 (same as llama 3.1) sepcial tokens in order to optionnaly set roles and wrap a user prompt."
      ],
      "metadata": {
        "id": "n_PcFlbricLt"
      }
    },
    {
      "cell_type": "code",
      "source": [
        "prompt_template = Template(\n",
        "    \"\"\"\n",
        "    <|begin_of_text|>\n",
        "    {% if role %}\n",
        "    <|start_header_id|>system<|end_header_id|> {{ role }} <|eot_id|>\n",
        "    <|start_header_id>user<|end_header_id>\n",
        "    {% endif %}\n",
        "    {% block task %}{{ input }}{% endblock %}\n",
        "    <|eot_id|>\n",
        "    <|start_header_id>assistant<|end_header_id|>\n",
        "    \"\"\"\n",
        ")"
      ],
      "metadata": {
        "id": "Vaxz8clU67-o"
      },
      "execution_count": null,
      "outputs": []
    },
    {
      "cell_type": "markdown",
      "source": [
        "### Play with the LLM\n",
        "\n",
        "Try to trigger different model behaviours by changing the role for a same question. For example, use the prompt  'tell me a joke !' with different roles."
      ],
      "metadata": {
        "id": "NGY-b6Pgi2LJ"
      }
    },
    {
      "cell_type": "code",
      "source": [
        "input = {'role':'you are a depressed clown' ,'input': 'tell me a joke !'}\n",
        "input_2 = {'role':'you are a clown for children' ,'input': 'tell me a joke !'}\n"
      ],
      "metadata": {
        "id": "TBxuNhng79hQ"
      },
      "execution_count": null,
      "outputs": []
    },
    {
      "cell_type": "code",
      "source": [
        "prompt = prompt_template.render(input_2)\n",
        "print(f\"Generated prompt:\\n{prompt}\\n\")\n",
        "\n",
        "response = llm.create_completion(prompt,max_tokens=256) # (help(llm.create_completion) to know which arguments can be expected)\n",
        "response"
      ],
      "metadata": {
        "id": "Dj8Zi-45Rf2Y",
        "colab": {
          "base_uri": "https://localhost:8080/"
        },
        "outputId": "98785bd1-f4bf-48b2-deae-4f536041dab4",
        "collapsed": true
      },
      "execution_count": null,
      "outputs": [
        {
          "output_type": "stream",
          "name": "stdout",
          "text": [
            "Generated prompt:\n",
            "\n",
            "    <|begin_of_text|>\n",
            "    \n",
            "    <|start_header_id|>system<|end_header_id|> you are a clown for children <|eot_id|>\n",
            "    <|start_header_id>user<|end_header_id>\n",
            "    \n",
            "    tell me a joke !\n",
            "    <|eot_id|>\n",
            "    <|start_header_id>assistant<|end_header_id|>\n",
            "    \n",
            "\n"
          ]
        },
        {
          "output_type": "execute_result",
          "data": {
            "text/plain": [
              "{'id': 'cmpl-f148288f-d4d9-43dc-a4af-621083819819',\n",
              " 'object': 'text_completion',\n",
              " 'created': 1733665743,\n",
              " 'model': '/root/.cache/huggingface/hub/models--bartowski--Llama-3.2-1B-Instruct-GGUF/snapshots/067b946cf014b7c697f3654f621d577a3e3afd1c/./Llama-3.2-1B-Instruct-Q8_0.gguf',\n",
              " 'choices': [{'text': \" hi there little buddy, want to hear a joke?\\n\\nokay! here's one: what do you call a fake noodle?\\n(wait for it...)\\n\\nan impasta!\\n\\nhehehe, did I make you laugh?\",\n",
              "   'index': 0,\n",
              "   'logprobs': None,\n",
              "   'finish_reason': 'stop'}],\n",
              " 'usage': {'prompt_tokens': 51, 'completion_tokens': 44, 'total_tokens': 95}}"
            ]
          },
          "metadata": {},
          "execution_count": 6
        }
      ]
    },
    {
      "cell_type": "markdown",
      "source": [
        "What do you think ?\n",
        "\n",
        "\n"
      ],
      "metadata": {
        "id": "kKQafvd_-GRZ"
      }
    },
    {
      "cell_type": "markdown",
      "source": [
        "**Answer**:  We indeed obtain a response that follows the principles and characteristics of jokes. We can adjust the length of the joke with max_tokens to get a short or longer one."
      ],
      "metadata": {
        "id": "6-_z1eB0Jpo6"
      }
    },
    {
      "cell_type": "markdown",
      "source": [
        "# Retriever"
      ],
      "metadata": {
        "id": "nRupn_MwAR6B"
      }
    },
    {
      "cell_type": "code",
      "source": [
        "import chromadb.utils.embedding_functions as embedding_functions"
      ],
      "metadata": {
        "id": "m43EsLN3CI3E"
      },
      "execution_count": null,
      "outputs": []
    },
    {
      "cell_type": "code",
      "source": [
        "client = chromadb.Client()\n",
        "stf_function = embedding_functions.SentenceTransformerEmbeddingFunction(model_name=\"all-MiniLM-L6-v2\")"
      ],
      "metadata": {
        "id": "vR5FLZ60_XKz"
      },
      "execution_count": null,
      "outputs": []
    },
    {
      "cell_type": "code",
      "source": [
        "collection = client.create_collection(name=\"warhammer_40k\",\n",
        "                                      metadata={\"hnsw:space\": \"cosine\"},\n",
        "                                      embedding_function=stf_function)"
      ],
      "metadata": {
        "id": "MG_pDO0oBi8p"
      },
      "execution_count": null,
      "outputs": []
    },
    {
      "cell_type": "code",
      "source": [
        "from google.colab import drive\n",
        "drive.mount('/content/drive')\n",
        "\n",
        "import os\n",
        "os.chdir('/content/drive/MyDrive/processed')\n",
        "print(os.getcwd())"
      ],
      "metadata": {
        "id": "kExgo0Lbl4Ff"
      },
      "execution_count": null,
      "outputs": []
    },
    {
      "cell_type": "code",
      "source": [
        "with open('chunks.json', 'r') as f:\n",
        "    chunks = json.load(f)\n",
        "\n",
        "# Check the different field of the JSON what do you think?\n",
        "\n",
        "chunks[0]"
      ],
      "metadata": {
        "id": "vqJldKIUCip5",
        "colab": {
          "base_uri": "https://localhost:8080/"
        },
        "outputId": "66e8d9fe-bdf2-4f48-bd82-9e6504ac9250"
      },
      "execution_count": null,
      "outputs": [
        {
          "output_type": "execute_result",
          "data": {
            "text/plain": [
              "{'id': None,\n",
              " 'metadata': {'Header 1': 'Core Rules'},\n",
              " 'page_content': \"'We are beset on all sides by vile predatory aliens and sedition gnaws at us from within; in this dark hour the best we can do is look to our wargear and pray to our gods.'\\n- Skolak a'Trellar IV, Imperial Commander  \\n200 STORE\",\n",
              " 'type': 'Document'}"
            ]
          },
          "metadata": {},
          "execution_count": 11
        }
      ]
    },
    {
      "cell_type": "markdown",
      "source": [
        "**Answer**: We have the fields \"id\", \"metadata\", \"page_content\" and \"type\". So the documents are a compatible format to ChromaDB, so we can add them to the collection."
      ],
      "metadata": {
        "id": "jMc0w7PqiWs-"
      }
    },
    {
      "cell_type": "code",
      "source": [
        "# Add the documents to the collection\n",
        "\n",
        "# Since we have only 'None' ids, we need to generate universally unique identifiers (UUID) (to ensure the unicity of an object in the db)\n",
        "ids = [str(uuid.uuid4()) for _ in chunks]\n",
        "print(ids)\n",
        "\n",
        "page_content = [chunk[\"page_content\"] for chunk in chunks]\n",
        "metadatas = [chunk[\"metadata\"] for chunk in chunks]\n",
        "\n",
        "collection.add(ids=ids, documents=page_content, metadatas=metadatas)"
      ],
      "metadata": {
        "id": "cyjNUrkOmgZJ"
      },
      "execution_count": null,
      "outputs": []
    },
    {
      "cell_type": "code",
      "source": [
        "collection.get()[\"metadatas\"][:5]"
      ],
      "metadata": {
        "colab": {
          "base_uri": "https://localhost:8080/"
        },
        "id": "maONeYs9zObW",
        "outputId": "b263ec1c-7158-417c-a409-e1c010b31d37"
      },
      "execution_count": null,
      "outputs": [
        {
          "output_type": "execute_result",
          "data": {
            "text/plain": [
              "[{'Header 1': 'Core Rules'},\n",
              " {'Header 1': 'Introduction'},\n",
              " {'Header 1': 'Introduction'},\n",
              " {'Header 1': 'Introduction', 'Header 2': 'Core Concepts (Pg 5-9)'},\n",
              " {'Header 1': 'Introduction', 'Header 2': 'The Battle Round (Pg 10-36)'}]"
            ]
          },
          "metadata": {},
          "execution_count": 44
        }
      ]
    },
    {
      "cell_type": "code",
      "source": [
        "question = \"What is a visible unit ?\"\n",
        "\n",
        "# Perform a query\n",
        "\n",
        "top_k = 5  # Nombre de documents les plus pertinents à récupérer\n",
        "\n",
        "# Requête au retriever\n",
        "results = collection.query(\n",
        "    query_texts=[question],\n",
        "    n_results=top_k  # Renvoie les top_k documents les plus pertinents\n",
        ")\n",
        "\n",
        "# Résultats\n",
        "# Parcourir chaque sous-liste dans results['documents']\n",
        "for i, document_group in enumerate(results['documents']):\n",
        "    print(f\"Document Group {i+1}:\\n\")\n",
        "    # Parcourir chaque document dans la sous-liste\n",
        "    for j, document in enumerate(document_group):\n",
        "        print(f\"  Document {j+1}:\\n{document}\\n\")"
      ],
      "metadata": {
        "colab": {
          "base_uri": "https://localhost:8080/"
        },
        "id": "fgNsHgeKhDIw",
        "outputId": "af2090bb-7d76-4868-db19-061dc764d53c"
      },
      "execution_count": null,
      "outputs": [
        {
          "output_type": "stream",
          "name": "stdout",
          "text": [
            "Document Group 1:\n",
            "\n",
            "  Document 1:\n",
            "- **Model Visible:** If any part of a model can be seen, it is visible.  \n",
            "- **Unit Visible:** If any model in a unit is visible, that model's unit is visible.  \n",
            "- **Model Fully Visible:** If every Warhammer 40,000 battles are fought across all manner of grim and perilous landscapes, often strewn with ruins, wreckage and other obstacles your forces must navigate while they fight.  \n",
            "#### - Unit Fully Visible: If Every Model In A Unit Is Fully Visible, That Unit Is\n",
            "\n",
            "  Document 2:\n",
            "- **Unit Fully Visible:** If every model in a unit is fully visible, that unit is fully visible.  \n",
            "#### Hints And Tips  \n",
            "Dice Rolling\n",
            "\n",
            "  Document 3:\n",
            "MODEL FULLY VISIBLE\n",
            "If every part of another model that is facing the observing model can be seen from any part of the observing model, then that other model is said Every Warhammer 40,000 unit has a datasheet, reflecting the characteristics and abilities they can draw upon in battle.  \n",
            "Unit Visible  \n",
            "#### Has Line Of Sight To All Parts Of The Other Model That Are Facing It, Without Any Other Models Or Terrain Features Blocking Visibility To Any Of Those Parts. Unit Fully Visible\n",
            "\n",
            "  Document 4:\n",
            "If every model in a unit is fully visible to an observing model, then that unit is fully visible to that observing model. For the purposes of determining if an enemy unit is One model in this unit is visible, meaning the unit is visible.  \n",
            "From well-timed Strategic Reserves to deftly executed Stratagems, gifted generals make use of all the tactical advantages at their disposal.  \n",
            "Model Fully Visible  \n",
            "#### Unit It Is Observing.\n",
            "\n",
            "  Document 5:\n",
            "#### Model Fully Visible  \n",
            "If every part of another model that is facing the observing model can be seen from any part of the observing model, then that other model is said to be fully visible to the observing model, i.e. the observing model has line of sight to all parts of the other model that are facing it, without any other models or terrain features blocking visibility to any of those parts.  \n",
            "#### Unit Fully Visible  \n",
            "If every model in a unit is fully visible to an observing model, then that unit is fully visible to that observing model. For the purposes of determining if an enemy unit is fully visible, an observing model can see through other models in the unit it is observing.  \n",
            "- **Model Visible:** If any part of a model can be seen, it is visible.  \n",
            "- **Unit Visible:** If any model in a unit is visible, that model's unit is visible.  \n",
            "- **Model Fully Visible:** If every facing part of a model can be seen, it is fully visible.\n",
            "\n"
          ]
        }
      ]
    },
    {
      "cell_type": "markdown",
      "source": [
        "Create a retrieval function wrapping the ChromaDB query and returning an adapted format."
      ],
      "metadata": {
        "id": "loMw0Bv0EunN"
      }
    },
    {
      "cell_type": "code",
      "source": [
        "def retrieve(question, n_results=5):\n",
        "  results = collection.query(\n",
        "    query_texts=[question],\n",
        "    n_results=n_results # Renvoie les n_results documents les plus pertinents\n",
        ")\n",
        "  # Extract documents and ids\n",
        "  documents = results['documents'][0]  # First item, as query_texts has only one element\n",
        "  #ids = results['ids'][0]             # Same for ids\n",
        "  headers = results['metadatas'][0]\n",
        "\n",
        "  # Format the output\n",
        "  formatted_results = []\n",
        "  for doc_header, doc_text in zip(headers, documents):\n",
        "    formatted_results.append({\n",
        "            \"header\": doc_header,\n",
        "            \"text\": doc_text\n",
        "        })\n",
        "\n",
        "  return formatted_results # return texts and associated headers"
      ],
      "metadata": {
        "id": "71Lu8EiWFAr5"
      },
      "execution_count": null,
      "outputs": []
    },
    {
      "cell_type": "code",
      "source": [
        "retrieve('What is the goal of the game?') # another example"
      ],
      "metadata": {
        "id": "s7iHkACRvyby"
      },
      "execution_count": null,
      "outputs": []
    },
    {
      "cell_type": "markdown",
      "source": [
        "## Rag template\n",
        "\n",
        "Create a RAG template in Jinja"
      ],
      "metadata": {
        "id": "KtRvx_u6jpZT"
      }
    },
    {
      "cell_type": "code",
      "source": [
        "# Fill it, use if and for blocks\n",
        "\n",
        "rag_template = Template(\n",
        "    \"\"\"\n",
        "    <|begin_of_text|>\n",
        "\n",
        "    <|start_header_id|>system<|end_header_id|>\n",
        "    {% if role %}\n",
        "    <|start_header_id|>role<|end_header_id|>\n",
        "    {{ role }}\n",
        "    <|eot_id|>\n",
        "    {% endif %}\n",
        "\n",
        "    Context:\n",
        "    {% if chunks %}\n",
        "    {% for chunk in chunks %}\n",
        "    {{' '.join(chunk['header'].values())}}\n",
        "    Text: {{chunk['text']}}\n",
        "    {% endfor %}\n",
        "    <|eot_id|>\n",
        "    {% endif %}\n",
        "\n",
        "    <|start_header_id|>user<|end_header_id|>\n",
        "    Question: {{question}}\n",
        "    <|eot_id|>\n",
        "\n",
        "    <|start_header_id|>assistant<|end_header_id|>\n",
        "    \"\"\"\n",
        ")"
      ],
      "metadata": {
        "id": "cDTuib5nkYrD"
      },
      "execution_count": null,
      "outputs": []
    },
    {
      "cell_type": "code",
      "source": [
        "print(rag_template.render(**{\n",
        "    'role': 'you are an experienced wargame player',\n",
        "    'question': \"What is a visible unit ?\",\n",
        "    'chunks':[{'header': {'header1':'toto'},'text':'ctx1'},{'header': {'header1':'tato', 'header2':'tato'},'text':'ctx2'},{'header': {'header1':'tato'}, 'text':'ctx3'}]\n",
        "}))"
      ],
      "metadata": {
        "id": "NSxlXM8HhKjF"
      },
      "execution_count": null,
      "outputs": []
    },
    {
      "cell_type": "markdown",
      "source": [
        "Createz a question that will create the prompt using the question and chunks."
      ],
      "metadata": {
        "id": "PzP5AKsRkCA3"
      }
    },
    {
      "cell_type": "code",
      "source": [
        "def prompt_generation(question, chunks):\n",
        "    return rag_template.render(question=question, chunks=chunks) # return the prompt"
      ],
      "metadata": {
        "id": "TKe-DnAykBYo"
      },
      "execution_count": null,
      "outputs": []
    },
    {
      "cell_type": "code",
      "source": [
        "retrieve(question)"
      ],
      "metadata": {
        "id": "4WriVGE5yAEu"
      },
      "execution_count": null,
      "outputs": []
    },
    {
      "cell_type": "code",
      "source": [
        "print(prompt_generation(question, retrieve(question)))"
      ],
      "metadata": {
        "id": "jLUqmJN2Fffc"
      },
      "execution_count": null,
      "outputs": []
    },
    {
      "cell_type": "markdown",
      "source": [
        "# Full Rag\n",
        "\n",
        "Create functions to perform the full RAG pipeline, you may create a function for the CPU and another one for the GPU."
      ],
      "metadata": {
        "id": "PvBFifq7F1h1"
      }
    },
    {
      "cell_type": "code",
      "source": [
        "question_0 = \"What is a visible unit ?\"\n",
        "question_1 = 'What are the limitations associated to the advance movement rule?'\n",
        "question_2 = 'Is there a stratagem that can be used to reroll a failed dice role?'\n",
        "question_3 = 'Explain the Comand Re-roll stratagem'"
      ],
      "metadata": {
        "id": "4yjRG9hqkwcR"
      },
      "execution_count": null,
      "outputs": []
    },
    {
      "cell_type": "code",
      "source": [
        "# fonction qui retourne une réponse générée suite à la question : la réponse rédigée est le premier élément du return de cette fonction\n",
        "def full_rag_cpu(question, n_results=4):\n",
        "  chunks = retrieve(question, n_results)\n",
        "  prompt = prompt_generation(question, chunks)\n",
        "  result = llm.create_completion(prompt,max_tokens=500,stop=None)\n",
        "  return result['choices'][0]['text'], result['choices'][0]\n",
        "# stop = 'None' pour désactiver les arrêts automatiques (éviter que le modèle s'arrête quand saut de ligne par exemple)"
      ],
      "metadata": {
        "id": "fHha3Bjg8NjI"
      },
      "execution_count": null,
      "outputs": []
    },
    {
      "cell_type": "markdown",
      "source": [
        "This is what we obtain:"
      ],
      "metadata": {
        "id": "yOYbQDbOAZPb"
      }
    },
    {
      "cell_type": "code",
      "source": [
        "# question_0\n",
        "print(full_rag_cpu(question_0, n_results=4)[0])"
      ],
      "metadata": {
        "colab": {
          "base_uri": "https://localhost:8080/"
        },
        "id": "dWr0lgYuh4mP",
        "outputId": "9613a606-dd29-4739-947d-d5190004d63b"
      },
      "execution_count": null,
      "outputs": [
        {
          "output_type": "stream",
          "name": "stdout",
          "text": [
            " A visible unit is a model that is fully visible from any part of another model that is facing it, without any other models or terrain features blocking visibility to any of those parts.\n"
          ]
        }
      ]
    },
    {
      "cell_type": "code",
      "source": [
        "# question_1\n",
        "print(full_rag_cpu(question_1, n_results=4)[0])"
      ],
      "metadata": {
        "colab": {
          "base_uri": "https://localhost:8080/"
        },
        "id": "zD_lDCT6wdD6",
        "outputId": "c5d299fd-df68-4317-8ba2-396dd5ac0518"
      },
      "execution_count": null,
      "outputs": [
        {
          "output_type": "stream",
          "name": "stdout",
          "text": [
            " The limitations associated with the Advance movement rule in the Movement Phase of the Warhammer 40,000 rules are:\n",
            "\n",
            "1.  Models can make an Advance move, but they cannot move within Engagement Range of any enemy models.\n",
            "2.  A unit cannot shoot or declare a charge in the same turn that it Advances.\n",
            "3.  Models that Advance cannot shoot or charge this turn.\n",
            "4.  Models that Advance can move up to M+D6, where M is the model's Movement characteristic and D6 is the result of the roll.\n",
            "5.  Models that Advanced cannot move within Engagement Range of any enemy models.\n",
            "6.  A unit cannot Consolidate, which means it cannot move towards the closest enemy model, in base-to-base contact with an enemy model if possible.\n"
          ]
        }
      ]
    },
    {
      "cell_type": "code",
      "source": [
        "# question_2\n",
        "print(full_rag_cpu(question_2, n_results=4)[0])"
      ],
      "metadata": {
        "colab": {
          "base_uri": "https://localhost:8080/"
        },
        "id": "Y2LLdJ2MwoRi",
        "outputId": "0225a796-6c6e-44ee-99e9-37211bbb136e"
      },
      "execution_count": null,
      "outputs": [
        {
          "output_type": "stream",
          "name": "stdout",
          "text": [
            "\n",
            "\n",
            "\n",
            "    There isn't a specific stratagem that is universally accepted for rerolling a failed dice roll. The core concept in most games is that a failed dice roll is a loss and is usually not re-rolled. However, some games have house rules or modifications to this rule, allowing for the possibility of re-rolling a failed dice roll, as mentioned in the Core Concepts Determining Visibility section of the Warhammer 40k rules.\n"
          ]
        }
      ]
    },
    {
      "cell_type": "code",
      "source": [
        "# question_3\n",
        "print(full_rag_cpu(question_3, n_results=4)[0])"
      ],
      "metadata": {
        "colab": {
          "base_uri": "https://localhost:8080/"
        },
        "id": "FYef8tigwsFd",
        "outputId": "7d70bd90-f8f4-4fa9-e3bf-4e6b8d8125ef"
      },
      "execution_count": null,
      "outputs": [
        {
          "output_type": "stream",
          "name": "stdout",
          "text": [
            " The Command Re-roll stratagem is a rule in wargames and skirmish games that allows a player to re-roll dice rolls that were made by their unit, especially those that were made by adding several dice together. Here's a more detailed explanation:\n",
            "\n",
            "**General Rules:**\n",
            "\n",
            "* A re-roll is only applicable if the original roll was made by adding multiple dice together (e.g. 2D6).\n",
            "* Re-rolls happen before any modifiers are applied.\n",
            "* A re-roll can be used as many times as the number of dice were added together.\n",
            "\n",
            "**When to use a Command Re-roll:**\n",
            "\n",
            "* After a successful roll (Hit, Wound, Damage, saving throw, etc.).\n",
            "* After a critical hit or critical failure (e.g. 1D6 for a critical hit, or 1D6 + 1 for a critical failure).\n",
            "* After a successful initiative roll (for some games).\n",
            "\n",
            "**How to use a Command Re-roll:**\n",
            "\n",
            "* Pay the required number of CP (Command Points) to use the stratagem.\n",
            "* The CP cost is usually listed on the stratagem.\n",
            "* The same stratagem cannot be used more than once in the same phase.\n",
            "* The stratagem can be used as many times as the number of dice were added together, but it cannot be used more than once in the same phase.\n",
            "\n",
            "**Example:**\n",
            "\n",
            "Let's say a player is playing a game where they have 2D6 and 1D6, and they add them together to roll a 6 (2 + 4). To use a Command Re-roll, they need to pay 2CP to use this stratagem. Once they pay the CP, they can re-roll the 2D6 roll as many times as the number 6 was added together (which is 6). In this case, they could re-roll the 2D6 roll 2 times, resulting in 4 and 2.\n",
            "\n",
            "Keep in mind that the specific rules for Command Re-rolls can vary depending on the game being played, so it's essential to check the specific rules and regulations for the game you are playing.\n"
          ]
        }
      ]
    },
    {
      "cell_type": "markdown",
      "source": [
        "# Adding a reranker\n",
        "The results Might not be satisfactory for some questions.\n",
        "\n",
        "In order to better use the header extraction, we will rerank the chunks using BM25 over the headers."
      ],
      "metadata": {
        "id": "flMmij9HWBTB"
      }
    },
    {
      "cell_type": "code",
      "source": [
        "stopwords_en = stopwords.words('english')\n",
        "stemmer = SnowballStemmer(\"english\")\n",
        "def metadata_preprocessing(metadata):\n",
        "    preprocessed_metadata = []\n",
        "    for key, value in metadata.items():\n",
        "        text = f\"{key} {value}\"\n",
        "        tokens = text.lower().split()\n",
        "        tokens = [stemmer.stem(token) for token in tokens if token not in stopwords_en]\n",
        "        preprocessed_metadata.append(\" \".join(tokens))\n",
        "    return preprocessed_metadata # preprocessed headers\n",
        "\n",
        "def query_preprocessing(query):\n",
        "    return \" \".join([stemmer.stem(token) for token in query.lower().split() if token not in stopwords_en]) # preprocessed queries"
      ],
      "metadata": {
        "id": "9TW-taRDMzsD"
      },
      "execution_count": null,
      "outputs": []
    },
    {
      "cell_type": "code",
      "source": [
        "from rank_bm25 import BM25Okapi\n",
        "\n",
        "def rerank_chunks(question, chunks, n_results=5):\n",
        "    # Extract headers from chunks\n",
        "    headers = [chunk['header'] for chunk in chunks]\n",
        "    # Preprocess the headers and the query\n",
        "    preprocessed_headers = [metadata_preprocessing(header) for header in headers]\n",
        "    preprocessed_query = query_preprocessing(question)\n",
        "\n",
        "    # Flatten preprocessed headers for BM25\n",
        "    tokenized_headers = [' '.join(header).split() for header in preprocessed_headers]\n",
        "    tokenized_query = preprocessed_query.split()\n",
        "\n",
        "    # Initialize BM25\n",
        "    bm25 = BM25Okapi(tokenized_headers)\n",
        "\n",
        "    # Rank scores\n",
        "    scores = bm25.get_scores(tokenized_query)\n",
        "\n",
        "    # Sort chunks based on BM25 scores, include scores with chunks\n",
        "    sorted_chunks = [(score, chunk) for score, chunk in sorted(zip(scores, chunks), key=lambda x: x[0], reverse=True)]\n",
        "\n",
        "    return sorted_chunks[:n_results]  # Return top-n results with scores\n"
      ],
      "metadata": {
        "id": "KS90kln0aZnO"
      },
      "execution_count": null,
      "outputs": []
    },
    {
      "cell_type": "code",
      "source": [
        "retrieved_chunks = retrieve(question_2, n_results=100)\n",
        "reranked_chunks = rerank_chunks(question_2, retrieved_chunks, n_results=10)\n",
        "for rr_chk in reranked_chunks:\n",
        "    print('score: {}'.format(rr_chk[0]))\n",
        "    print('header: {}'.format('#'.join(rr_chk[1]['header'].values())))\n",
        "    print('text: {}'.format(rr_chk[1]['text']))\n",
        "    print('-'*100)"
      ],
      "metadata": {
        "id": "DgzJY-EHaZ05",
        "colab": {
          "base_uri": "https://localhost:8080/"
        },
        "outputId": "8e9beb49-e988-409a-a9f2-ecf4b47c2db8"
      },
      "execution_count": null,
      "outputs": [
        {
          "output_type": "stream",
          "name": "stdout",
          "text": [
            "score: 3.107509213049174\n",
            "header: Core Concepts#Dice\n",
            "text: #### Re-Rolls  \n",
            "Some rules allow you to re-roll a dice roll, which means you get to roll some or all of the dice again. If a rule allows you to re-roll a dice roll that was made by adding several dice together (e.g. 2D6, 3D6, etc.) then, unless otherwise stated, you must re-roll all of those dice again. You can never re-roll a dice more than once, and re-rolls happen before modifiers (if any) are applied. Rules that refer to the value of an 'unmodified' dice roll are referring to the dice result after any re-rolls, but before any modifiers are applied.  \n",
            "- **Unmodified Dice**: the result after re-rolls, but before any modifiers.  \n",
            "- A dice can never be re-rolled more than once. - You must re-roll all dice if several need adding together\n",
            "(e.g. 2D6).  \n",
            "- Re-rolls are applied before any modifiers.  \n",
            "#### Roll-Offs\n",
            "----------------------------------------------------------------------------------------------------\n",
            "score: 3.107509213049174\n",
            "header: Core Concepts#Dice\n",
            "text: #### Roll-Offs  \n",
            "Some rules instruct players to roll off. To do so, both players roll one D6, and whoever scores highest wins the roll-off. If there is a tie for the highest roll, roll off again. Neither player is allowed to re-roll or modify any of the D6 when making a roll-off.\n",
            "----------------------------------------------------------------------------------------------------\n",
            "score: 3.107509213049174\n",
            "header: Core Concepts#Dice\n",
            "text: In order to fight a battle, you will require some six-sided dice (often abbreviated to D6). Some rules refer to 2D6, 3D6 and so on - in such cases, roll that many D6 and add the results together. If a rule requires you to roll a D3, roll a D6 and halve the result (rounding up to a whole number) to get the D3 result, as shown below.  \n",
            "| ROLLING A D3   |           |\n",
            "|----------------|-----------|\n",
            "| DICE RESULT    | D3 RESULT |\n",
            "| or             | 1         |\n",
            "| or             | 2         |\n",
            "| or             | 3         |  \n",
            "If a rule requires a dice roll of, for example, 3 or more, this is often abbreviated to 3+. Where several consecutive dice results are relevant to a rule, these are often shown as a range (e.g. 1-3).  \n",
            "#### Re-Rolls\n",
            "----------------------------------------------------------------------------------------------------\n",
            "score: 2.9296708499697774\n",
            "header: Stratagems\n",
            "text: BATTLE TACTIC: These Stratagems bolster a unit's efficacy in battle, boosting their attacks or defensive capabilities at a critical moment.  \n",
            "EPIC DEED: These Stratagems are used by individual models or units to perform mighty feats of heroism.  \n",
            "STRATEGIC PLOY: These Stratagems enable units to gain new strategic insights, granting them a small but valuable window of opportunity.  \n",
            "WARGEAR: These Stratagems represent the effects of using specialised items of equipment in battle.  \n",
            "#### Command Re-Roll  \n",
            "CORE - BATTLE TACTIC STRATAGEM\n",
            "A great commander can bend even the vagaries of fate and fortune to their will, the better to ensure victory.  \n",
            "1CP 2CP\n",
            "----------------------------------------------------------------------------------------------------\n",
            "score: 2.9296708499697774\n",
            "header: Stratagems\n",
            "text: Command points can be spent during the battle to use Stratagems. All players can use the Core Stratagems presented here. Additional Stratagems can be found in Codexes and other publications.  \n",
            "When you use a Stratagem, reduce your CP total by the amount listed on that Stratagem. If you do not have enough CP for a specific Stratagem, you cannot use it. You can use the same Stratagem multiple times during a battle, but you cannot use the same Stratagem more than once in the same phase.  \n",
            "- To use a Stratagem you must pay the CP specified.  \n",
            "- The same Stratagem cannot be used more than once in the same phase.  \n",
            "#### Stratagems Key  \n",
            "EITHER PLAYER'S TURN YOUR TURN OPPONENT'S TURN  \n",
            "#### Stratagem Categories  \n",
            "Each Stratagem belongs to one of four categories, as described below. There are some rules (especially in Crusade games) that interact with Stratagems of a particular category.\n",
            "----------------------------------------------------------------------------------------------------\n",
            "score: 2.9296708499697774\n",
            "header: Stratagems\n",
            "text: 1CP 2CP\n",
            "WHEN: In any phase, just after you have made a Hit roll, a Wound roll, a Damage roll, a saving throw, an Advance roll, a Charge roll, a Desperate Escape test, a Hazardous test, or just after you have rolled the dice to determine the number of attacks made with a weapon, for an attack, model or unit from your army. EFFECT: You re-roll that roll, test or saving throw.  \n",
            "#### Counter-Offensive  \n",
            "CORE - STRATEGIC PLOY STRATAGEM\n",
            "In close-quarters combat, the slightest hesitation can leave an opening for a swift foe to exploit.  \n",
            "WHEN: Fight phase, just after an enemy unit has fought. TARGET: One unit from your army that is within Engagement Range of one or more enemy units and that has not already been selected to fight this phase. EFFECT: Your unit fights next.  \n",
            "#### Epic Challenge  \n",
            "CORE - EPIC DEED STRATAGEM\n",
            "The legends of the 41st Millennium are replete with deadly duels between mighty champions.  \n",
            "1CP\n",
            "----------------------------------------------------------------------------------------------------\n",
            "score: 2.9296708499697774\n",
            "header: Stratagems\n",
            "text: RESTRICTIONS: You cannot use this Stratagem to enable a unit to arrive on the battlefield during a battle round it would not normally be able to do so in.  \n",
            "#### Fire Overwatch  \n",
            "CORE - STRATEGIC PLOY STRATAGEM\n",
            "A hail of wildfire can drive back advancing foes.  \n",
            "WHEN: Your opponent's Movement or Charge phase, just after an enemy unit is set up or when an enemy unit starts or ends a Normal, Advance, Fall Back or Charge move. TARGET: One unit from your army that is within 24\" of that enemy unit and that would be eligible to shoot if it were your Shooting phase.  \n",
            "EFFECT: Your unit can shoot that enemy unit as if it were your Shooting phase. RESTRICTIONS: Until the end of the phase, each time a model in your unit makes a ranged attack, an unmodified Hit roll of 6 is required to score a hit, irrespective of the attacking weapon's Ballistic Skill or any modifiers. You can only use this Stratagem once per turn.  \n",
            "#### Go To Ground  \n",
            "CORE - BATTLE TACTIC STRATAGEM\n",
            "1CP\n",
            "----------------------------------------------------------------------------------------------------\n",
            "score: 2.9296708499697774\n",
            "header: Stratagems\n",
            "text: CORE - WARGEAR STRATAGEM\n",
            "Priming their hand-held projectiles, these warriors draw back and hurl death into the enemy's midst.  \n",
            "1CP\n",
            "WHEN: Your Shooting phase. TARGET: One **Grenades** unit from your army that is not within Engagement Range of any enemy units and has not been selected to shoot this phase. EFFECT: Select one enemy unit that is not within Engagement Range of any units from your army and is within 8\" of and visible to your **Grenades** unit. Roll six D6: for each 4+, that enemy unit suffers 1 mortal wound.  \n",
            "#### Tank Shock  \n",
            "CORE - STRATEGIC PLOY STRATAGEM\n",
            "1CP\n",
            "Ramming the foe with a speeding vehicle may be an unsubtle tactic, but it is a murderously effective one.  \n",
            "WHEN: Your Charge phase.\n",
            "----------------------------------------------------------------------------------------------------\n",
            "score: 2.9296708499697774\n",
            "header: Stratagems\n",
            "text: WHEN: Your Charge phase.  \n",
            "TARGET: One **Vehicle** unit from your army. EFFECT: Until the end of the phase, after your unit ends a Charge move, select one enemy unit within Engagement Range of it, then select one melee weapon your unit is equipped with. Roll a number of D6 equal to that weapon's Strength characteristic. If that Strength characteristic is greater than that enemy unit's Toughness characteristic, roll two additional D6. For each 5+, that enemy unit suffers 1 mortal wound (to a maximum of 6 mortal wounds).  \n",
            "#### Rapid Ingress  \n",
            "CORE - STRATEGIC PLOY STRATAGEM\n",
            "1CP\n",
            "Be it cunning strategy, potent technology or supernatural ritual, there are many means by which a commander may hasten their warriors' onset. WHEN: End of your opponent's Movement phase. TARGET: One unit from your army that is in Reserves. EFFECT: Your unit can arrive on the battlefield as if it were the Reinforcements step of your Movement phase.\n",
            "----------------------------------------------------------------------------------------------------\n",
            "score: 2.9296708499697774\n",
            "header: Stratagems\n",
            "text: 1CP\n",
            "WHEN: Fight phase, when a **Character** unit from your army that is within Engagement Range of one or more Attached units is selected to fight.  \n",
            "TARGET: One **Character** model in your unit. EFFECT: Until the end of the phase, all melee attacks made by that model have the **[PRECISION]** ability (pg 26).  \n",
            "#### Insane Bravery  \n",
            "CORE - EPIC DEED STRATAGEM\n",
            "1CP\n",
            "Indifferent to their own survival, these warriors hold their ground against seemingly impossible odds.  \n",
            "WHEN: Battle-shock step of your Command phase, just after you have failed a Battle-shock test taken for a unit from your army (pg 11). TARGET: The unit from your army that Battle-shock test was just taken for (even though your Battle-shocked units cannot normally be affected by your Stratagems).  \n",
            "EFFECT: Your unit is treated as having passed that test instead, and is not Battle-shocked as a result.  \n",
            "1CP  \n",
            "#### Grenade  \n",
            "CORE - WARGEAR STRATAGEM\n",
            "----------------------------------------------------------------------------------------------------\n"
          ]
        }
      ]
    },
    {
      "cell_type": "code",
      "source": [
        "question_3 = 'Explain the Comand Re-roll stratagem'\n",
        "retrieved_chunks = retrieve(question_3, n_results=100)\n",
        "reranked_chunks = rerank_chunks(question_3, retrieved_chunks, n_results=10)\n",
        "for rr_chk in reranked_chunks:\n",
        "    print('score: {}'.format(rr_chk[0]))\n",
        "    print('header: {}'.format('#'.join(rr_chk[1]['header'].values())))\n",
        "    print('text: {}'.format(rr_chk[1]['text']))\n",
        "    print('-'*100)"
      ],
      "metadata": {
        "id": "dT-rCxncaZgf"
      },
      "execution_count": null,
      "outputs": []
    },
    {
      "cell_type": "markdown",
      "source": [
        "## RAG with reranker"
      ],
      "metadata": {
        "id": "Ho5kRgfVZnn6"
      }
    },
    {
      "cell_type": "code",
      "source": [
        "def full_rag_reranker(question, n_results=5):\n",
        "    # Retrieve chunks\n",
        "    chunks = retrieve(question, n_results)\n",
        "    # Rerank chunks using BM25\n",
        "    ranked_chunks = rerank_chunks(question, chunks)\n",
        "    # Extract only the chunk dictionaries from ranked_chunks\n",
        "    ranked_chunks = [chunk[1] for chunk in ranked_chunks]  # Selecting the dictionary part of the tuple\n",
        "    # Generate prompt using top-ranked chunks\n",
        "    prompt = prompt_generation(question, ranked_chunks[:n_results])\n",
        "    # Query the LLM\n",
        "    results = llm.create_completion(prompt, max_tokens=700, stop = None)\n",
        "    return results['choices'][0]['text'] # full pipeline with renraker"
      ],
      "metadata": {
        "id": "KLjtbwIAZnHb"
      },
      "execution_count": null,
      "outputs": []
    },
    {
      "cell_type": "markdown",
      "source": [
        "Compare the generation from both pipeline (with and without reranker)\n",
        "\n",
        "What do you think ?"
      ],
      "metadata": {
        "id": "x2QWIdu4oDom"
      }
    },
    {
      "cell_type": "code",
      "source": [
        "# with reranker\n",
        "print(full_rag_reranker(question_2, n_results=4))"
      ],
      "metadata": {
        "colab": {
          "base_uri": "https://localhost:8080/"
        },
        "id": "TDR0NlalF8Xr",
        "outputId": "507f6ea2-2c60-4222-f4a8-179bba0a1a24"
      },
      "execution_count": null,
      "outputs": [
        {
          "output_type": "stream",
          "name": "stdout",
          "text": [
            "\n",
            "\n",
            "\n",
            "    \n",
            "\n",
            "\n",
            "    The answer is:\n",
            "\n",
            "    Yes, there are several stratagems that can be used to reroll a failed dice roll. Here are a few examples:\n",
            "\n",
            "\n",
            "    1. **Re-roll with a re-roll of a dice**: Many dice rules include a clause that allows you to re-roll a dice roll using the same dice, which means you get to roll another dice.\n",
            "\n",
            "    2. **Re-roll all dice with a re-roll of a dice**: Some rules include a clause that allows you to re-roll all dice made with a re-roll of a dice, such as 2D6 or 3D6.\n",
            "\n",
            "    3. **Re-roll a specific dice with a re-roll of a dice**: Some rules include a clause that allows you to re-roll a specific dice with a re-roll of a dice, such as 1D6.\n",
            "\n",
            "    4. **Re-roll a dice with a re-roll of a dice**: Some rules include a clause that allows you to re-roll a dice with a re-roll of a dice, such as 2D6 or 3D6.\n",
            "\n",
            "    5. **Use a different dice for re-rolling**: Some rules allow you to use a different dice for re-rolling, such as a D4 instead of a D6.\n",
            "\n",
            "    **Example**:\n",
            "\n",
            "    Let's say you rolled a 4 on a 2D6. According to the rules, you re-roll the 4. Now, let's say you roll another 4 on the same dice (same dice, same roll). According to the rules, you can re-roll the 4.\n",
            "\n",
            "    If the next roll is not successful, you can re-roll the original roll (4) again and re-roll the same dice.\n",
            "\n",
            "    This allows you to retry a failed dice roll, giving you more opportunities to succeed.\n",
            "\n",
            "   \n"
          ]
        }
      ]
    },
    {
      "cell_type": "code",
      "source": [
        "# without reranker\n",
        "print(full_rag_cpu(question_2, n_results=4)[0])"
      ],
      "metadata": {
        "colab": {
          "base_uri": "https://localhost:8080/"
        },
        "id": "-wG0I0msF-tO",
        "outputId": "562d638d-03b5-4e4f-b1be-598a62497554"
      },
      "execution_count": null,
      "outputs": [
        {
          "output_type": "stream",
          "name": "stdout",
          "text": [
            "\n",
            "\n",
            "\n",
            "Yes, there are several stratagems that can be used to reroll a failed dice roll in Warhammer 40,000. Here are a few examples:\n",
            "\n",
            "\n",
            "*   **Re-roll a failed die**: In some cases, the stratagem allows you to re-roll a failed die without using a special rule. This can be done by using the \"Roll for Initiate\" stratagem or the \"Re-roll a failed dice\" stratagem. These stratagems can be used to reroll a failed die in various situations, such as when a character is hit by an enemy's attack and fails to roll a critical hit or when a character attempts a skill check and fails.\n",
            "\n",
            "    *   **Re-roll a failed dice in combat**: If a character fails to roll a critical hit in combat, they can re-roll the dice to try again. If they succeed, they can use the re-roll to re-roll the dice again. If they fail to roll the dice again, they must attempt to re-roll it again.\n",
            "*   **Re-roll a failed skill check or ability check**: Some stratagems, such as the \"Roll for Initiate\" stratagem, can re-roll a failed skill check or ability check. This can be used to reroll a failed roll in various situations, such as when a character attempts a combat maneuver or a skill check.\n",
            "\n",
            "    *   **Roll for Initiate**: This stratagem allows you to re-roll a failed roll on a skill check, ability check, or any other ability check. You can use this stratagem to reroll a failed roll and try again.\n",
            "\n",
            "    *   **Re-roll a failed dice in a combat maneuver**: Some combat maneuvers, such as the \"Sneak Attack\" or \"Flanking Attack\" stratagems, allow you to re-roll a failed dice roll. You can use this stratagem to reroll a failed dice roll and try again.\n",
            "\n",
            "    *   **Re-roll a failed dice in a skill check or ability check**: Some skill checks and ability checks, such as \"Acrobatics\" or \"Perception\" checks, have a \"re-roll\" option. You can use this option to reroll a failed roll.\n",
            "\n",
            "    *   **Roll for Initiate**: This stratagem allows you to re-roll a failed roll on a skill check, ability check, or any other ability check. You can use this stratagem to reroll a failed roll and try again.\n",
            "\n",
            "    *\n"
          ]
        }
      ]
    },
    {
      "cell_type": "markdown",
      "source": [
        "Here we observe that the response with the reranker is more detailed and even includes examples to illustrate the concept."
      ],
      "metadata": {
        "id": "uUHbxa4lF_aC"
      }
    },
    {
      "cell_type": "code",
      "source": [
        "# question_3 with reranker\n",
        "print(full_rag_reranker(question_3, n_results=4))"
      ],
      "metadata": {
        "id": "Fj24vKheqKTa",
        "colab": {
          "base_uri": "https://localhost:8080/"
        },
        "outputId": "4e041d30-ad78-4290-fdc6-64765bb82b27"
      },
      "execution_count": null,
      "outputs": [
        {
          "output_type": "stream",
          "name": "stdout",
          "text": [
            "\n",
            "\n",
            "\n",
            "The Command Re-roll Stratagem is a powerful ability that allows a player to re-roll a dice roll, but with a twist. Here's how it works:\n",
            "\n",
            "\n",
            "**When:** The Command Re-roll Stratagem is used during the Battle phase, just after a player has made a Hit roll, Wound roll, Damage roll, saving throw, Advance roll, Charge roll, Desperate Escape test, or Hazardous test.\n",
            "**Categories:** It belongs to the \"Stratagems\" category.\n",
            "\n",
            "\n",
            "**Effect:** The player re-rolls the affected roll, test, or saving throw.\n",
            "\n",
            "**Key Points:**\n",
            "\n",
            "* The re-roll is applied immediately after the test or roll, not before any modifiers are applied.\n",
            "* The re-roll is done before any modifiers are applied to the result.\n",
            "* The re-roll is not done before re-rolls of dice are made (e.g. re-rolling 2D6 is allowed, but re-rolling a dice made by adding 2D6 together is not allowed).\n",
            "* The re-roll cannot be used after a saving throw that has already been made.\n",
            "* The same Stratagem cannot be used more than once in the same phase.\n",
            "\n",
            "In essence, the Command Re-roll Stratagem allows a player to correct an unexpected mistake or roll a critical hit, but only if they can afford the CP required to do so. If they don't have enough CP, they cannot use the Stratagem.\n"
          ]
        }
      ]
    },
    {
      "cell_type": "code",
      "source": [
        "# question_3 without reranker\n",
        "print(full_rag_cpu(question_3, n_results=4)[0])"
      ],
      "metadata": {
        "id": "DD1RCnFEqKQR",
        "colab": {
          "base_uri": "https://localhost:8080/"
        },
        "outputId": "cbcf6e47-1503-40a1-d3f9-a2bb7eca6c7f"
      },
      "execution_count": null,
      "outputs": [
        {
          "output_type": "stream",
          "name": "stdout",
          "text": [
            " The Command Re-roll Stratagem is a combat ability found in the core rules of Warhammer 40,000.\n",
            "\n",
            "**When:** It can be used during the fight phase.\n",
            "\n",
            "**Effect:** When you use a Command Re-roll Stratagem, you must re-roll the dice, test, or saving throw as required. The result of the re-roll is added to your total.\n",
            "\n",
            "**Restrictions:**\n",
            "\n",
            "*   You must use the Command Re-roll Stratagem at the same phase (just after an enemy unit has fought).\n",
            "*   The Command Re-roll Stratagem cannot be used if the re-roll is to test or a saving throw, unless the test or saving throw is also a Command Re-roll.\n",
            "*   You cannot re-roll a dice roll more than once.\n",
            "\n",
            "This allows you to re-roll a dice roll that was made by adding several dice together, or any re-roll that is part of a larger dice pool, as long as the re-roll is made in the same phase.\n"
          ]
        }
      ]
    },
    {
      "cell_type": "markdown",
      "source": [
        "Comparison: we see that we have a more precise first sentence with the reranker (we understand the core of the stratagem immediately with this first sentence, unlike the first sentence without the reranker), and there are more points detailed.\n",
        "\n",
        "Overall, the description is more detailed and clearer.\n",
        "\n",
        "So the reranking with BM25 helped to obtain results that are more relevant."
      ],
      "metadata": {
        "id": "CgHCvoAkBKew"
      }
    },
    {
      "cell_type": "markdown",
      "source": [
        "# Further application\n",
        "\n",
        "At this point, we created a single question/answer turn RAG. It can be usefull for some applications to allow conversations with documents. Modify the generation using [this example.](https://huggingface.co/docs/transformers/conversations)."
      ],
      "metadata": {
        "id": "M7s4lRyefmD2"
      }
    },
    {
      "cell_type": "code",
      "source": [
        "!pip install transformers"
      ],
      "metadata": {
        "id": "DKI3C1q7QfP-"
      },
      "execution_count": null,
      "outputs": []
    },
    {
      "cell_type": "code",
      "source": [
        "from transformers import AutoTokenizer, AutoModelForCausalLM\n",
        "import torch\n",
        "from rank_bm25 import BM25Okapi\n",
        "\n",
        "# Charger le tokenizer et le modèle DialoGPT\n",
        "tokenizer = AutoTokenizer.from_pretrained(\"microsoft/DialoGPT-medium\")\n",
        "model = AutoModelForCausalLM.from_pretrained(\"microsoft/DialoGPT-medium\")"
      ],
      "metadata": {
        "id": "mtKu5IoPUJCD"
      },
      "execution_count": null,
      "outputs": []
    },
    {
      "cell_type": "code",
      "source": [
        "def prompt_generation(question, chunks, conversation_history):\n",
        "    \"\"\"Generate the prompt for DialoGPT using conversation and chunks\"\"\"\n",
        "    context = \"\\n\".join([msg[\"text\"] for msg in conversation_history]) + \"\\n\"\n",
        "    # Limit the number of retrieved texts to prevent exceeding model's input size\n",
        "    retrieved_texts = \"\\n\".join([chunk[1][\"text\"] for chunk in chunks[:2]])  # Reduced to 2 chunks\n",
        "    prompt = f\"Context:\\n{context}\\nDocument Chunks:\\n{retrieved_texts}\\nUser's Query: {question}\\nAnswer:\"\n",
        "    return prompt\n",
        "\n",
        "def full_rag_conversation(question, conversation_history, n_results=5):\n",
        "    \"\"\"Complete pipeline for a RAG conversation with DialoGPT\"\"\"\n",
        "    retrieved_chunks = retrieve(question, n_results)  # Retrieve relevant chunks\n",
        "    reranked_chunks = rerank_chunks(question, retrieved_chunks, n_results)  # Re-rank chunks\n",
        "\n",
        "    prompt = prompt_generation(question, reranked_chunks, conversation_history)  # Generate the prompt\n",
        "\n",
        "    # Encode the prompt and generate the response with DialoGPT\n",
        "    inputs = tokenizer.encode(prompt + tokenizer.eos_token, return_tensors='pt', truncation=True) # Added truncation\n",
        "    response_ids = model.generate(inputs, max_new_tokens=256, pad_token_id=tokenizer.eos_token_id)\n",
        "\n",
        "    # Decode and return the response\n",
        "    response = tokenizer.decode(response_ids[0], skip_special_tokens=True)\n",
        "    return response.strip()\n",
        "\n",
        "def start_conversation():\n",
        "    \"\"\"Function to start a conversation with DialoGPT and the chunks\"\"\"\n",
        "    conversation_history = []\n",
        "\n",
        "    # Conversation loop example\n",
        "    while True:\n",
        "        question = input(\"User: \")\n",
        "\n",
        "        # Get the response and update conversation history\n",
        "        answer = full_rag_conversation(question, conversation_history)\n",
        "\n",
        "        # Add the question and answer to the conversation history\n",
        "        conversation_history.append({\"role\": \"user\", \"text\": question})\n",
        "        conversation_history.append({\"role\": \"assistant\", \"text\": answer})\n",
        "\n",
        "        print(f\"Assistant: {answer}\")\n",
        "\n",
        "# Start the conversation\n",
        "start_conversation()"
      ],
      "metadata": {
        "colab": {
          "base_uri": "https://localhost:8080/",
          "height": 1000
        },
        "id": "Pjb_aKNEVPDl",
        "outputId": "9e7d52ab-8969-4ed4-d5b6-bd63ba1cc3f8"
      },
      "execution_count": null,
      "outputs": [
        {
          "output_type": "stream",
          "name": "stdout",
          "text": [
            "User: What is the goal of the game?\n",
            "Assistant: Context:\n",
            "\n",
            "\n",
            "Document Chunks:\n",
            "#### End The Battle  \n",
            "Each mission will tell you when the battle ends. This will typically be after a set number of battle rounds have been completed, or when one player has achieved a certain victory condition.  \n",
            "DETERMINE VICTOR\n",
            "Each mission will tell you what you need to do in order to win the game. If neither player manages to achieve a victory then the game is considered to be a draw.  \n",
            "57\n",
            "Your units manoeuvre across the battlefield and reinforcements enter the fray.  \n",
            "SHOOTING PHASE\n",
            "Your units fire their ranged weapons at the foe.  \n",
            "CHARGE PHASE\n",
            "Your units charge forward to battle at close quarters.  \n",
            "Both players' units pile in and attack with melee weapons.  \n",
            "Once a player's turn has ended, their opponent then starts their turn. Once both players have completed a turn, the battle round has been completed and the next one begins, and so on, until the battle ends.  \n",
            "3 4 5\n",
            "User's Query: What is the goal of the game?\n",
            "Answer:\n",
            "User: What is the best strategy to win?\n",
            "Assistant: Context:\n",
            "What is the goal of the game?\n",
            "Context:\n",
            "\n",
            "\n",
            "Document Chunks:\n",
            "#### End The Battle  \n",
            "Each mission will tell you when the battle ends. This will typically be after a set number of battle rounds have been completed, or when one player has achieved a certain victory condition.  \n",
            "DETERMINE VICTOR\n",
            "Each mission will tell you what you need to do in order to win the game. If neither player manages to achieve a victory then the game is considered to be a draw.  \n",
            "57\n",
            "Your units manoeuvre across the battlefield and reinforcements enter the fray.  \n",
            "SHOOTING PHASE\n",
            "Your units fire their ranged weapons at the foe.  \n",
            "CHARGE PHASE\n",
            "Your units charge forward to battle at close quarters.  \n",
            "Both players' units pile in and attack with melee weapons.  \n",
            "Once a player's turn has ended, their opponent then starts their turn. Once both players have completed a turn, the battle round has been completed and the next one begins, and so on, until the battle ends.  \n",
            "3 4 5\n",
            "User's Query: What is the goal of the game?\n",
            "Answer:\n",
            "\n",
            "Document Chunks:\n",
            "Games of Warhammer 40,000 are won by scoring more Victory points than your opponent through achieving various objectives, from recovering vital relics to capturing enemy strongholds or eliminating the opposing Warlord. The game is played in a series of battle rounds, broken into different phases during which players move, shoot and fight with their miniatures.  \n",
            "In a game as wide-ranging as Warhammer 40,000, there may be times when you are not sure exactly how to resolve a situation that has come up during play. When this happens, have a quick chat with your opponent and apply the solution that makes the most sense to both of you (or seems the most fun!). If no single solution presents itself, you and your opponent should roll off, and whoever rolls highest gets to choose what happens. Then you can get on with the fighting!\n",
            "#### End The Battle  \n",
            "Each mission will tell you when the battle ends. This will typically be after a set number of battle rounds have been completed, or when one player has achieved a certain victory condition.  \n",
            "DETERMINE VICTOR\n",
            "Each mission will tell you what you need to do in order to win the game. If neither player manages to achieve a victory then the game is considered to be a draw.  \n",
            "57\n",
            "User's Query: What is the best strategy to win?\n",
            "Answer:\n"
          ]
        },
        {
          "output_type": "error",
          "ename": "KeyboardInterrupt",
          "evalue": "Interrupted by user",
          "traceback": [
            "\u001b[0;31m---------------------------------------------------------------------------\u001b[0m",
            "\u001b[0;31mKeyboardInterrupt\u001b[0m                         Traceback (most recent call last)",
            "\u001b[0;32m<ipython-input-166-9fd77d111c1f>\u001b[0m in \u001b[0;36m<cell line: 42>\u001b[0;34m()\u001b[0m\n\u001b[1;32m     40\u001b[0m \u001b[0;34m\u001b[0m\u001b[0m\n\u001b[1;32m     41\u001b[0m \u001b[0;31m# Start the conversation\u001b[0m\u001b[0;34m\u001b[0m\u001b[0;34m\u001b[0m\u001b[0m\n\u001b[0;32m---> 42\u001b[0;31m \u001b[0mstart_conversation\u001b[0m\u001b[0;34m(\u001b[0m\u001b[0;34m)\u001b[0m\u001b[0;34m\u001b[0m\u001b[0;34m\u001b[0m\u001b[0m\n\u001b[0m",
            "\u001b[0;32m<ipython-input-166-9fd77d111c1f>\u001b[0m in \u001b[0;36mstart_conversation\u001b[0;34m()\u001b[0m\n\u001b[1;32m     28\u001b[0m     \u001b[0;31m# Conversation loop example\u001b[0m\u001b[0;34m\u001b[0m\u001b[0;34m\u001b[0m\u001b[0m\n\u001b[1;32m     29\u001b[0m     \u001b[0;32mwhile\u001b[0m \u001b[0;32mTrue\u001b[0m\u001b[0;34m:\u001b[0m\u001b[0;34m\u001b[0m\u001b[0;34m\u001b[0m\u001b[0m\n\u001b[0;32m---> 30\u001b[0;31m         \u001b[0mquestion\u001b[0m \u001b[0;34m=\u001b[0m \u001b[0minput\u001b[0m\u001b[0;34m(\u001b[0m\u001b[0;34m\"User: \"\u001b[0m\u001b[0;34m)\u001b[0m\u001b[0;34m\u001b[0m\u001b[0;34m\u001b[0m\u001b[0m\n\u001b[0m\u001b[1;32m     31\u001b[0m \u001b[0;34m\u001b[0m\u001b[0m\n\u001b[1;32m     32\u001b[0m         \u001b[0;31m# Get the response and update conversation history\u001b[0m\u001b[0;34m\u001b[0m\u001b[0;34m\u001b[0m\u001b[0m\n",
            "\u001b[0;32m/usr/local/lib/python3.10/dist-packages/ipykernel/kernelbase.py\u001b[0m in \u001b[0;36mraw_input\u001b[0;34m(self, prompt)\u001b[0m\n\u001b[1;32m    849\u001b[0m                 \u001b[0;34m\"raw_input was called, but this frontend does not support input requests.\"\u001b[0m\u001b[0;34m\u001b[0m\u001b[0;34m\u001b[0m\u001b[0m\n\u001b[1;32m    850\u001b[0m             )\n\u001b[0;32m--> 851\u001b[0;31m         return self._input_request(str(prompt),\n\u001b[0m\u001b[1;32m    852\u001b[0m             \u001b[0mself\u001b[0m\u001b[0;34m.\u001b[0m\u001b[0m_parent_ident\u001b[0m\u001b[0;34m,\u001b[0m\u001b[0;34m\u001b[0m\u001b[0;34m\u001b[0m\u001b[0m\n\u001b[1;32m    853\u001b[0m             \u001b[0mself\u001b[0m\u001b[0;34m.\u001b[0m\u001b[0m_parent_header\u001b[0m\u001b[0;34m,\u001b[0m\u001b[0;34m\u001b[0m\u001b[0;34m\u001b[0m\u001b[0m\n",
            "\u001b[0;32m/usr/local/lib/python3.10/dist-packages/ipykernel/kernelbase.py\u001b[0m in \u001b[0;36m_input_request\u001b[0;34m(self, prompt, ident, parent, password)\u001b[0m\n\u001b[1;32m    893\u001b[0m             \u001b[0;32mexcept\u001b[0m \u001b[0mKeyboardInterrupt\u001b[0m\u001b[0;34m:\u001b[0m\u001b[0;34m\u001b[0m\u001b[0;34m\u001b[0m\u001b[0m\n\u001b[1;32m    894\u001b[0m                 \u001b[0;31m# re-raise KeyboardInterrupt, to truncate traceback\u001b[0m\u001b[0;34m\u001b[0m\u001b[0;34m\u001b[0m\u001b[0m\n\u001b[0;32m--> 895\u001b[0;31m                 \u001b[0;32mraise\u001b[0m \u001b[0mKeyboardInterrupt\u001b[0m\u001b[0;34m(\u001b[0m\u001b[0;34m\"Interrupted by user\"\u001b[0m\u001b[0;34m)\u001b[0m \u001b[0;32mfrom\u001b[0m \u001b[0;32mNone\u001b[0m\u001b[0;34m\u001b[0m\u001b[0;34m\u001b[0m\u001b[0m\n\u001b[0m\u001b[1;32m    896\u001b[0m             \u001b[0;32mexcept\u001b[0m \u001b[0mException\u001b[0m \u001b[0;32mas\u001b[0m \u001b[0me\u001b[0m\u001b[0;34m:\u001b[0m\u001b[0;34m\u001b[0m\u001b[0;34m\u001b[0m\u001b[0m\n\u001b[1;32m    897\u001b[0m                 \u001b[0mself\u001b[0m\u001b[0;34m.\u001b[0m\u001b[0mlog\u001b[0m\u001b[0;34m.\u001b[0m\u001b[0mwarning\u001b[0m\u001b[0;34m(\u001b[0m\u001b[0;34m\"Invalid Message:\"\u001b[0m\u001b[0;34m,\u001b[0m \u001b[0mexc_info\u001b[0m\u001b[0;34m=\u001b[0m\u001b[0;32mTrue\u001b[0m\u001b[0;34m)\u001b[0m\u001b[0;34m\u001b[0m\u001b[0;34m\u001b[0m\u001b[0m\n",
            "\u001b[0;31mKeyboardInterrupt\u001b[0m: Interrupted by user"
          ]
        }
      ]
    }
  ]
}