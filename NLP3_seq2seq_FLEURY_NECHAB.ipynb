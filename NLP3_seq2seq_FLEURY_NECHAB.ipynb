{
  "cells": [
    {
      "cell_type": "markdown",
      "metadata": {
        "id": "uTLyS0rZh9Ql"
      },
      "source": [
        "Goal\n",
        "==\n",
        "We are about to train a *sequence-to-sequence model* to predict a paragraph of Gustave Flaubert's *Madame Bovary* given the preceding paragraph.\n",
        "The model (at least in its first version) does not use words as units of text but characters.\n",
        "\n",
        "*   The encoder part, based on a bidirectional LSTM, reads an input paragraph and turns it into a set of tensors that serves as initial state for the decoder part.\n",
        "*   The decoder part is based on an (unidirectional) LSTM. The state of the LSTM is used to compute a probability distribution over the alphabet (including space and punctuation marks) and is updated each time a character is predicted by the LSTM reading this character's embedding.\n",
        "*   The goal is to get the best model. It is part of the job to define what this means. It is also part of the job to explain me how you get your best model."
      ]
    },
    {
      "cell_type": "markdown",
      "metadata": {
        "id": "ytOCVOAXoO2s"
      },
      "source": [
        "This is an assignment.\n",
        "==\n",
        "\n",
        "*   Work in groups of two or three students.\n",
        "*   Due date: December 9th (Monday), 23:59\n",
        "*   Malus: -1 per day of delay."
      ]
    },
    {
      "cell_type": "markdown",
      "metadata": {
        "id": "qZWD-p9yiECs"
      },
      "source": [
        "Loading PyTorch is important.\n",
        "=="
      ]
    },
    {
      "cell_type": "code",
      "execution_count": null,
      "metadata": {
        "id": "An16FNHuhZI1"
      },
      "outputs": [],
      "source": [
        "# Imports PyTorch.\n",
        "import torch"
      ]
    },
    {
      "cell_type": "markdown",
      "metadata": {
        "id": "b8IdgwKsx1P2"
      },
      "source": [
        "Remarks:\n",
        "==\n",
        "*   Follow the instructions very carefully. Do not ignore any comment.\n",
        "*   Keep in mind all remarks given in previous TPs.\n",
        "*   Comment your code (including the role of all functions and the type of their arguments). A piece of code not appropriately commented can be considered incorrect (irrespectively of whether it works or not).\n",
        "*   Indicate the shape of each tensor that you define.\n",
        "*   Document all the changes that you make. Any work that is not properly explained can be ignored."
      ]
    },
    {
      "cell_type": "markdown",
      "metadata": {
        "id": "TK2oBAYuiZPX"
      },
      "source": [
        "Downloading the dataset\n",
        "==\n",
        "The dataset we are going to use is there: https://www.gutenberg.org/cache/epub/14155/pg14155.txt\n",
        "\n",
        "We have to pre-process it a little bit in order to remove everything that is not part of the text and to split the actual text into paragraphs."
      ]
    },
    {
      "cell_type": "code",
      "execution_count": null,
      "metadata": {
        "id": "veOPiPCIlOOj"
      },
      "outputs": [],
      "source": [
        "use_toy_dataset = False # If True, a toy dataset (see below) is used, instead of the \"real\" one."
      ]
    },
    {
      "cell_type": "code",
      "execution_count": null,
      "metadata": {
        "colab": {
          "base_uri": "https://localhost:8080/"
        },
        "id": "0VXDpa1tiSfQ",
        "outputId": "ed1c767d-bc21-4d33-b561-97f6f8f5d0e8"
      },
      "outputs": [
        {
          "output_type": "stream",
          "name": "stdout",
          "text": [
            "/tmp/tmpnzh9vows\n"
          ]
        }
      ],
      "source": [
        "# Downloads the dataset.\n",
        "import urllib\n",
        "\n",
        "tmp = urllib.request.urlretrieve(\"https://www.gutenberg.org/cache/epub/14155/pg14155.txt\")\n",
        "filename = tmp[0]\n",
        "print(filename)"
      ]
    },
    {
      "cell_type": "code",
      "execution_count": null,
      "metadata": {
        "id": "bU4hirpsiWX2"
      },
      "outputs": [],
      "source": [
        "# Prints the first 200 lines in the file with their line number.\n",
        "# This shows that we have a little bit of preprocessing to do in order to clean the data.\n",
        "with open(filename, encoding='utf-8') as f:\n",
        "  for i in range(200):\n",
        "    print(f\"[{i}] {f.readline()}\", end='')"
      ]
    },
    {
      "cell_type": "code",
      "execution_count": null,
      "metadata": {
        "colab": {
          "base_uri": "https://localhost:8080/"
        },
        "id": "ctl4Z9Gti-6U",
        "outputId": "f1a7044c-fcc1-41de-d736-5b1c9ecb31f5"
      },
      "outputs": [
        {
          "output_type": "stream",
          "name": "stdout",
          "text": [
            "2995 paragraphs read.\n",
            "Nous étions à l'Étude, quand le Proviseur entra, suivi d'un nouveau habillé en bourgeois et d'un garçon de classe qui portait un grand pupitre. Ceux qui dormaient se réveillèrent, et chacun se leva comme surpris dans son travail.\n",
            "Le Proviseur nous fit signe de nous rasseoir; puis, se tournant vers le maître d'études:\n",
            "-- Monsieur Roger, lui dit-il à demi-voix, voici un élève que je vous recommande, il entre en cinquième. Si son travail et sa conduite sont méritoires, il passera dans les grands, où l'appelle son âge.\n"
          ]
        }
      ],
      "source": [
        "import re # Regular expression library\n",
        "roman_regex = re.compile('^M{0,4}(CM|CD|D?C{0,3})(XC|XL|L?X{0,3})(IX|IV|V?I{0,3})$') # This regular expression matches Roman numerals but also the empty string.\n",
        "\n",
        "EOP = '\\n' # The end-of-line character will be used to mark the end of paragraphs.\n",
        "\n",
        "with open(filename, encoding='utf-8') as f:\n",
        "  # We want to skip everything before the actual text of the novel.\n",
        "  # The line \"PREMIÈRE PARTIE\" appears twice: in the table of content and then at the start of the first part of the actual text.\n",
        "  # The following lines discard everything up to this second occurence (included).\n",
        "  skip = 2\n",
        "  while(skip > 0):\n",
        "    line = f.readline().strip()\n",
        "    if(line == \"PREMIÈRE PARTIE\"): skip -= 1;\n",
        "\n",
        "  paragraphs = [] # Note that each dialog line will be considered a separate paragraph.\n",
        "  paragraph_buffer = [] # List[str]; each element corresponds to a line in the original text file + an additonal space if necessary.\n",
        "  while(True):\n",
        "    line = f.readline().strip()\n",
        "    if(\"END OF THE PROJECT GUTENBERG EBOOK MADAME BOVARY\" in line): break # End of the actual text.\n",
        "\n",
        "    if(line == \"\"): # We've reached the end of a paragraph.\n",
        "      if(len(paragraph_buffer) > 0):\n",
        "        paragraph_buffer.append(EOP) # End of the paragraph.\n",
        "\n",
        "        paragraph = \"\".join(paragraph_buffer) # The different lines that make up the paragraph are joined into a single string.\n",
        "        paragraphs.append(paragraph)\n",
        "        paragraph_buffer = []\n",
        "      continue\n",
        "\n",
        "    if(roman_regex.match(line)): continue # Ignores the lines that indicate the beginning of a chapter.\n",
        "    if(line.endswith(\" PARTIE\")): continue # Ignores the lines that indicate the beginning of a part.\n",
        "\n",
        "    if((len(paragraph_buffer) > 0) and (paragraph_buffer[-1][-1] != '-')): paragraph_buffer.append(' ') # Adds a space between consecutive lines except when the first one ends with \"-\" (e.g. if the word \"pomme-de-terre\" is split with \"pomme-de-\" at the end of a line and \"terre\" at the beginning of the next, we do not want to join the two lines with a space).\n",
        "    paragraph_buffer.append(line)\n",
        "\n",
        "print(f\"{len(paragraphs)} paragraphs read.\")\n",
        "for i in range(3): print(paragraphs[i], end='')"
      ]
    },
    {
      "cell_type": "markdown",
      "metadata": {
        "id": "QZttAP5uj6y2"
      },
      "source": [
        "Here, we define a toy dataset on which your model, if correctly implemented, should be able to learn more easily."
      ]
    },
    {
      "cell_type": "code",
      "execution_count": null,
      "metadata": {
        "id": "28V5KvT6jUFA"
      },
      "outputs": [],
      "source": [
        "if(use_toy_dataset):\n",
        "  paragraphs = []\n",
        "\n",
        "  import random, string\n",
        "  characters = list(string.ascii_lowercase + string.ascii_lowercase.upper() + \"_-/\\'[]()\")\n",
        "  random.shuffle(characters)\n",
        "  k = random.randint(1, 10)\n",
        "  a = \"a\"\n",
        "  paragraph = (a * k)\n",
        "  for _ in range(100):\n",
        "    random.shuffle(characters)\n",
        "    for a in characters:\n",
        "      k = random.randint(1, 16)\n",
        "      paragraph += f\"? Now, please write {k} {a}.{EOP}\"\n",
        "      paragraphs.append(paragraph)\n",
        "      paragraph = (a * k)\n",
        "  print(f\"{len(paragraphs)} paragraphs generated.\")\n",
        "\n",
        "  print(paragraphs[:10])"
      ]
    },
    {
      "cell_type": "code",
      "execution_count": null,
      "metadata": {
        "id": "PAn1SqQE1Hr-"
      },
      "outputs": [],
      "source": [
        "import collections\n",
        "import numpy as np\n",
        "\n",
        "# Computes the frequency of all characters in the dataset.\n",
        "char_counts = collections.defaultdict(int)\n",
        "for paragraph in paragraphs:\n",
        "  for char in paragraph: char_counts[char] += 1\n",
        "\n",
        "print(f\"{len(char_counts)} different characters found in the dataset.\")\n",
        "print(sorted(char_counts.items(), key=(lambda x: x[1]), reverse=True)) # Shows each character with its frequency, in decreasing frequency order."
      ]
    },
    {
      "cell_type": "code",
      "execution_count": null,
      "metadata": {
        "colab": {
          "base_uri": "https://localhost:8080/"
        },
        "id": "hzcKKjC_Evo6",
        "outputId": "b51e4ee2-2d94-4155-a4ed-c7d38f87ebde"
      },
      "outputs": [
        {
          "output_type": "execute_result",
          "data": {
            "text/plain": [
              "dict_keys(['N', 'o', 'u', 's', ' ', 'é', 't', 'i', 'n', 'à', 'l', \"'\", 'É', 'd', 'e', ',', 'q', 'a', 'P', 'r', 'v', 'h', 'b', 'g', 'ç', 'c', 'p', '.', 'C', 'x', 'm', 'è', '\\n', 'L', 'f', ';', 'î', ':', '-', 'M', 'R', 'j', 'S', 'ù', 'â', 'z', 'I', 'Q', 'û', 'ê', 'O', 'y', 'k', 'ï', 'E', 'T', 'U', 'D', '!', '(', ')', 'B', '?', '_', 'G', '1', '8', '2', 'A', 'À', 'H', 'ô', 'V', 'Ê', '«', '»', 'Y', 'F', 'J', 'ë', 'W', 'X', '0', '5', '7', '9', '6', '3', 'w', 'Î', 'Ç', '4', 'ü', '°'])"
            ]
          },
          "metadata": {},
          "execution_count": 8
        }
      ],
      "source": [
        "char_counts.keys() # len = 95"
      ]
    },
    {
      "cell_type": "code",
      "execution_count": null,
      "metadata": {
        "id": "nF0YFZTxD_A0"
      },
      "outputs": [],
      "source": [
        "# Here you have to build a dictionary 'char_vocabulary' that assigns an integer id to each character, along with a list/array 'id_to_char' that implements the reverse mapping.\n",
        "#################\n",
        "def vocabulary(char_counts):\n",
        "  char_vocabulary = {} #dict[str:int]\n",
        "  id_to_char = [] # list[str]\n",
        "  for char in char_counts.keys():\n",
        "    if char not in char_vocabulary:\n",
        "      char_vocabulary[char] = len(char_vocabulary)\n",
        "      id_to_char.append(char)\n",
        "\n",
        "  return char_vocabulary, id_to_char\n",
        "#################\n",
        "char_vocabulary, id_to_char = vocabulary(char_counts)\n"
      ]
    },
    {
      "cell_type": "code",
      "execution_count": null,
      "metadata": {
        "id": "C71VlK5e3Gg4"
      },
      "outputs": [],
      "source": [
        "EOP_id = char_vocabulary[EOP] # Id for the end-of-paragraph symbol\n",
        "padding_id = EOP_id + 1 # Pseudo-id for the \"padding symbol\" (which in fact does not exist)\n",
        "\n",
        "print(char_vocabulary)\n",
        "print(id_to_char)\n",
        "print(f\"EOP_id = {EOP_id}\")\n",
        "\n",
        "# Here you have to implement a test that proves that your implementations of 'char_vocabulary' and 'id_to_char' are consistent.\n",
        "#################\n",
        "print('id of u: ',char_vocabulary['u'])\n",
        "print('char with id 2: ', id_to_char[2])\n",
        "print('u expected: ',id_to_char[char_vocabulary['u']]) # we expect to fall back on 'u'. This is indeed 'u' so the implementations are consistent\n",
        "print('2 expected: ',char_vocabulary[id_to_char[2]]) # we also expect to fall back on 2.\n",
        "#################"
      ]
    },
    {
      "cell_type": "code",
      "execution_count": null,
      "metadata": {
        "id": "8bc3Gst0zhQv"
      },
      "outputs": [],
      "source": [
        "# Turns a list of lists of ids into a list of strings.\n",
        "# Do not forget that an occurrence of EOP means that the paragraph ends here.\n",
        "# ids: list[int] // ids: list[list[int]] (n list[int] for n sentences)\n",
        "def ids_to_texts(ids):\n",
        "  # Here you have to turn each list of character ids of 'ids' into a string and then return all strings as a list.\n",
        "  #################\n",
        "  texts = [] # list[str]\n",
        "  for id_seq in ids: # for every id:\n",
        "    text = [] # list[str] for every id sequence\n",
        "    for i in id_seq:\n",
        "      if i == EOP_id: # If the id equals the end of paragraph id, we stop the iteration.\n",
        "        break\n",
        "      text.append(id_to_char[i]) # Else, we append the char to text.\n",
        "    texts.append(''.join(text)) # Finally, we add the text to the list of texts.\n",
        "  return texts\n",
        "  ###############"
      ]
    },
    {
      "cell_type": "code",
      "execution_count": null,
      "metadata": {
        "colab": {
          "base_uri": "https://localhost:8080/"
        },
        "id": "ybAhzb4_3RTk",
        "outputId": "8444583d-6ab6-426d-9b59-bb392bbd2179"
      },
      "outputs": [
        {
          "output_type": "stream",
          "name": "stdout",
          "text": [
            "[[61, 1, 8, 41, 1, 2, 19, 27], [28, 1, 30, 30, 14, 8, 6, 4, 17, 10, 10, 14, 45, 4, 20, 1, 2, 3, 4, 62]]\n",
            "['Bonjour.', 'Comment allez vous ?']\n",
            "'ids_to_texts(ids) == ps' should be True: True\n"
          ]
        }
      ],
      "source": [
        "ps = [\"Bonjour.\", \"Comment allez vous ?\"]\n",
        "ids = [[char_vocabulary[c] for c in p] for p in ps]\n",
        "print(ids)\n",
        "print(ids_to_texts(ids))\n",
        "print(f\"'ids_to_texts(ids) == ps' should be True: {ids_to_texts(ids) == ps}\")"
      ]
    },
    {
      "cell_type": "code",
      "execution_count": null,
      "metadata": {
        "colab": {
          "base_uri": "https://localhost:8080/"
        },
        "id": "ZnT7T-yHEPCh",
        "outputId": "140fa562-20a6-41e9-d98f-7afcd56d0c04"
      },
      "outputs": [
        {
          "output_type": "stream",
          "name": "stdout",
          "text": [
            "[[61, 1, 8, 41, 1, 2, 19, 27, 32, 33, 33], [28, 1, 30, 30, 14, 8, 6, 4, 17, 10, 10, 14, 45, 4, 20, 1, 2, 3, 4, 62]]\n",
            "['Bonjour.', 'Comment allez vous ?']\n",
            "'ids_to_texts(ids) == ps' should be True: True\n"
          ]
        }
      ],
      "source": [
        "ps = [\"Bonjour.\", \"Comment allez vous ?\"]\n",
        "ids = [[char_vocabulary[c] for c in p] for p in ps]\n",
        "ids[0].extend([EOP_id, padding_id, padding_id]) # With the end-of-paragraph token id and additional (padding-like) stuff for the first string.\n",
        "print(ids)\n",
        "print(ids_to_texts(ids))\n",
        "print(f\"'ids_to_texts(ids) == ps' should be True: {ids_to_texts(ids) == ps}\") # If you have a problem here, remember that EOP indicates the end of the text (this might be related to your problem)."
      ]
    },
    {
      "cell_type": "markdown",
      "metadata": {
        "id": "SBuCiGqO08nd"
      },
      "source": [
        "Batch generator\n",
        "=="
      ]
    },
    {
      "cell_type": "code",
      "execution_count": null,
      "metadata": {
        "colab": {
          "base_uri": "https://localhost:8080/"
        },
        "id": "aoH4g-Fkkrgc",
        "outputId": "256a4edd-8b5e-433b-b5fa-95e68eca6ac9"
      },
      "outputs": [
        {
          "output_type": "stream",
          "name": "stdout",
          "text": [
            "2994\n"
          ]
        }
      ],
      "source": [
        "# Defines a class of objects that produce batches from the dataset.\n",
        "# A training instance is composed of a pair of consecutive paragraphs. The goal will be to predict the second given the first.\n",
        "# (Possible improvement: As is, ends of chapter are completely ignored: the last paragraph of a chapter and the first of the following chapter form a training instance. We might want to predict the end of the chapter instead, or simply remove these pairs from the dataset.)\n",
        "class BatchGenerator:\n",
        "  # paragraphs: list[str]\n",
        "  # char_vocabulary: dict[str, int]\n",
        "  def __init__(self, paragraphs, char_vocabulary):\n",
        "    self.paragraphs = paragraphs\n",
        "    self.char_vocabulary = char_vocabulary # Dictionary\n",
        "    self.padding_idx = len(char_vocabulary)\n",
        "\n",
        "  # Returns the number of training instances (i.e. of pairs of consecutive paragraphs).\n",
        "  def length(self):\n",
        "    return (len(self.paragraphs) - 1)\n",
        "\n",
        "  # Returns a random training batch (composed of pairs of consecutive paragraphs).\n",
        "  # batch_size: int\n",
        "  # subset: int | None; if an integer, only a subset of the corpus is used. This can be useful when debugging the system.\n",
        "  def get_batch(self, batch_size, subset=None):\n",
        "    max_i = self.length() if(subset is None) else min(subset, self.length())\n",
        "    paragraph_ids = np.random.randint(max_i, size=batch_size) # Randomly picks some paragraph ids.\n",
        "\n",
        "    return self._ids_to_batch(paragraph_ids)\n",
        "\n",
        "  # paragraph_ids: sequence of int·s\n",
        "  def _ids_to_batch(self, paragraph_ids):\n",
        "    firsts = [] # list[list[int]]; first paragraph of each pair\n",
        "    seconds = [] # list[list[int]], second paragraph of each pair\n",
        "    for paragraph_id in paragraph_ids:\n",
        "      firsts.append([self.char_vocabulary[char] for char in self.paragraphs[paragraph_id]])\n",
        "      seconds.append([self.char_vocabulary[char] for char in self.paragraphs[paragraph_id + 1]])\n",
        "\n",
        "    # Padding\n",
        "    self.pad(firsts)\n",
        "    self.pad(seconds)\n",
        "\n",
        "    firsts = torch.tensor(firsts, dtype=torch.long) # Conversion to a tensor\n",
        "    seconds = torch.tensor(seconds, dtype=torch.long) # Conversion to a tensor\n",
        "\n",
        "    return (firsts, seconds)\n",
        "\n",
        "  # Pads a list of lists (i.e. adds fake word ids so that all sequences in the batch have the same length, so that we can use a matrix to represent them).\n",
        "  # Works \"in place\".\n",
        "  # sequences: list[list[int]]\n",
        "  def pad(self, sequences):\n",
        "    max_length = max([len(s) for s in sequences])\n",
        "    for s in sequences: s.extend([self.padding_idx] * (max_length - len(s)))\n",
        "\n",
        "  # Returns a generator of training batches for a full epoch. (Note that this function is not used in the training loop implemented below. `get_batch` is used instead.)\n",
        "  # batch_size: int\n",
        "  # subset: int | None; if an integer, only a subset of the corpus is used. This can be useful when debugging the system.\n",
        "  def all_batches(self, batch_size, subset=None):\n",
        "    max_i = self.length() if(subset is None) else min(subset, self.length())\n",
        "\n",
        "    # Loop that generates all full batches (batches of size 'batch_size').\n",
        "    i = 0\n",
        "    while((i + batch_size) <= max_i):\n",
        "      instance_ids = np.arange(i, (i + batch_size))\n",
        "      yield self._ids_to_batch(instance_ids)\n",
        "      i += batch_size\n",
        "\n",
        "    # Possibly generates the last (not full) batch.\n",
        "    if(i < max_i):\n",
        "      instance_ids = np.arange(i, max_i)\n",
        "      yield self._ids_to_batch(instance_ids)\n",
        "\n",
        "  # Turns a list of arbitrary paragraphs into a prediction batch.\n",
        "  # paragraphs: list[str]\n",
        "  def turn_into_batch(self, paragraphs):\n",
        "    firsts = [] # list[list[int]]\n",
        "    for paragraph in paragraphs:\n",
        "        tmp = [] # list[int]\n",
        "        for char in paragraph:\n",
        "          # Unknown characters are ignored (removed).\n",
        "          if(char in self.char_vocabulary): tmp.append(self.char_vocabulary[char])\n",
        "\n",
        "        if(tmp[-1] != EOP_id): tmp.append(EOP_id) # Adds an end-of-paragraph character if necessary.\n",
        "\n",
        "        firsts.append(tmp)\n",
        "\n",
        "    self.pad(firsts)\n",
        "    return torch.tensor(firsts, dtype=torch.long)\n",
        "\n",
        "batch_generator = BatchGenerator(paragraphs=paragraphs, char_vocabulary=char_vocabulary)\n",
        "print(batch_generator.length())"
      ]
    },
    {
      "cell_type": "code",
      "execution_count": null,
      "metadata": {
        "colab": {
          "base_uri": "https://localhost:8080/"
        },
        "id": "_YSugGI7z3JX",
        "outputId": "204e61ac-12a7-4534-d131-b4b354dd7e3c"
      },
      "outputs": [
        {
          "output_type": "stream",
          "name": "stdout",
          "text": [
            "[\"Et elle avait l'air de quelqu'un qui se réveille d'un songe.\", '-- Tu es triste, dit Emma.', \"-- Moi, à votre place, disait-il, je me libérerais, et j'aurais encore le surplus de l'argent.\"]\n",
            "[\"-- C'est que vous passiez la main sur votre front. J'ai cru qu'un étourdissement vous prenait.\", '-- Non, pourquoi?', \"Elle objecta la difficulté d'un acquéreur; il donna l'espoir d'en trouver; mais elle demanda comment faire pour qu'elle pût vendre.\"]\n"
          ]
        }
      ],
      "source": [
        "(firsts, seconds) = batch_generator.get_batch(3)\n",
        "print(ids_to_texts(firsts))\n",
        "print(ids_to_texts(seconds))"
      ]
    },
    {
      "cell_type": "markdown",
      "metadata": {
        "id": "Tv1Z1s-cQWiT"
      },
      "source": [
        "The model\n",
        "==\n",
        "For this model, we will not define a `forward` method, but two methods: `trainingLogits` and `predictionStrings`.\n",
        "\n",
        "*    `trainingLogits` is used at training time, when each batch is split in two parts: input paragraphs and output paragraphs. This function outputs, for each output paragraph of the batch, a log-probability distribution (i.e. a vector of \"logits\") before each token and after the last one. These distributions depend on the encoding of the corresponding input paragraph. They will then be used to compute a loss value.\n",
        "*    `predictionStrings` is used at prediction time, when each batch is only composed of input paragraphs. This function outputs, for each input paragraph, a string obtained by decoding the encoding of the paragraph and its probability according to the model.\n",
        "\n",
        "(Don't forget to read carefully all comments and to make sure that you understand them.)\n",
        "\n",
        "Here is a graphical representation of the architecture: https://moodle.u-paris.fr/mod/resource/view.php?id=648001\n",
        "Before starting the implementation, make sure you understand it."
      ]
    },
    {
      "cell_type": "code",
      "execution_count": null,
      "metadata": {
        "id": "tKfRCXQOOm8X"
      },
      "outputs": [],
      "source": [
        "class Model(torch.nn.Module):\n",
        "  # size_vocabulary: int; does not include a padding character, but does include the end-of-paragraph one.\n",
        "  # EOP_id: int\n",
        "  # embedding_dim: int\n",
        "  # lstm_hidden_size: int\n",
        "  # lstm_layers: int\n",
        "  # device: str\n",
        "  def __init__(self, size_vocabulary, EOP_id, embedding_dim, lstm_hidden_size, lstm_layers, device='cpu'):\n",
        "    super().__init__()\n",
        "\n",
        "    self.device = device\n",
        "\n",
        "    self.EOP_id = EOP_id # At prediction time, this index is used to stop the generation at the end of the paragraph.\n",
        "\n",
        "    # Here you have to define:\n",
        "    #  (i) an embedding layer 'self.char_embeddings' with 'torch.nn.Embedding' for the characters, including an padding embedding;\n",
        "    #  (ii) a bidirectional LSTM 'self.encoder_lstm' with a hidden size of 'lstm_hidden_size' and 'lstm_layers' layers (use batch_first=True);\n",
        "    #  (iii) a unidirectional LSTM 'self.decoder_lstm' with a hidden size of 'lstm_hidden_size' and 'lstm_layers' layers (use batch_first=True);\n",
        "    #  (iv) a network 'self.decoder_initialiser' meant to turn the final hidden and cell states of the encoder into the initial hidden and cell states of the decoder;\n",
        "    #  (v) a network 'self.distribution_nn' meant to turn the hidden state of the decoder at each step into the logits of a probability distribution over the vocabulary. The logits of a probability distribution are simply the log-probabilities (you might want to use torch.nn.LogSoftmax).\n",
        "    # Send all parts to 'device', so that we can use a GPU.\n",
        "    #################\n",
        "\n",
        "    # (i) Shape: (batch_size, seq_len, embedding_dim)\n",
        "    self.char_embeddings = torch.nn.Embedding(num_embeddings=size_vocabulary+1, # +1 for the padding token\n",
        "                                              embedding_dim=embedding_dim,\n",
        "                                              padding_idx=size_vocabulary).to(self.device)\n",
        "\n",
        "    # (ii) Outputs: output, (h_n, c_n)\n",
        "    # output: (batch_size, seq_len, 2*lstm_hidden_size)\n",
        "    # h_n: (2*lstm_layers, batch_size, lstm_hidden_size)\n",
        "    # c_n: (2*lstm_layers, batch_size, lstm_hidden_size)\n",
        "    self.encoder_lstm = torch.nn.LSTM(input_size=embedding_dim,\n",
        "                                      hidden_size=lstm_hidden_size,\n",
        "                                      num_layers=lstm_layers,\n",
        "                                      batch_first=True,\n",
        "                                      bidirectional=True).to(self.device)\n",
        "\n",
        "    # (iii) Outputs: output, (h_n, c_n)\n",
        "    # output: (batch_size, seq_len, lstm_hidden_size)\n",
        "    # h_n: (lstm_layers, batch_size, lstm_hidden_size)\n",
        "    # c_n: (lstm_layers, batch_size, lstm_hidden_size)\n",
        "    self.decoder_lstm = torch.nn.LSTM(input_size=embedding_dim,\n",
        "                                      hidden_size=lstm_hidden_size,\n",
        "                                      num_layers=lstm_layers,\n",
        "                                      batch_first=True).to(self.device)\n",
        "\n",
        "    # (iv)\n",
        "    self.decoder_initialiser = torch.nn.Linear(in_features=2 * lstm_hidden_size,\n",
        "                                               out_features=lstm_hidden_size).to(self.device)\n",
        "\n",
        "    # (v) Shape: (batch_size, seq_len, vocab_size)\n",
        "    self.distribution_nn = torch.nn.Sequential(torch.nn.Linear(lstm_hidden_size, size_vocabulary),\n",
        "                                               torch.nn.LogSoftmax(dim=-1)).to(self.device)\n",
        "    #################\n",
        "\n",
        "  # This function encodes the input paragraphs and turns them into initial states for the decoder. It is used both at training and prediction time.\n",
        "  # 'in_paragraphs' is a matrix (batch size, max in length) of character ids (Integer).\n",
        "  # You might want to understand what is the output of PyTorch's LSTMs: https://pytorch.org/docs/stable/generated/torch.nn.LSTM.html\n",
        "  def initStates(self, in_paragraphs):\n",
        "    batch_size = in_paragraphs.size(0)\n",
        "\n",
        "    in_char_embeddings = self.char_embeddings(in_paragraphs) # Shape: (batch_size, max length, embedding size)\n",
        "    #print(in_char_embeddings); print(in_char_embeddings.shape)\n",
        "    in_lengths = (in_paragraphs != self.char_embeddings.padding_idx).sum(axis=1) # Shape: (batch_size)\n",
        "    #print(in_lengths); print(in_lengths.shape)\n",
        "    in_char_embeddings = torch.nn.utils.rnn.pack_padded_sequence(input=in_char_embeddings,\n",
        "                                                                 lengths=in_lengths.cpu(),\n",
        "                                                                 batch_first=True,\n",
        "                                                                 enforce_sorted=False) # Enables the biLSTM to ignore padding elements.\n",
        "\n",
        "    # The input paragraphs are encoded; the final hidden and cell states of the network will be used to initialise the decoder after a little transformation.\n",
        "    _, (h_n, c_n) = self.encoder_lstm(in_char_embeddings) # 'h_n' and 'c_n' are both of shape (num_layers * 2, batch_size, hidden_size)\n",
        "\n",
        "    # Concatenates the left-to-right and right-to-left final hidden states of the biLSTM.\n",
        "    h_n = h_n.view(self.encoder_lstm.num_layers, 2, batch_size, self.encoder_lstm.hidden_size) # The second dimension (of size 2) of this tensor corresponds to left-to-right (0) and right-to-left (1).\n",
        "    #print(h_n); print(h_n.shape)\n",
        "    lr_h_n = h_n[:,0] # left-to-right; shape: (num_layers, batch_size, hidden_size)\n",
        "    rl_h_n = h_n[:,1] # right-to-left; shape: (num_layers, batch_size, hidden_size)\n",
        "    bi_h_n = torch.cat([lr_h_n, rl_h_n], axis=2) # Shape: (num_layers, batch_size, (2 * hidden_size))\n",
        "    #print(bi_h_n); print(bi_h_n.shape)\n",
        "\n",
        "    # Concatenates the left-to-right and right-to-left final cell states of the biLSTM.\n",
        "    c_n = c_n.view(self.encoder_lstm.num_layers, 2, batch_size, self.encoder_lstm.hidden_size) # The second dimension (of size 2) of this tensor corresponds to left-to-right (0) and right-to-left (1).\n",
        "    #print(c_n); print(c_n.shape)\n",
        "    lr_c_n = c_n[:,0] # left-to-right; shape: (num_layers, batch_size, hidden_size)\n",
        "    rl_c_n = c_n[:,1] # right-to-left; shape: (num_layers, batch_size, hidden_size)\n",
        "    bi_c_n = torch.cat([lr_c_n, rl_c_n], axis=2) # Shape: (num_layers, batch_size, (2 * hidden_size))\n",
        "    #print(bi_c_n); print(bi_c_n.shape)\n",
        "\n",
        "    # What should be the shape of the two tensors of the following pair? Answer: (num_layers, batch_size, hidden_size)\n",
        "    return (self.decoder_initialiser(bi_h_n), self.decoder_initialiser(bi_c_n))\n",
        "\n",
        "  # Training time: This function outputs the logits for each time step.\n",
        "  # Because at training time, the output paragraph is known, there is no need to generate anything sequentially — all positions can be processed at the same time. In fact, there is a loop hidden in the call to the decoder LSTM, but you should not write any explicit loop here.\n",
        "  # Do not forget the distribution for the first character.\n",
        "  # 'in_paragraphs' is a matrix (batch size, max in length) of character ids (Integer).\n",
        "  # 'out_paragraphs' is a matrix (batch size, max out length) of character ids (Integer) at training time.\n",
        "  # This might include EoS and padding tokens;\n",
        "  # the corresponding distributions are meaningless/useless and will have to be excluded when computing the loss.\n",
        "  # You might want to understand what is the output of PyTorch's LSTMs: https://pytorch.org/docs/stable/generated/torch.nn.LSTM.html\n",
        "  def trainingLogits(self, in_paragraphs, out_paragraphs):\n",
        "    decoder_init_states = self.initStates(in_paragraphs) # These tensors are not only used to initialise the decoder but also (for the first tensor) to compute the probability distributions for the first character.\n",
        "\n",
        "    # Feed a packed sequence to the decoder (use 'torch.nn.utils.rnn.pack_padded_sequence' and 'torch.nn.utils.rnn.pad_packed_sequence').\n",
        "    # You don't need to implement a loop, because at training time, you know in advance the decisions of the system (i.e. the tokens that are generated).\n",
        "    #################\n",
        "\n",
        "    # Unpack the initial states\n",
        "    h_initial, c_initial = decoder_init_states\n",
        "\n",
        "    # Embed the output paragraphs without the end token.\n",
        "    # Shape: (batch_size, seq_len-1, embedding_size)\n",
        "    out_char_embeddings = self.char_embeddings(out_paragraphs[:, :-1])\n",
        "\n",
        "    # Get the output lengths without the padding token.\n",
        "    # Shape: (batch_size)\n",
        "    out_lengths = (out_paragraphs[:, :-1] != self.char_embeddings.padding_idx).sum(axis=1)\n",
        "\n",
        "    # Pack the padded sequence.\n",
        "    packed_embeddings = torch.nn.utils.rnn.pack_padded_sequence(\n",
        "        input=out_char_embeddings,\n",
        "        lengths=out_lengths.cpu(),\n",
        "        batch_first=True,\n",
        "        enforce_sorted=False\n",
        "    )\n",
        "\n",
        "    # Decode the packed sequence.\n",
        "    decoded_packed_embeddings, _ = self.decoder_lstm(\n",
        "        packed_embeddings,\n",
        "        (h_initial, c_initial)\n",
        "    )\n",
        "\n",
        "    # Pad the packed sequence.\n",
        "    # Shape: (batch_size, seq_len-1, lstm_hidden_size)\n",
        "    padded_embeddings, _ = torch.nn.utils.rnn.pad_packed_sequence(\n",
        "        decoded_packed_embeddings,\n",
        "        batch_first=True\n",
        "    )\n",
        "\n",
        "    # Concatenate the last layer's hidden state, then compute logits.\n",
        "    # Shape: (batch_size, seq_len, vocab_size)\n",
        "    logits = self.distribution_nn(torch.cat((h_initial[-1].unsqueeze(1), padded_embeddings), dim=1))\n",
        "\n",
        "    return logits\n",
        "\n",
        "\n",
        "    #################\n",
        "\n",
        "  # Prediction time: This function generates a text up to 'max_predicted_char' character long for each paragraph in the batch, then returns the paragraphs and their log-probabilities.\n",
        "  # 'in_paragraphs' is a matrix (batch size, max in length) of character ids (Integer).\n",
        "  # You might want to understand what is the output of PyTorch's LSTMs: https://pytorch.org/docs/stable/generated/torch.nn.LSTM.html\n",
        "  def predictionStrings(self, in_paragraphs, max_predicted_char=1000):\n",
        "    h_n, c_n = self.initStates(in_paragraphs) # These tensors are not only used to initialise the decoder but also (for the first tensor) to compute the probability distributions for the first character.\n",
        "\n",
        "    # Decode 'decoder_init_states' into a matrix a character ids (on line per input paragraph in the batch) and then convert it to strings of actual characters.\n",
        "    # You will need to implement a loop at some point.\n",
        "    # To work with probability distributions, you may use \"torch.distributions.Categorical\", but not necessarily.\n",
        "    # To compute the log-probabilities of the paragraphs generated, at some point you probably need something like `logits.gather(1, next_characters.unsqueeze(1)).squeeze(1)`, evaluating as a float tensor of shape (batch_size).\n",
        "    #################\n",
        "\n",
        "    # Initialise the lists of ids and log probs to append on a for loop.\n",
        "    ids = []\n",
        "    logprobs = []\n",
        "\n",
        "    # Generate the first character greedily to generate the following characters starting from this.\n",
        "    initial_logits = self.distribution_nn(h_n[-1])  # Shape: (batch_size, size_vocabulary)\n",
        "    initial_char = torch.argmax(initial_logits, dim=1)  # Shape: (batch_size)\n",
        "    first_log_prob = initial_logits.gather(1, initial_char.unsqueeze(1)).squeeze(1)  # Shape: (batch_size)\n",
        "    current_char = initial_char.unsqueeze(1) # Shape: (batch_size, 1)\n",
        "\n",
        "    ids.append(initial_char)\n",
        "    logprobs.append(first_log_prob)\n",
        "\n",
        "    # Iterate over the maximum number of predicted characters to generate the text.\n",
        "    for _ in range(max_predicted_char):\n",
        "      # Embed the currend character.\n",
        "      current_char_embedding = self.char_embeddings(current_char) # Shape: (batch_size, 1, embedding_dim)\n",
        "\n",
        "      # Get the decoder outputs.\n",
        "      # decoder_output: (batch_size, 1, hidden_size)\n",
        "      decoder_output, (h_n, c_n) = self.decoder_lstm(\n",
        "          current_char_embedding,\n",
        "          (h_n, c_n)\n",
        "      )\n",
        "\n",
        "      # Compute the logits\n",
        "      logits = self.distribution_nn(decoder_output.squeeze(1)) # Shape: (batch_size, size_vocabulary)\n",
        "\n",
        "      # Greedily select the next character with argmax.\n",
        "      next_character = torch.argmax(logits, dim=1) # Shape: (batch_size)\n",
        "\n",
        "      # If all sequences generate EOP, we break the for loop.\n",
        "      if (next_character == self.EOP_id).all():\n",
        "        break\n",
        "\n",
        "      # Compute the logprobs.\n",
        "      logprob = logits.gather(1, next_character.unsqueeze(1)).squeeze(1) # shape: (batch_size)\n",
        "\n",
        "      # Append the lists, and update the current character.\n",
        "      ids.append(next_character)\n",
        "      logprobs.append(logprob)\n",
        "      current_char = next_character.unsqueeze(1)\n",
        "\n",
        "    # Concatenate the ids, and get texts, logprobs.\n",
        "    ids = torch.stack(ids, dim=1) # Shape: (batch_size, seq_len)\n",
        "    texts = ids_to_texts(ids.cpu().numpy()) # List[str]\n",
        "    logprobs = torch.stack(logprobs, dim=1).sum(dim=1) # Tensor[batch_size]\n",
        "\n",
        "    #################\n",
        "\n",
        "    return texts, logprobs # List[str], Tensor[float]\n"
      ]
    },
    {
      "cell_type": "code",
      "execution_count": null,
      "metadata": {
        "id": "n5TXsvizgogZ"
      },
      "outputs": [],
      "source": [
        "device = 'cuda' if torch.cuda.is_available() else 'cpu'\n",
        "model = Model(size_vocabulary=len(char_vocabulary), EOP_id=EOP_id, embedding_dim=19, lstm_hidden_size=13, lstm_layers=7, device=device)"
      ]
    },
    {
      "cell_type": "code",
      "execution_count": null,
      "metadata": {
        "collapsed": true,
        "id": "T4sp6c9Bdch3"
      },
      "outputs": [],
      "source": [
        "# Tests the training method.\n",
        "in_paragraphs = torch.tensor([(list(range(5)) + ([batch_generator.padding_idx] * 0))]).to(model.device) # A batch that contains only one sentence with no padding.\n",
        "print(in_paragraphs)\n",
        "\n",
        "out_paragraphs = in_paragraphs\n",
        "logits = model.trainingLogits(in_paragraphs, out_paragraphs)\n",
        "print(f\"logits:\\n{logits}\\n\")"
      ]
    },
    {
      "cell_type": "code",
      "execution_count": null,
      "metadata": {
        "id": "ww6UwsI2cuPv",
        "colab": {
          "base_uri": "https://localhost:8080/"
        },
        "outputId": "a22f4352-146e-4092-a757-024ca85d2bd3"
      },
      "outputs": [
        {
          "output_type": "stream",
          "name": "stdout",
          "text": [
            "The following should be True: True\n",
            "The following should be False: False\n",
            "The following should be False: False\n",
            "The following should be False: False\n"
          ]
        }
      ],
      "source": [
        "# Checks that a tensor is a tensor of logits, i.e. that each vector is a vector of log-probabilities.\n",
        "def check_logits(logits):\n",
        "  # This function should return True iff `logits` is a tensor of logits (False otherwise).\n",
        "  #################\n",
        "  # Compute exp(logits) to get probs back.\n",
        "  probs = torch.exp(logits)\n",
        "  # Sum the probs. A tensor of logits should sum to 1.\n",
        "  probs_sum = probs.sum(dim=-1)\n",
        "  # Check if probs_sum equals to a vector of ones.\n",
        "  return torch.allclose(probs_sum, torch.ones_like(probs_sum))\n",
        "  #################\n",
        "\n",
        "print(f\"The following should be True: {check_logits(torch.log(torch.tensor([[0.5, 0.3, 0.2], [0.1, 0.2, 0.7]])))}\")\n",
        "print(f\"The following should be False: {check_logits(torch.log(torch.tensor([[0.5, 0.3, 0.0], [0.1, 0.2, 0.7]])))}\")\n",
        "print(f\"The following should be False: {check_logits(torch.log(torch.tensor([[0.5, 0.6, 2.0], [0.1, 0.2, 0.7]])))}\")\n",
        "print(f\"The following should be False: {check_logits(torch.log(torch.tensor([[0.5, 0.3, 0.2], [0.1, 0.2, 0.9]])))}\")"
      ]
    },
    {
      "cell_type": "code",
      "execution_count": null,
      "metadata": {
        "id": "6bVNvxt5czmj",
        "colab": {
          "base_uri": "https://localhost:8080/"
        },
        "outputId": "9f260399-6238-40a3-cf09-6ca2545f10ad"
      },
      "outputs": [
        {
          "output_type": "stream",
          "name": "stdout",
          "text": [
            "The following should be True: True\n"
          ]
        }
      ],
      "source": [
        "print(f\"The following should be True: {check_logits(logits)}\")"
      ]
    },
    {
      "cell_type": "code",
      "execution_count": null,
      "metadata": {
        "id": "ftAttD70si-O",
        "colab": {
          "base_uri": "https://localhost:8080/"
        },
        "outputId": "4557896c-c602-4414-a96a-586b41418850"
      },
      "outputs": [
        {
          "output_type": "stream",
          "name": "stdout",
          "text": [
            "tensor([[ 0,  1,  2,  3,  4, 94, 94, 94, 94, 94, 94, 94, 94, 94, 94],\n",
            "        [ 0,  1,  2,  3,  4,  5,  6,  7,  8,  9, 94, 94, 94, 94, 94]],\n",
            "       device='cuda:0')\n",
            "tensor([[[-4.6087, -4.7270, -4.2476,  ..., -4.5359, -4.6967, -4.3940],\n",
            "         [-4.7148, -4.7071, -4.2730,  ..., -4.5280, -4.7069, -4.4373],\n",
            "         [-4.7458, -4.6978, -4.2664,  ..., -4.5298, -4.7224, -4.4483],\n",
            "         ...,\n",
            "         [-4.5992, -4.7816, -4.3508,  ..., -4.4831, -4.5901, -4.5137],\n",
            "         [-4.5992, -4.7816, -4.3508,  ..., -4.4831, -4.5901, -4.5137],\n",
            "         [-4.5992, -4.7816, -4.3508,  ..., -4.4831, -4.5901, -4.5137]],\n",
            "\n",
            "        [[-4.6118, -4.7250, -4.2445,  ..., -4.5371, -4.7028, -4.3913],\n",
            "         [-4.7174, -4.7051, -4.2708,  ..., -4.5290, -4.7106, -4.4350],\n",
            "         [-4.7476, -4.6963, -4.2651,  ..., -4.5306, -4.7246, -4.4468],\n",
            "         ...,\n",
            "         [-4.7769, -4.6768, -4.2640,  ..., -4.5308, -4.7439, -4.4817],\n",
            "         [-4.7770, -4.6763, -4.2640,  ..., -4.5307, -4.7440, -4.4825],\n",
            "         [-4.7771, -4.6760, -4.2640,  ..., -4.5307, -4.7441, -4.4829]]],\n",
            "       device='cuda:0', grad_fn=<LogSoftmaxBackward0>)\n",
            "The following should be True: True\n"
          ]
        }
      ],
      "source": [
        "# Tests the training method (again).\n",
        "in_paragraphs = torch.tensor([(list(range(5)) + ([batch_generator.padding_idx] * 10)), (list(range(10)) + ([batch_generator.padding_idx] * 5))]).to(model.device) # A batch that contains two sentences with some padding (more than necessary).\n",
        "print(in_paragraphs)\n",
        "out_paragraphs = in_paragraphs\n",
        "logits = model.trainingLogits(in_paragraphs, out_paragraphs)\n",
        "print(logits)\n",
        "\n",
        "print(f\"The following should be True: {check_logits(logits)}\")"
      ]
    },
    {
      "cell_type": "code",
      "execution_count": null,
      "metadata": {
        "id": "hRPGm_Duq_QY",
        "colab": {
          "base_uri": "https://localhost:8080/"
        },
        "outputId": "fcbc3080-642c-4415-9fea-a3782bd8ae26"
      },
      "outputs": [
        {
          "output_type": "execute_result",
          "data": {
            "text/plain": [
              "(['MMMMMMMMMMMMMMMMM', 'MMMMMMMMMMMMMMMMM'],\n",
              " tensor([-71.0559, -71.0560], device='cuda:0', grad_fn=<SumBackward1>))"
            ]
          },
          "metadata": {},
          "execution_count": 22
        }
      ],
      "source": [
        "# Tests the prediction methods.\n",
        "batch = batch_generator.get_batch(2)\n",
        "model.predictionStrings(batch[0].to(model.device), max_predicted_char=16)"
      ]
    },
    {
      "cell_type": "markdown",
      "metadata": {
        "id": "80KIRPPyOCWQ"
      },
      "source": [
        "Training\n",
        "=="
      ]
    },
    {
      "cell_type": "code",
      "execution_count": null,
      "metadata": {
        "id": "zdJSBtNGCX-J",
        "colab": {
          "base_uri": "https://localhost:8080/"
        },
        "outputId": "725b6bf3-efbe-4eb1-aabb-19aede12fcb5"
      },
      "outputs": [
        {
          "output_type": "stream",
          "name": "stdout",
          "text": [
            "-- END OF EPOCH 0.\n",
            "Average loss: 2.911120653152466.\n",
            "24.010555505752563 s elapsed (i.e. 24.010555505752563 s/epoch)\n",
            "[\"-- Ni moi! reprit vivement M. Homais, quoiqu'il lui faudra pourtant suivre les autres, au risque de passer pour un jésuite. Et vous ne savez pas la vie que mènent ces farceurs-là, dans le quartier Latin, avec les actrices! Du reste, les étudiants sont fort bien vus à Paris. Pour peu qu'ils aient quelque talent d'agrément, on les reçoit dans les meilleures sociétés, et il y a même des dames du faubourg Saint-Germain qui en deviennent amoureuses, ce qui leur fournit, par la suite, les occasions de faire de très beaux mariages.\"]\n",
            "(['--- le le le le le le le le le le le le le le le le le le le le le le le le le le le le le le le le le le le le le le le le le le le le le le le le le le le le le le le le le le le le le le le le le le le le le le le le le le le le le le le le le le le le le le le le le le le le le le le le le le le le le le le le le le le le le le le le le le le le le le le le le le le le le le le le le le le le le le le le le le le le le le le le le le le le le le le le le le le le le le le le le le le le le le le le le le'], tensor([-572.7759], device='cuda:0'))\n",
            "-- END OF EPOCH 1.\n",
            "Average loss: 2.210339307785034.\n",
            "48.01258707046509 s elapsed (i.e. 24.006293535232544 s/epoch)\n",
            "[\"-- Mais vous le savez bien! fit Lheureux. C'était pour vos petites fantaisies, les boîtes de voyage.\"]\n",
            "(['-- Chartait de de se de se de se de se de se de se de se de se de se de se de se de se de se de se de se de se de se de se de se de se de se de se de se de se de se de se de se de se de se de se de se de se de se de se de se de se de se de se de se de se de se de se de se de se de se de se de se de se de se de se de se de se de se de se de se de se de se de se de se de se de se de se de se de se de se de se de se de se de se de se de se de se de se de se de se de se de se de se de se de se de se de se de se '], tensor([-577.0176], device='cuda:0'))\n",
            "-- END OF EPOCH 2.\n",
            "Average loss: 1.9841668605804443.\n",
            "71.16415405273438 s elapsed (i.e. 23.721384684244793 s/epoch)\n",
            "['Elle répondit nonchalamment:']\n",
            "(['-- Emme pas par le se pas par le se pas par le se pas par le se pas par le se pas par le se pas par le se pas par le se pas par le se pas par le se pas par le se pas par le se pas par le se pas par le se pas par le se pas par le se pas par le se pas par le se pas par le se pas par le se pas par le se pas par le se pas par le se pas par le se pas par le se pas par le se pas par le se pas par le se pas par le se pas par le se pas par le se pas par le se pas par le se pas par le se pas par le se pas par le se p'], tensor([-620.8506], device='cuda:0'))\n",
            "-- END OF EPOCH 3.\n",
            "Average loss: 1.8657166957855225.\n",
            "94.76818656921387 s elapsed (i.e. 23.692046642303467 s/epoch)\n",
            "[\"-- C'est une fille! dit Charles.\"]\n",
            "(['Et le se se se se se se se se se se se se se se se se se se se se se se se se se se se se se se se se se se se se se se se se se se se se se se se se se se se se se se se se se se se se se se se se se se se se se se se se se se se se se se se se se se se se se se se se se se se se se se se se se se se se se se se se se se se se se se se se se se se se se se se se se se se se se se se se se se se se se se se se se se se se se se se se se se se se se se se se se se se se se se se se se se se se se se se se se '], tensor([-728.9175], device='cuda:0'))\n",
            "-- END OF EPOCH 4.\n",
            "Average loss: 1.7744380235671997.\n",
            "118.3454213142395 s elapsed (i.e. 23.6690842628479 s/epoch)\n",
            "[\"Il se rappelait des histoires de catalepsie, les miracles du magnétisme; et il se disait qu'en le voulant extrêmement, il parviendrait peut-être à la ressusciter. Une fois même il se pencha vers elle, et il cria tout bas: «Emma! Emma!» Son haleine, fortement poussée, fit trembler la flamme des cierges contre le mur.\"]\n",
            "(['-- Ah! comme de la comme de la comme de la comme de la comme de la comme de la comme de la comme de la comme de la comme de la comme de la comme de la comme de la comme de la comme de la comme de la comme de la comme de la comme de la comme de la comme de la comme de la comme de la comme de la comme de la comme de la comme de la comme de la comme de la comme de la comme de la comme de la comme de la comme de la comme de la comme de la comme de la comme de la comme de la comme de la comme de la comme de la co'], tensor([-399.7397], device='cuda:0'))\n",
            "-- END OF EPOCH 5.\n",
            "Average loss: 1.7074203491210938.\n",
            "143.07545375823975 s elapsed (i.e. 23.845908959706623 s/epoch)\n",
            "['Un soir, elle ne rentra point à Yonville. Charles en perdait la tête, et la petite Berthe, ne voulant pas se coucher sans sa maman, sanglotait à se rompre la poitrine. Justin était parti au hasard sur la route. M. Homais en avait quitté sa pharmacie.']\n",
            "(['En se par la pour les par la pour les par la pour les par la pour les par la pour les par la pour les par la pour les par la pour les par la pour les par la pour les par la pour les par la pour les par la pour les par la pour les par la pour les par la pour les par la pour les par la pour les par la pour les par la pour les par la pour les par la pour les par la pour les par la pour les par la pour les par la pour les par la pour les par la pour les par la pour les par la pour les par la pour les par la pour'], tensor([-510.6798], device='cuda:0'))\n",
            "-- END OF EPOCH 6.\n",
            "Average loss: 1.6466559171676636.\n",
            "166.9214527606964 s elapsed (i.e. 23.84592182295663 s/epoch)\n",
            "[\"Il lui sembla tout à coup que des globules couleur de feu éclataient dans l'air comme des balles fulminantes en s'aplatissant, et tournaient, tournaient, pour aller se fondre sur la neige, entre les branches des arbres. Au milieu de chacun d'eux, la figure de Rodolphe apparaissait. Ils se multiplièrent, et ils se rapprochaient, la pénétraient; tout disparut. Elle reconnut les lumières des maisons, qui rayonnaient de loin dans le brouillard.\"]\n",
            "(['-- Mais les par les contre de la par les contre de la par les contre de la par les contre de la par les contre de la par les contre de la par les contre de la par les contre de la par les contre de la par les contre de la par les contre de la par les contre de la par les contre de la par les contre de la par les contre de la par les contre de la par les contre de la par les contre de la par les contre de la par les contre de la par les contre de la par les contre de la par les contre de la par les contre de '], tensor([-495.7638], device='cuda:0'))\n",
            "-- END OF EPOCH 7.\n",
            "Average loss: 1.6009581089019775.\n",
            "191.13194870948792 s elapsed (i.e. 23.89149358868599 s/epoch)\n",
            "[\"L'ecclésiastique ne se fit point prier; il sortit pour aller dire sa messe, revint; puis ils mangèrent et trinquèrent, tout en ricanant un peu, sans savoir pourquoi, excités par cette gaieté vague qui vous prend après des séances de tristesse; et, au dernier petit verre, le prêtre dit au pharmacien, tout en lui frappant sur l'épaule:\"]\n",
            "(['-- Ah! ce qui se rentendre de la persant de la persant de la persant de la persant de la persant de la persant de la persant de la persant de la persant de la persant de la persant de la persant de la persant de la persant de la persant de la persant de la persant de la persant de la persant de la persant de la persant de la persant de la persant de la persant de la persant de la persant de la persant de la persant de la persant de la persant de la persant de la persant de la persant de la persant de la pers'], tensor([-478.3506], device='cuda:0'))\n",
            "-- END OF EPOCH 8.\n",
            "Average loss: 1.5686596632003784.\n",
            "215.76110100746155 s elapsed (i.e. 23.973455667495728 s/epoch)\n",
            "[\"Puis, d'un air indifférent:\"]\n",
            "(['-- Ah! comme le charmacient de la charmacient de la charmacient de la charmacient de la charmacient de la charmacient de la charmacient de la charmacient de la charmacient de la charmacient de la charmacient de la charmacient de la charmacient de la charmacient de la charmacient de la charmacient de la charmacient de la charmacient de la charmacient de la charmacient de la charmacient de la charmacient de la charmacient de la charmacient de la charmacient de la charmacient de la charmacient de la charmacient'], tensor([-446.3499], device='cuda:0'))\n",
            "-- END OF EPOCH 9.\n",
            "Average loss: 1.538838505744934.\n",
            "239.51350593566895 s elapsed (i.e. 23.951350593566893 s/epoch)\n",
            "['Puis à Léon, qui les accompagnait:']\n",
            "([\"-- Ce qu'il avait pas de la courait les consieurs de la courait les consieurs de la courait les consieurs de la courait les consieurs de la courait les consieurs de la courait les consieurs de la courait les consieurs de la courait les consieurs de la courait les consieurs de la courait les consieurs de la courait les consieurs de la courait les consieurs de la courait les consieurs de la courait les consieurs de la courait les consieurs de la courait les consieurs de la courait les consieurs de la courait l\"], tensor([-468.5447], device='cuda:0'))\n",
            "-- END OF EPOCH 10.\n",
            "Average loss: 1.5055714845657349.\n",
            "263.9331090450287 s elapsed (i.e. 23.993919004093517 s/epoch)\n",
            "[\"-- C'est autre chose! Mais qu'est-ce que la culture vous regarde? vous vous y entendez donc?\"]\n",
            "(['-- Ah! comme un contre le contre le conduit de la consieurs de la consieurs de la consieurs de la consieurs de la consieurs de la consieurs de la consieurs de la consieurs de la consieurs de la consieurs de la consieurs de la consieurs de la consieurs de la consieurs de la consieurs de la consieurs de la consieurs de la consieurs de la consieurs de la consieurs de la consieurs de la consieurs de la consieurs de la consieurs de la consieurs de la consieurs de la consieurs de la consieurs de la consieurs de la'], tensor([-465.0966], device='cuda:0'))\n",
            "-- END OF EPOCH 11.\n",
            "Average loss: 1.469156265258789.\n",
            "289.61483120918274 s elapsed (i.e. 24.134569267431896 s/epoch)\n",
            "[\"Ils s'amoncelaient au couchant du côté de Rouen, et roulaient vite leurs volutes noires, d'où dépassaient par derrière les grandes lignes du soleil, comme les flèches d'or d'un trophée suspendu, tandis que le reste du ciel vide avait la blancheur d'une porcelaine. Mais une rafale de vent fit se courber les peupliers, et tout à coup la pluie tomba; elle crépitait sur les feuilles vertes. Puis le soleil reparut, les poules chantèrent, des moineaux battaient des ailes dans les buissons humides, et les flaques d'eau sur le sable emportaient en s'écoulant les fleurs roses d'un acacia.\"]\n",
            "([\"-- C'est pas de la courait de la courait de la courait de la courait de la courait de la courait de la courait de la courait de la courait de la courait de la courait de la courait de la courait de la courait de la courait de la courait de la courait de la courait de la courait de la courait de la courait de la courait de la courait de la courait de la courait de la courait de la courait de la courait de la courait de la courait de la courait de la courait de la courait de la courait de la courait de la cour\"], tensor([-470.2819], device='cuda:0'))\n",
            "-- END OF EPOCH 12.\n",
            "Average loss: 1.433476448059082.\n",
            "313.0236802101135 s elapsed (i.e. 24.078744631547195 s/epoch)\n",
            "[\"En arrivant à l'auberge, madame Bovary fut étonnée de ne pas apercevoir la diligence. Hivert, qui l'avait attendue cinquante-trois minutes, avait fini par s'en aller.\"]\n",
            "(['-- Eh bien de la conseille de la conseille de la conseille de la conseille de la conseille de la conseille de la conseille de la conseille de la conseille de la conseille de la conseille de la conseille de la conseille de la conseille de la conseille de la conseille de la conseille de la conseille de la conseille de la conseille de la conseille de la conseille de la conseille de la conseille de la conseille de la conseille de la conseille de la conseille de la conseille de la conseille de la conseille de la '], tensor([-442.8225], device='cuda:0'))\n",
            "-- END OF EPOCH 13.\n",
            "Average loss: 1.406558871269226.\n",
            "338.2295663356781 s elapsed (i.e. 24.15925473826272 s/epoch)\n",
            "[\"Léon, sur le trottoir, continuait à marcher. Elle le suivait jusqu'à l'hôtel; il montait, il ouvrait la porte, il entrait... Quelle étreinte!\"]\n",
            "(['-- Ah! comme un peu de la chambre de la chambre de la chambre de la chambre de la chambre de la chambre de la chambre de la chambre de la chambre de la chambre de la chambre de la chambre de la chambre de la chambre de la chambre de la chambre de la chambre de la chambre de la chambre de la chambre de la chambre de la chambre de la chambre de la chambre de la chambre de la chambre de la chambre de la chambre de la chambre de la chambre de la chambre de la chambre de la chambre de la chambre de la chambre de '], tensor([-387.9904], device='cuda:0'))\n",
            "-- END OF EPOCH 14.\n",
            "Average loss: 1.3858481645584106.\n",
            "362.26438331604004 s elapsed (i.e. 24.150958887736003 s/epoch)\n",
            "['-- Oh! reprit-elle amèrement, ce sont de tristes charmes, mon ami, puisque vous les avez dédaignés.']\n",
            "([\"-- Ce ne pas pas l'exercher de la campagne de la campagne de la campagne de la campagne de la campagne de la campagne de la campagne de la campagne de la campagne de la campagne de la campagne de la campagne de la campagne de la campagne de la campagne de la campagne de la campagne de la campagne de la campagne de la campagne de la campagne de la campagne de la campagne de la campagne de la campagne de la campagne de la campagne de la campagne de la campagne de la campagne de la campagne de la campagne de la\"], tensor([-377.6561], device='cuda:0'))\n",
            "-- END OF EPOCH 15.\n",
            "Average loss: 1.3503947257995605.\n",
            "385.573872089386 s elapsed (i.e. 24.098367005586624 s/epoch)\n",
            "[\"Le bourg était endormi. Les piliers des halles allongeaient de grandes ombres. La terre était toute grise, comme par une nuit d'été.\"]\n",
            "(['-- Ah! comme un cour, et il se rentrait de sa considérable de sa considérable de sa considérable de sa considérable de sa considérable de sa considérable de sa considérable de sa considérable de sa considérable de sa considérable de sa considérable de sa considérable de sa considérable de sa considérable de sa considérable de sa considérable de sa considérable de sa considérable de sa considérable de sa considérable de sa considérable de sa considérable de sa considérable de sa considérable de sa considérabl'], tensor([-369.1727], device='cuda:0'))\n",
            "-- END OF EPOCH 16.\n",
            "Average loss: 1.3272615671157837.\n",
            "409.27329325675964 s elapsed (i.e. 24.074899603338803 s/epoch)\n",
            "['Et il se mit à demander des nouvelles du père Tellier, le maître du Café Français, que M. Bovary soignait alors.']\n",
            "(['-- Comme le prenait pas de la campagne de la porte de la porte de la porte de la porte de la porte de la porte de la porte de la porte de la porte de la porte de la porte de la porte de la porte de la porte de la porte de la porte de la porte de la porte de la porte de la porte de la porte de la porte de la porte de la porte de la porte de la porte de la porte de la porte de la porte de la porte de la porte de la porte de la porte de la porte de la porte de la porte de la porte de la porte de la porte de la '], tensor([-370.7884], device='cuda:0'))\n",
            "-- END OF EPOCH 17.\n",
            "Average loss: 1.3059886693954468.\n",
            "432.0398576259613 s elapsed (i.e. 24.002214312553406 s/epoch)\n",
            "[\"-- Mon gaillard, disait-il, commence à avoir des idées, et je crois, diable m'emporte, qu'il est amoureux de votre bonne!\"]\n",
            "(['-- Oui, elle se promenait pas de la cour de la cour de la cour de la cour de la cour de la cour de la cour de la cour de la cour de la cour de la cour de la cour de la cour de la cour de la cour de la cour de la cour de la cour de la cour de la cour de la cour de la cour de la cour de la cour de la cour de la cour de la cour de la cour de la cour de la cour de la cour de la cour de la cour de la cour de la cour de la cour de la cour de la cour de la cour de la cour de la cour de la cour de la cour de la cour'], tensor([-474.8528], device='cuda:0'))\n",
            "-- END OF EPOCH 18.\n",
            "Average loss: 1.2925301790237427.\n",
            "455.4832158088684 s elapsed (i.e. 23.972800832045706 s/epoch)\n",
            "[\"-- Oh! ce n'est pas le sens qui le gêne.\"]\n",
            "([\"-- Ah! ce qui n'est pas pas pas l'autre comme l'autre charrité de la chambre, et l'avait des chanses de la chambre, et le sentit par des charrités de la chambre, et l'avait des chanses de la chambre, et le sentit par des charrités de la chambre, et l'avait des chanses de la chambre, et le sentit par des charrités de la chambre, et l'avait des chanses de la chambre, et le sentit par des charrités de la chambre, et l'avait des chanses de la chambre, et le sentit par des charrités de la chambre, et l'avait des \"], tensor([-409.5551], device='cuda:0'))\n",
            "-- END OF EPOCH 19.\n",
            "Average loss: 1.272336721420288.\n",
            "478.30833625793457 s elapsed (i.e. 23.91541681289673 s/epoch)\n",
            "[\"Afin de ressaisir quelque chose d'elle, il alla chercher dans l'armoire, au chevet de son lit, une vieille boîte à biscuits de Reims où il enfermait d'habitude ses lettres de femmes, et il s'en échappa une odeur de poussière humide et de roses flétries. D'abord il aperçut un mouchoir de poche, couvert de gouttelettes pâles. C'était un mouchoir à elle, une fois qu'elle avait saigné du nez, en promenade; il ne s'en souvenait plus. Il y avait auprès, se cognant à tous les angles, la miniature donnée par Emma; sa toilette lui parut prétentieuse et son regard en coulisse du plus pitoyable effet; puis, à force de considérer cette image et d'évoquer le souvenir du modèle, les traits d'Emma peu à peu se confondirent en sa mémoire, comme si la figure vivante et la figure peinte, se frottant l'une contre l'autre, se fussent réciproquement effacées. Enfin il lut de ses lettres; elles étaient pleines d'explications relatives à leur voyage, courtes, techniques et pressantes comme des billets d'affaires. Il voulut revoir les longues, celles d'autrefois; pour les trouver au fond de la boîte, Rodolphe dérangea toutes les autres; et machinalement il se mit à fouiller dans ce tas de papiers et de choses, y retrouvant pêle-mêle des bouquets, une jarretière, un masque noir, des épingles et des cheveux -- des cheveux! de bruns, de blonds; quelques-uns même, s'accrochant à la ferrure de la boîte, se cassaient quand on l'ouvrait.\"]\n",
            "(['-- Eh bien, dit-il en se restait des cours de la consultation de la consultation de la consultation de la consultation de la consultation de la consultation de la consultation de la consultation de la consultation de la consultation de la consultation de la consultation de la consultation de la consultation de la consultation de la consultation de la consultation de la consultation de la consultation de la consultation de la consultation de la consultation de la consultation de la consultation de la consulta'], tensor([-361.5021], device='cuda:0'))\n",
            "-- END OF EPOCH 20.\n",
            "Average loss: 1.2525713443756104.\n",
            "502.60402393341064 s elapsed (i.e. 23.93352494921003 s/epoch)\n",
            "[\"Charles se demanda plusieurs fois par quel moyen, l'année prochaine, pouvoir rembourser tant d'argent; et il cherchait, imaginait des expédients, comme de recourir à son père ou de vendre quelque chose. Mais son père serait sourd, et il n'avait, lui, rien à vendre. Alors il découvrait de tels embarras, qu'il écartait vite de sa conscience un sujet de méditation aussi désagréable. Il se reprochait d'en oublier Emma; comme si, toutes ses pensées appartenant à cette femme, c'eût été lui dérober quelque chose que de n'y pas continuellement réfléchir.\"]\n",
            "([\"-- C'est pas de l'autre, et le conseillait de la conversation de la connaissance de la conseiller de la conversation de la conseiller de la conversation de la conseiller de la conversation de la conseiller de la conversation de la conseiller de la conversation de la conseiller de la conversation de la conseiller de la conversation de la conseiller de la conversation de la conseiller de la conversation de la conseiller de la conversation de la conseiller de la conversation de la conseiller de la conversation \"], tensor([-358.3027], device='cuda:0'))\n",
            "-- END OF EPOCH 21.\n",
            "Average loss: 1.238552212715149.\n",
            "527.1093549728394 s elapsed (i.e. 23.95951613512906 s/epoch)\n",
            "[\"Elle se relevait, et ils allaient partir, quand le Suisse s'approcha vivement, en disant:\"]\n",
            "([\"-- Ah! comment de l'autre, comme il se rendrait de l'autre comme un charrue de la chambre, et il se rendait de l'autre comme un charrue de la chambre, et il se rendait de l'autre comme un charrue de la chambre, et il se rendait de l'autre comme un charrue de la chambre, et il se rendait de l'autre comme un charrue de la chambre, et il se rendait de l'autre comme un charrue de la chambre, et il se rendait de l'autre comme un charrue de la chambre, et il se rendait de l'autre comme un charrue de la chambre, et\"], tensor([-393.3052], device='cuda:0'))\n",
            "-- END OF EPOCH 22.\n",
            "Average loss: 1.2239590883255005.\n",
            "550.636533498764 s elapsed (i.e. 23.94071884777235 s/epoch)\n",
            "[\"-- À cause du changement de régime, continua le pharmacien, et de la perturbation qui en résulte dans l'économie générale. Et puis, l'eau de Paris, voyez-vous! les mets de restaurateurs, toutes ces nourritures épicées finissent par vous échauffer le sang et ne valent pas, quoi qu'on en dise, un bon pot-au-feu. J'ai toujours, quant à moi, préféré la cuisine bourgeoise: c'est plus sain! Aussi, lorsque j'étudiais à Rouen la pharmacie, je m'étais mis en pension dans une pension; je mangeais avec les professeurs.\"]\n",
            "([\"-- C'est vrai! je ne vous pensez-vous pas plus donc de la conseiller de la conseiller de la conseiller de la cour de la cour de la cour de la cour de la cour de la cour de la cour de la cour de la cour de la cour de la cour de la cour de la cour de la cour de la cour de la cour de la cour de la cour de la cour de la cour de la cour de la cour de la cour de la cour de la cour de la cour de la cour de la cour de la cour de la cour de la cour de la cour de la cour de la cour de la cour de la cour de la cour de \"], tensor([-382.0739], device='cuda:0'))\n",
            "-- END OF EPOCH 23.\n",
            "Average loss: 1.2112431526184082.\n",
            "575.2916197776794 s elapsed (i.e. 23.97048415740331 s/epoch)\n",
            "[\"Et comme le clerc s'obstinait toujours:\"]\n",
            "([\"-- Ah! c'est pas de l'autre comme une faire de sa petite enfin de sa petite enfin de sa petite enfin de son partie de son partie de son partie de son partie de son partie de son partie de son partie de son partie de son partie de son partie de son partie de son partie de son partie de son partie de son partie de son partie de son partie de son partie de son partie de son partie de son partie de son partie de son partie de son partie de son partie de son partie de son partie de son partie de son partie de son\"], tensor([-464.2928], device='cuda:0'))\n",
            "-- END OF EPOCH 24.\n",
            "Average loss: 1.1898982524871826.\n",
            "599.3881158828735 s elapsed (i.e. 23.97552463531494 s/epoch)\n",
            "[\"Ensuite il lui montra négligemment plusieurs marchandises nouvelles, mais dont pas une, dans son opinion, n'était digne de Madame.\"]\n",
            "([\"Elle se retourna la pointe de son coeur de la pointe de l'église de son coeur de son coeur de son coeur de son coeur de son coeur de son coeur de son coeur de son coeur de son coeur de son coeur de son coeur de son coeur de son coeur de son coeur de son coeur de son coeur de son coeur de son coeur de son coeur de son coeur de son coeur de son coeur de son coeur de son coeur de son coeur de son coeur de son coeur de son coeur de son coeur de son coeur de son coeur de son coeur de son coeur de son coeur de son\"], tensor([-352.4730], device='cuda:0'))\n",
            "-- END OF EPOCH 25.\n",
            "Average loss: 1.180310845375061.\n",
            "623.5108721256256 s elapsed (i.e. 23.98118738944714 s/epoch)\n",
            "['Puis, se ravisant:']\n",
            "(['-- Ah! moi je vous aimerai toujours de la main, dit le moins de la main, et la tête en se rendre dans la campagne de la campagne de la campagne de la campagne de la campagne de la campagne de la campagne de la campagne de la campagne de la campagne de la campagne de la campagne de la campagne de la campagne de la campagne de la campagne de la campagne de la campagne de la campagne de la campagne de la campagne de la campagne de la campagne de la campagne de la campagne de la campagne de la campagne de la cam'], tensor([-338.4234], device='cuda:0'))\n",
            "-- END OF EPOCH 26.\n",
            "Average loss: 1.1720222234725952.\n",
            "647.3789639472961 s elapsed (i.e. 23.97699866471467 s/epoch)\n",
            "[\"-- Eh! tant pis! qu'il me trompe, que m'importe! est-ce que j'y tiens?\"]\n",
            "([\"-- Ce n'est pas de la main si bien que l'on ne s'appela pas de la chambre, que l'on ne pouvait pas de la chambre, et les manières de la chambre, et les manières de la chambre, et les manières de la chambre, et les manières de la chambre, et les manières de la chambre, et les manières de la chambre, et les manières de la chambre, et les manières de la chambre, et les manières de la chambre, et les manières de la chambre, et les manières de la chambre, et les manières de la chambre, et les manières de la chamb\"], tensor([-332.8925], device='cuda:0'))\n",
            "-- END OF EPOCH 27.\n",
            "Average loss: 1.1616178750991821.\n",
            "670.6922838687897 s elapsed (i.e. 23.953295852456773 s/epoch)\n",
            "[\"-- Eh bien, répondit Emma, dites-lui... que je n'en ai pas... Ce sera la semaine prochaine... Qu'il attende... oui, la semaine prochaine.\"]\n",
            "([\"-- Ah! c'est vrai! dit-elle.\"], tensor([-15.0170], device='cuda:0'))\n",
            "-- END OF EPOCH 28.\n",
            "Average loss: 1.149284839630127.\n",
            "694.2954738140106 s elapsed (i.e. 23.941223234965882 s/epoch)\n",
            "[\"L'automne commençait et déjà les feuilles tombaient, -- comme il y a deux ans, lorsqu'elle était malade! -- Quand donc tout cela finira-t-il!... Et il continuait à marcher, les deux mains derrière le dos.\"]\n",
            "([\"-- Ah! ce que le voir par le marche de l'autre, comme le comprendre de l'autre, comme le compagnie de la chambre, et le commerce de la chambre, et le commerce de la chambre, et le commerce de la chambre, et le commerce de la chambre, et le commerce de la chambre, et le commerce de la chambre, et le commerce de la chambre, et le commerce de la chambre, et le commerce de la chambre, et le commerce de la chambre, et le commerce de la chambre, et le commerce de la chambre, et le commerce de la chambre, et le com\"], tensor([-355.5884], device='cuda:0'))\n",
            "-- END OF EPOCH 29.\n",
            "Average loss: 1.1396498680114746.\n",
            "718.0435149669647 s elapsed (i.e. 23.934783832232156 s/epoch)\n",
            "[\"-- Souvent, reprit-il, je vous écrivais des lettres qu'ensuite je déchirais.\"]\n",
            "(['-- Oui, dit le pharmacien, pour les doigts de son en faire de son coeur de son en faire de son en faire de son en faire de son en faire de son en faire de son en faire de son en faire de son en faire de son en faire de son en faire de son en faire de son en faire de son en faire de son en faire de son en faire de son en faire de son en faire de son en faire de son en faire de son en faire de son en faire de son en faire de son en faire de son en faire de son en faire de son en faire de son en faire de son en'], tensor([-370.1390], device='cuda:0'))\n",
            "-- END OF EPOCH 30.\n",
            "Average loss: 1.1310409307479858.\n",
            "741.1209514141083 s elapsed (i.e. 23.907127464971236 s/epoch)\n",
            "['Elle le trouva dans sa boutique, en train de ficeler un paquet.']\n",
            "(['-- Ah! mon amie! dit le pharmacien, dit le pharmacien, de la commande de la commande de la commande de la commande de la commande de la commande de la commande de la commande de la commande de la commande de la commande de la commande de la commande de la commande de la commande de la commande de la commande de la commande de la commande de la commande de la commande de la commande de la commande de la commande de la commande de la commande de la commande de la commande de la commande de la commande de la co'], tensor([-374.4882], device='cuda:0'))\n",
            "-- END OF EPOCH 31.\n",
            "Average loss: 1.1198469400405884.\n",
            "763.7472884654999 s elapsed (i.e. 23.86710276454687 s/epoch)\n",
            "[\"-- Mais vous me demandiez quelque chose? Qu'est-ce donc? Je ne sais plus.\"]\n",
            "([\"-- C'est le monde au moindre au moindre au cout de la main, elle se regardait des chambres de la chambre, elle se rendait par la porte de la chambre, elle se rendait par la porte de la chambre, elle se rendait par la porte de la chambre, elle se rendait par la porte de la chambre, elle se rendait par la porte de la chambre, elle se rendait par la porte de la chambre, elle se rendait par la porte de la chambre, elle se rendait par la porte de la chambre, elle se rendait par la porte de la chambre, elle se ren\"], tensor([-349.3889], device='cuda:0'))\n",
            "-- END OF EPOCH 32.\n",
            "Average loss: 1.1130917072296143.\n",
            "787.5227665901184 s elapsed (i.e. 23.86432626030662 s/epoch)\n",
            "['-- Ah! voilà que ça commence! murmura-t-elle.']\n",
            "([\"-- Ah! c'est qu'il a des chevaux de la chemise.\"], tensor([-31.4267], device='cuda:0'))\n",
            "-- END OF EPOCH 33.\n",
            "Average loss: 1.1058781147003174.\n",
            "812.7917587757111 s elapsed (i.e. 23.9056399639915 s/epoch)\n",
            "[\"Et il ajoutait d'un ton méditatif:\"]\n",
            "(['-- Ah! vous vous vous donnerai les petits cours de la cheminée.'], tensor([-41.0788], device='cuda:0'))\n",
            "-- END OF EPOCH 34.\n",
            "Average loss: 1.0965315103530884.\n",
            "836.9653160572052 s elapsed (i.e. 23.913294744491576 s/epoch)\n",
            "[\"M. Léon posa délicatement sur ses épaules son long châle de dentelle, et ils allèrent tous les trois s'asseoir sur le port, en plein air, devant le vitrage d'un café.\"]\n",
            "([\"-- Ce n'est pas de la faute de voir sa personne, et la promenade de la commode de la consolation de la consolation de la consolation de la consolation de la consolation de la consolation de la consolation de la consolation de la consolation de la consolation de la consolation de la consolation de la consolation de la consolation de la consolation de la consolation de la consolation de la consolation de la consolation de la consolation de la consolation de la consolation de la consolation de la consolation de\"], tensor([-332.2381], device='cuda:0'))\n",
            "-- END OF EPOCH 35.\n",
            "Average loss: 1.0866994857788086.\n",
            "860.5333151817322 s elapsed (i.e. 23.90370319949256 s/epoch)\n",
            "[\"-- Madame il faut que vous alliez tout de suite chez M. Homais. C'est pour quelque chose de pressé.\"]\n",
            "([\"-- Ah! ce n'est pas la peine! dit le pharmacien, comme le monde de la pointe de la porte, et la proposition de sa poitrine, et la proposition de sa poitrine, et la proposition de sa poitrine, et la proposition de sa poitrine, et la proposition de sa poitrine, et la proposition de sa poitrine, et la proposition de sa poitrine, et la proposition de sa poitrine, et la proposition de sa poitrine, et la proposition de sa poitrine, et la proposition de sa poitrine, et la proposition de sa poitrine, et la propositi\"], tensor([-300.8128], device='cuda:0'))\n",
            "-- END OF EPOCH 36.\n",
            "Average loss: 1.0768769979476929.\n",
            "883.2699308395386 s elapsed (i.e. 23.8721602929605 s/epoch)\n",
            "[\"À peine arrivé chez lui, Rodolphe s'assit brusquement à son bureau, sous la tête de cerf faisant trophée contre la muraille. Mais, quand il eut la plume entre les doigts, il ne sut rien trouver, si bien que, s'appuyant sur les deux coudes, il se mit à réfléchir. Emma lui semblait être reculée dans un passé lointain, comme si la résolution qu'il avait prise venait de placer entre eux, tout à coup, un immense intervalle.\"]\n",
            "([\"-- Ah! c'est qu'il faut pour lui dire quelques résolutions de la petite femme de sa main, elle se rencontra dans la porte de la porte, et il revint de la porte, et il revint de la porte, et il revint de la porte, et il revint de la porte, et il revint de la porte, et il revint de la porte, et il revint de la porte, et il revint de la porte, et il revint de la porte, et il revint de la porte, et il revint de la porte, et il revint de la porte, et il revint de la porte, et il revint de la porte, et il revint d\"], tensor([-334.9713], device='cuda:0'))\n",
            "-- END OF EPOCH 37.\n",
            "Average loss: 1.0739026069641113.\n",
            "906.6026713848114 s elapsed (i.e. 23.857965036442405 s/epoch)\n",
            "[\"-- J'ai été malade.\"]\n",
            "([\"-- Oh! c'est une chose de votre petite partie de votre petite partie de votre petite partie de votre petite partie de votre petite partie de votre petite partie de votre petite partie de votre petite partie de ces mots de la conversation de l'autre couvert de la main sur le port de la cour de la porte et les plus de la cour de la porte et les plus de la cour de la porte et les plus de la cour de la porte et les bras de la cour de la porte et les plus de la cour de la porte et les bras de la cour de la porte \"], tensor([-384.2831], device='cuda:0'))\n",
            "-- END OF EPOCH 38.\n",
            "Average loss: 1.0659794807434082.\n",
            "930.7164435386658 s elapsed (i.e. 23.864524193299122 s/epoch)\n",
            "[\"Les cafés d'alentour étaient pleins. Ils avisèrent sur le port un restaurant des plus médiocres, dont le maître leur ouvrit, au quatrième étage, une petite chambre.\"]\n",
            "([\"-- Ah! c'est une malheureuse de sa maison du mois de la chambre, elle se pencha par une petite femme de sa petite femme de sa petite femme de sa petite femme de sa petite femme de sa petite femme de sa petite femme de sa petite femme de sa petite femme de sa poste se répétant de la chambre, et les pauvres femmes, et les pauvres femmes, et les pauvres femmes, et les pauvres femmes, et les pauvres femmes, et les pauvres femmes, et les pauvres femmes, et les pauvres femmes, et les pauvres femmes, et les pauvres\"], tensor([-319.0756], device='cuda:0'))\n",
            "-- END OF EPOCH 39.\n",
            "Average loss: 1.0600330829620361.\n",
            "954.7276356220245 s elapsed (i.e. 23.868190890550615 s/epoch)\n",
            "[\"Rodolphe réfléchit beaucoup à cette histoire de pistolets. Si elle avait parlé sérieusement, cela était fort ridicule, pensait-il, odieux même, car il n'avait, lui, aucune raison de haïr ce bon Charles, n'étant pas ce qui s'appelle dévoré de jalousie; -- et, à ce propos, Emma lui avait fait un grand serment qu'il ne trouvait pas non plus du meilleur goût.\"]\n",
            "([\"-- Ah! c'est un signe de son ami, que je vous aime! reprit-elle.\"], tensor([-40.2086], device='cuda:0'))\n",
            "-- END OF EPOCH 40.\n",
            "Average loss: 1.0518004894256592.\n",
            "977.9333236217499 s elapsed (i.e. 23.852032283457316 s/epoch)\n",
            "[\"Jamais madame Bovary ne fut aussi belle qu'à cette époque; elle avait cette indéfinissable beauté qui résulte de la joie, de l'enthousiasme, du succès, et qui n'est que l'harmonie du tempérament avec les circonstances. Ses convoitises, ses chagrins, l'expérience du plaisir et ses illusions toujours jeunes, comme font aux fleurs le fumier, la pluie, les vents et le soleil, l'avaient par gradations développée, et elle s'épanouissait enfin dans la plénitude de sa nature. Ses paupières semblaient taillées tout exprès pour ses longs regards amoureux où la prunelle se perdait, tandis qu'un souffle fort écartait ses narines minces et relevait le coin charnu de ses lèvres, qu'ombrageait à la lumière un peu de duvet noir. On eût dit qu'un artiste habile en corruptions avait disposé sur sa nuque la torsade de ses cheveux: ils s'enroulaient en une masse lourde, négligemment, et selon les hasards de l'adultère, qui les dénouait tous les jours. Sa voix maintenant prenait des inflexions plus molles, sa taille aussi; quelque chose de subtil qui vous pénétrait se dégageait même des draperies de sa robe et de la cambrure de son pied. Charles, comme aux premiers temps de son mariage, la trouvait délicieuse et tout irrésistible.\"]\n",
            "([\"-- C'est le soir, dit le pharmacien, et la première fois qu'elle se rappelait les cordons de sa femme, et le conseil reconnut le corps de la contraire, et le pharmacien se trouvait encore le parquet, et le pharmacien se trouvait encore le parquet, et le pharmacien se trouvait encore le parquet, et le pharmacien se trouvait encore le parquet, et le pharmacien se trouvait encore le parquet, et le pharmacien se trouvait encore le parquet, et le pharmacien se trouvait encore le parquet, et le pharmacien se trouv\"], tensor([-299.0305], device='cuda:0'))\n",
            "-- END OF EPOCH 41.\n",
            "Average loss: 1.0519077777862549.\n",
            "1001.4242944717407 s elapsed (i.e. 23.843435582660494 s/epoch)\n",
            "[\"La nef se mirait dans les bénitiers pleins, avec le commencement des ogives et quelques portions de vitrail. Mais le reflet des peintures, se brisant au bord du marbre, continuait plus loin, sur les dalles, comme un tapis bariolé. Le grand jour du dehors s'allongeait dans l'église en trois rayons énormes, par les trois portails ouverts. De temps à autre, au fond, un sacristain passait en faisant devant l'autel l'oblique génuflexion des dévots pressés. Les lustres de cristal pendaient immobiles. Dans le choeur, une lampe d'argent brûlait; et, des chapelles latérales, des parties sombres de l'église, il s'échappait quelquefois comme des exhalaisons de soupirs, avec le son d'une grille qui retombait, en répercutant son écho sous les hautes voûtes.\"]\n",
            "(['-- Celle disait-il en se promener aux illusions de la poitrine, qui avait des anciens plats de la commode, et de plus sous les pauvres champs, et les plaisantes de la contemples, et les plantes de la contemples, et les plantes de la contemples, et les plantes de la contemples, et les plantes de la contemples, et les plantes de la contemples, et les plantes de la contemples, et les plantes de la contemples, et les plantes de la contemples, et les plantes de la contemples, et les plantes de la contemples, et l'], tensor([-358.8167], device='cuda:0'))\n",
            "-- END OF EPOCH 42.\n",
            "Average loss: 1.0382293462753296.\n",
            "1024.9939296245575 s elapsed (i.e. 23.83706813080366 s/epoch)\n",
            "[\"Madame Bovary, le soir, n'alla pas chez ses voisins, et, quand Charles fut parti, lorsqu'elle se sentit seule, le parallèle recommença dans la netteté d'une sensation presque immédiate et avec cet allongement de perspective que le souvenir donne aux objets. Regardant de son lit le feu clair qui brûlait, elle voyait encore, comme là-bas, Léon debout, faisant plier d'une main sa badine et tenant de l'autre Athalie, qui suçait tranquillement un morceau de glace. Elle le trouvait charmant; elle ne pouvait s'en détacher; elle se rappela ses autres attitudes en d'autres jours, des phrases qu'il avait dites, le son de sa voix, toute sa personne; et elle répétait, en avançant ses lèvres comme pour un baiser:\"]\n",
            "([\"-- Ah! tenez, dit le pharmacien, qui s'était trouvée dans sa chambre, et le pharmacien se penchait sur le parc. Les portes de chambre, et le compte de la cheminée de sa main, et le parc, après les descriptions de la cheminée de sa mainite, et le pharmacien se penchait sur le chevet de la cheminée de sa main, et le parc, après les dents de la cheminée de sa mainite, et le confessionnait de sa mainite, et le pharmacien se penchait sur le chevet de la cheminée de sa main, et le parc, après les dents de la chemi\"], tensor([-315.7424], device='cuda:0'))\n",
            "-- END OF EPOCH 43.\n",
            "Average loss: 1.0281544923782349.\n",
            "1049.3595683574677 s elapsed (i.e. 23.849081099033356 s/epoch)\n",
            "[\"Il y a toujours après la mort de quelqu'un comme une stupéfaction qui se dégage, tant il est difficile de comprendre cette survenue du néant et de se résigner à y croire. Mais, quand il s'aperçut pourtant de son immobilité, Charles se jeta sur elle en criant:\"]\n",
            "([\"-- Ah! c'est que je vous aime! reprit le pharmacien, qui avait les mains de la chambre, au milieu du monde que l'on a plus remonter sa main.\"], tensor([-81.0160], device='cuda:0'))\n",
            "-- END OF EPOCH 44.\n",
            "Average loss: 1.0284785032272339.\n",
            "1072.2751348018646 s elapsed (i.e. 23.828336328930327 s/epoch)\n",
            "[\"Il fut longtemps à se rappeler ainsi toutes les félicités disparues, ses attitudes, ses gestes, le timbre de sa voix. Après un désespoir, il en venait un autre, et toujours, intarissablement, comme les flots d'une marée qui déborde.\"]\n",
            "([\"-- Ah! c'est que je ne sais pas de l'amour de ces mots de commode pour les mercredis que l'on avait conséqué, s'étant sans doute, c'était le commerce des pommes de la commode, en regardant les cabinets de la commode, en regardant les bras de la chambre, elle se recula de ses bandeaux qui se regardaient dans le second sa couche, elle se recula tout en face, avec des boutiques de la chambre, elle se recula tout en arrivant, et le regard trouver les mains de la chambre, elle se recula tout en face, avec des bou\"], tensor([-311.2513], device='cuda:0'))\n",
            "-- END OF EPOCH 45.\n",
            "Average loss: 1.0264390707015991.\n",
            "1094.4900226593018 s elapsed (i.e. 23.793261362158734 s/epoch)\n",
            "['-- Assurément! les ouvriers des villes, par exemple.']\n",
            "([\"-- C'est que c'est une fortune et de sa maison, et la petite femme en s'était répété de la petite femme en s'était répété de la porte, et s'appuyant sur le seuil de la porte, et s'appuyant sur le seuil de la porte, et s'appuyant sur le seuil de la porte, et s'appuyant sur le seuil de la porte, et s'appuyant sur le seuil de la porte, et s'appuyant sur le seuil de la porte, et s'appuyant sur le seuil de la porte, et s'appuyant sur le seuil de la porte, et s'appuyant sur le seuil de la porte, et s'appuyant sur \"], tensor([-272.3815], device='cuda:0'))\n",
            "-- END OF EPOCH 46.\n",
            "Average loss: 1.0190616846084595.\n",
            "1118.5264632701874 s elapsed (i.e. 23.79843538872739 s/epoch)\n",
            "[\"-- Mais, ma chère dame, j'y vais! j'y vais!\"]\n",
            "([\"-- Ah! c'est que je suis au courage! Je suis au courage! Et le matin d'avance que le pharmacien de la charreterie de sa maison de sa maison de sa maison de sa maison de sa maison de sa maison de sa maison de sa personne qui la regardait d'un air bandis, qui la regardait d'un air bandis, qui la regardait d'un air bandis, qui la regardait d'un air bandis, qui la regardait d'un air bandis, qui la regardait d'un air bandis, qui la regardait d'un air bandis, qui la regardait d'un air bandis, qui la regardait d'un\"], tensor([-319.3169], device='cuda:0'))\n",
            "-- END OF EPOCH 47.\n",
            "Average loss: 1.0097668170928955.\n",
            "1142.3446719646454 s elapsed (i.e. 23.79884733259678 s/epoch)\n",
            "['-- Vous profitez impudemment de ma détresse, monsieur! Je suis à plaindre, mais pas à vendre!']\n",
            "([\"-- Ah! c'est vrai, disait-elle.\"], tensor([-12.9245], device='cuda:0'))\n",
            "-- END OF EPOCH 48.\n",
            "Average loss: 1.0001356601715088.\n",
            "1165.9310555458069 s elapsed (i.e. 23.79451133766953 s/epoch)\n",
            "['-- Elle crie trop fort, dit-elle en se tournant vers Charles, qui écoutait.']\n",
            "([\"-- Ah! c'est une femme! dit Emma, de la petite fille et s'en retourna vite.\"], tensor([-41.4286], device='cuda:0'))\n",
            "-- END OF EPOCH 49.\n",
            "Average loss: 0.9968889355659485.\n",
            "1189.9645442962646 s elapsed (i.e. 23.79929088592529 s/epoch)\n",
            "['-- Lisez vous-même, dit Bovary.']\n",
            "([\"-- Moi, je ne sais pas le moins que je ne sourirez pas mieux que je ne suis pas que j'ai pensé dans l'armoire que l'on ne pense pas que le pharmacien. Il avait décidé si proposer le pharmacien.\"], tensor([-103.0589], device='cuda:0'))\n"
          ]
        }
      ],
      "source": [
        "model = Model(size_vocabulary=len(char_vocabulary), EOP_id=EOP_id, embedding_dim=256, lstm_hidden_size=512, lstm_layers=1, device=device)\n",
        "\n",
        "import time\n",
        "\n",
        "model.eval() # Tells PyTorch we are in evaluation/inference mode (can be useful if dropout is used, for instance).\n",
        "\n",
        "# Training procedure\n",
        "learning_rate = 0.2\n",
        "momentum = 0.99\n",
        "l2_reg = 0.0001\n",
        "optimizer = torch.optim.SGD(model.parameters(), lr=learning_rate, momentum=momentum, weight_decay=l2_reg) # Once the backward propagation has been done, call the 'step' method (with no argument) to update the parameters.\n",
        "batch_size = 64 if(not use_toy_dataset) else 128\n",
        "subset = None # Use an integer to train on a smaller portion of the training set, otherwise use None.\n",
        "epoch_size = batch_generator.length() if(subset is None) else subset # In number of instances\n",
        "\n",
        "nb_epoch = 50 if(not use_toy_dataset) else 1\n",
        "epoch_id = 0 # Id of the current epoch\n",
        "instances_processed = 0 # Number of instances trained on in the current epoch\n",
        "epoch_loss = [] # Will contain the loss for each batch of the current epoch\n",
        "train_loss = [] # Will contain the train loss for every epoch\n",
        "durations = [] # Will contain the computation time for every epoch\n",
        "time_0 = time.time()\n",
        "while(epoch_id < nb_epoch):\n",
        "  model.train() # Tells Pytorch we are in training mode (can be useful if dropout is used, for instance).\n",
        "\n",
        "  model.zero_grad() # Makes sure the gradient is reinitialised to zero.\n",
        "\n",
        "  batch = batch_generator.get_batch(batch_size, subset=subset)\n",
        "  #print(ids_to_texts(batch[0])); print(ids_to_texts(batch[1]))\n",
        "  in_paragraphs = batch[0].to(model.device)\n",
        "  out_paragraphs = batch[1].to(model.device)\n",
        "\n",
        "  # You have to (i) compute the prediction of the model, (ii) compute the loss, (iii) call \"backward\" on the loss and (iv) store the loss in \"epoch_loss\".\n",
        "  # For the loss, use torch.nn.functional.nll_loss. Computes an average over all tokens of the batch, but do not take into account distribution logits that corresonds to padding characters. Read the documentation and be careful about the shape of your tensors.\n",
        "  # TAKE THIS COMMENT EXTRA-SERIOUSLY: If you have a problem of unmatching length, consider a batch of size 1 and represent in details on paper what is in `out_paragraphs`, what is output by `trainingLogits`, and what the loss function computes; there is probably an additional meaningless item somewhere (or maybe something is missing).\n",
        "  ###################\n",
        "  preds = model.trainingLogits(in_paragraphs, out_paragraphs) # Shape: (batch_size, seq_len, vocab_size)\n",
        "  # Reshape the predictions to compute the loss.\n",
        "  reshaped_preds = preds.view(-1, len(char_vocabulary)) # Shape: (batch_size * seq_len, vocab_size)\n",
        "  targets = out_paragraphs.view(-1) # Shape: (batch_size * seq_len)\n",
        "\n",
        "  loss = torch.nn.functional.nll_loss(\n",
        "      input=reshaped_preds,\n",
        "      target=targets,\n",
        "      ignore_index=batch_generator.padding_idx,\n",
        "      reduction='mean'\n",
        "  )\n",
        "\n",
        "  loss.backward()\n",
        "  epoch_loss.append(loss)\n",
        "  ###################\n",
        "\n",
        "  optimizer.step() # Updates the parameters.\n",
        "\n",
        "  instances_processed += batch_size\n",
        "  if(instances_processed > epoch_size):\n",
        "    print(f\"-- END OF EPOCH {epoch_id}.\")\n",
        "    average_loss = sum(epoch_loss) / len(epoch_loss)\n",
        "    train_loss.append(average_loss) # Append the list of average losses.\n",
        "    print(f\"Average loss: {average_loss.item()}.\")\n",
        "    duration = time.time() - time_0\n",
        "    durations.append(duration)\n",
        "    print(f\"{duration} s elapsed (i.e. {duration / (epoch_id + 1)} s/epoch)\")\n",
        "\n",
        "    # Example of generation\n",
        "    with torch.no_grad(): # Deactivates Autograd (it is computationaly expensive and we don't need it here).\n",
        "      batch = batch_generator.get_batch(1, subset=subset)\n",
        "      print(ids_to_texts(batch[0])) # Input paragraph\n",
        "      print(model.predictionStrings(batch[0].to(model.device), max_predicted_char=512)) # Generated output paragraph.\n",
        "\n",
        "    epoch_id += 1\n",
        "    instances_processed -= epoch_size\n",
        "    epoch_loss = []"
      ]
    },
    {
      "cell_type": "code",
      "execution_count": null,
      "metadata": {
        "id": "cxs4UZRAHxx3",
        "colab": {
          "base_uri": "https://localhost:8080/"
        },
        "outputId": "29749bf2-cbae-48c8-d437-79292ab4859f"
      },
      "outputs": [
        {
          "output_type": "stream",
          "name": "stdout",
          "text": [
            "Charles Bovary sortit une bonne bouteille de vin et alla chercher des verres pour ses invités.\n",
            "\n",
            "0: -- Ah! ne son père que je ne sais pas, mon ami, il a des extraordinaires de l'autre chose.\n",
            "log-probability: -50.219722747802734\n",
            "1: -- Ah! ne son père que je ne sais pas, mon ami, il a des extraordinaires de l'autre chose.\n",
            "log-probability: -50.219722747802734\n",
            "2: -- Ah! ne son père que je ne sais pas, mon ami, il a des extraordinaires de l'autre chose.\n",
            "log-probability: -50.219722747802734\n",
            "3: -- Ah! ne son père que je ne sais pas, mon ami, il a des extraordinaires de l'autre chose.\n",
            "log-probability: -50.219722747802734\n",
            "4: -- Ah! ne son père que je ne sais pas, mon ami, il a des extraordinaires de l'autre chose.\n",
            "log-probability: -50.219722747802734\n",
            "5: -- Ah! ne son père que je ne sais pas, mon ami, il a des extraordinaires de l'autre chose.\n",
            "log-probability: -50.219722747802734\n",
            "6: -- Ah! ne son père que je ne sais pas, mon ami, il a des extraordinaires de l'autre chose.\n",
            "log-probability: -50.219722747802734\n",
            "7: -- Ah! ne son père que je ne sais pas, mon ami, il a des extraordinaires de l'autre chose.\n",
            "log-probability: -50.219722747802734\n",
            "8: -- Ah! ne son père que je ne sais pas, mon ami, il a des extraordinaires de l'autre chose.\n",
            "log-probability: -50.219722747802734\n",
            "9: -- Ah! ne son père que je ne sais pas, mon ami, il a des extraordinaires de l'autre chose.\n",
            "log-probability: -50.219722747802734\n"
          ]
        }
      ],
      "source": [
        "with torch.no_grad(): # Deactivates Autograd (it is computationaly expensive and we don't need it here).\n",
        "  if(use_toy_dataset):\n",
        "    prompt = [\"AAAA. Now, please write 3 i.\" + EOP] #[paragraphs[0]]\n",
        "    print(prompt[0])\n",
        "    print(f\"(Is this prompt in the training set? {prompt[0] in paragraphs})\\n\")\n",
        "\n",
        "    for _ in range(10):\n",
        "      batch = batch_generator.turn_into_batch(prompt)\n",
        "      gen_texts, logprobs = model.predictionStrings(batch.to(model.device), max_predicted_char=128)\n",
        "\n",
        "      print(f\"{gen_texts[0]} (log-probability: {logprobs.item()})\")\n",
        "      prompt = [gen_texts[0] + EOP]\n",
        "  else:\n",
        "    prompt = [\"Charles Bovary sortit une bonne bouteille de vin et alla chercher des verres pour ses invités.\"] * 10\n",
        "    batch = batch_generator.turn_into_batch(prompt)\n",
        "    gen_texts, logprobs = model.predictionStrings(batch.to(model.device), max_predicted_char=1024)\n",
        "\n",
        "    print(prompt[0])\n",
        "    print()\n",
        "    for i, (gen_text, logprob) in enumerate(zip(gen_texts, logprobs)):\n",
        "      print(f\"{i}: \", end=\"\")\n",
        "      print(gen_text)\n",
        "      print(f\"log-probability: {logprob.item()}\")"
      ]
    },
    {
      "cell_type": "markdown",
      "metadata": {
        "id": "50HbcnPmXkMT"
      },
      "source": [
        "If your system does not work as expected, check that you are using a sensible loss function, but also check that your implementation matches the architecture depicted in https://moodle.u-paris.fr/mod/resource/view.php?id=648001.\n",
        "\n",
        "**Even if you think that your model learns well, check that it really works on the toy dataset.** If you cannot get perfect results there, then there must be a bug somewhere."
      ]
    },
    {
      "cell_type": "markdown",
      "metadata": {
        "id": "J2GHjtPr4Mw2"
      },
      "source": [
        "Read the remarks at the beginning of the TP again, and remember the relevant ones from previous TPs.\n",
        "\n",
        "Once you are sure that your system is correctly implemented and generates texts that look a little bit like natural language, find ways to improve the system.\n",
        "Here are some ideas (ordered arbitrarily):\n",
        "\n",
        "*   Use graphs to visualise the training process and the predictions.\n",
        "*   Compute a measure that evaluates the performance of the model.\n",
        "*   Split your dataset into a training and a development section, and use this split in a relevant way.\n",
        "*   Implement beam decoding instead of greedy decoding. (Greedy decoding multiple input paragraphs at the same time is very challenging; do not try this before achieving the greedy decoding of a single input paragraph. Even for a single input paragraph, the task is pretty challenging, so do not try if you are not CERTAIN that everything else works perfectly.)\n",
        "*   Use other units of text instead of characters (ex: words, word-pieces).\n",
        "*   Add more data to the dataset.\n",
        "\n",
        "Document in a text cell all of the changes that you make to the system and describe their impact (qualitatively **and** quantitatively). There is no point on implementing a possible improvement if you do not discuss whether in the end it improves the system or not."
      ]
    },
    {
      "cell_type": "markdown",
      "metadata": {
        "id": "v5RGYEqZOajz"
      },
      "source": [
        "# Plot the training process"
      ]
    },
    {
      "cell_type": "code",
      "execution_count": null,
      "metadata": {
        "id": "lGpesQpvOajz"
      },
      "outputs": [],
      "source": [
        "import matplotlib.pyplot as plt"
      ]
    },
    {
      "cell_type": "code",
      "execution_count": null,
      "metadata": {
        "colab": {
          "base_uri": "https://localhost:8080/",
          "height": 1000
        },
        "id": "1BYkWEHUOajz",
        "outputId": "e86c92e1-2d0b-4c69-9700-35e929650d84"
      },
      "outputs": [
        {
          "output_type": "display_data",
          "data": {
            "text/plain": [
              "<Figure size 800x1000 with 2 Axes>"
            ],
            "image/png": "[encoded data removed]"
          },
          "metadata": {}
        }
      ],
      "source": [
        "train_loss = [loss.detach().cpu().item() for loss in train_loss]\n",
        "\n",
        "fig, (ax1, ax2) = plt.subplots(2, 1, figsize=(8, 10))\n",
        "\n",
        "# Plot train_loss\n",
        "ax1.plot(range(nb_epoch), train_loss, marker='o', color='blue', label='Train Loss')\n",
        "ax1.set_xlabel('Epochs')\n",
        "ax1.set_ylabel('Train Loss')\n",
        "ax1.set_title('Train Loss over Epochs')\n",
        "ax1.grid(True)\n",
        "ax1.legend()\n",
        "\n",
        "# Plot durations\n",
        "ax2.plot(range(nb_epoch), durations, marker='o', color='orange', label='Epoch Duration')\n",
        "ax2.set_xlabel('Epochs')\n",
        "ax2.set_ylabel('Epoch Duration (s)')\n",
        "ax2.set_title('Epoch Duration over Epochs')\n",
        "ax2.grid(True)\n",
        "ax2.legend()\n",
        "\n",
        "# Show the plots\n",
        "plt.tight_layout()\n",
        "plt.show()"
      ]
    },
    {
      "cell_type": "markdown",
      "metadata": {
        "id": "7KXeSMAuzjcT"
      },
      "source": [
        "# Adding more data to the dataset\n",
        "\n",
        "We will use another novel written by Flaubert.\n",
        "\n",
        "L'Education Sentimentale: https://www.gutenberg.org/cache/epub/49773/pg49773.txt\n",
        "\n",
        "   \n",
        "    "
      ]
    },
    {
      "cell_type": "code",
      "execution_count": null,
      "metadata": {
        "colab": {
          "base_uri": "https://localhost:8080/"
        },
        "id": "QcpQYVoN1Vtk",
        "outputId": "c8742bfa-117e-4482-aee6-8a6e4044e170"
      },
      "outputs": [
        {
          "output_type": "stream",
          "name": "stdout",
          "text": [
            "/tmp/tmp17tb2h55 /tmp/tmpc7avytkh\n"
          ]
        }
      ],
      "source": [
        "# Download the datasets\n",
        "import urllib.request\n",
        "\n",
        "tmp1 = urllib.request.urlretrieve(\"https://www.gutenberg.org/cache/epub/14155/pg14155.txt\") # Madame Bovary\n",
        "tmp2 = urllib.request.urlretrieve(\"https://www.gutenberg.org/cache/epub/49773/pg49773.txt\") # L'Education Sentimentale\n",
        "filename1 = tmp1[0]\n",
        "filename2 = tmp2[0]\n",
        "print(filename1, filename2)"
      ]
    },
    {
      "cell_type": "code",
      "execution_count": null,
      "metadata": {
        "id": "8QvOxhDA16oL"
      },
      "outputs": [],
      "source": [
        "# Function get_paragraph for Madame Bovary\n",
        "\n",
        "import re\n",
        "\n",
        "def get_paragraphs(filename):\n",
        "  roman_regex = re.compile('^M{0,4}(CM|CD|D?C{0,3})(XC|XL|L?X{0,3})(IX|IV|V?I{0,3})$') # This regular expression matches Roman numerals but also the empty string.\n",
        "\n",
        "  EOP = '\\n' # The end-of-line character will be used to mark the end of paragraphs.\n",
        "\n",
        "  with open(filename, encoding='utf-8') as f:\n",
        "    # We want to skip everything before the actual text of the novel.\n",
        "    # The line \"PREMIÈRE PARTIE\" appears twice: in the table of content and then at the start of the first part of the actual text.\n",
        "    # The following lines discard everything up to this second occurence (included).\n",
        "    skip = 2\n",
        "    while(skip > 0):\n",
        "      line = f.readline().strip()\n",
        "      if(line == \"PREMIÈRE PARTIE\"): skip -= 1;\n",
        "\n",
        "    paragraphs = [] # Note that each dialog line will be considered a separate paragraph.\n",
        "    paragraph_buffer = [] # List[str]; each element corresponds to a line in the original text file + an additonal space if necessary.\n",
        "    while(True):\n",
        "      line = f.readline().strip()\n",
        "      if(\"END OF THE PROJECT GUTENBERG EBOOK MADAME BOVARY\" in line): break # End of the actual text.\n",
        "\n",
        "      if(line == \"\"): # We've reached the end of a paragraph.\n",
        "        if(len(paragraph_buffer) > 0):\n",
        "          paragraph_buffer.append(EOP) # End of the paragraph.\n",
        "\n",
        "          paragraph = \"\".join(paragraph_buffer) # The different lines that make up the paragraph are joined into a single string.\n",
        "          paragraphs.append(paragraph)\n",
        "          paragraph_buffer = []\n",
        "        continue\n",
        "\n",
        "      if(roman_regex.match(line)): continue # Ignores the lines that indicate the beginning of a chapter.\n",
        "      if(line.endswith(\" PARTIE\")): continue # Ignores the lines that indicate the beginning of a part.\n",
        "\n",
        "      if((len(paragraph_buffer) > 0) and (paragraph_buffer[-1][-1] != '-')): paragraph_buffer.append(' ') # Adds a space between consecutive lines except when the first one ends with \"-\" (e.g. if the word \"pomme-de-terre\" is split with \"pomme-de-\" at the end of a line and \"terre\" at the beginning of the next, we do not want to join the two lines with a space).\n",
        "      paragraph_buffer.append(line)\n",
        "\n",
        "  return paragraphs"
      ]
    },
    {
      "cell_type": "code",
      "execution_count": null,
      "metadata": {
        "id": "_Aru4iPQEgvR"
      },
      "outputs": [],
      "source": [
        "# Function get_paragraph2 for L'Education Sentimentale\n",
        "\n",
        "# same as get_paragraph except \"skip = 1\" (instead of skip = 2, because L'Education Sentimentale doesn't have a table of contents with 'PREMIERE PARTIE' compared to Mme Bovary)\n",
        "\n",
        "import re\n",
        "\n",
        "def get_paragraphs2(filename):\n",
        "  roman_regex = re.compile('^M{0,4}(CM|CD|D?C{0,3})(XC|XL|L?X{0,3})(IX|IV|V?I{0,3})$') # This regular expression matches Roman numerals but also the empty string.\n",
        "\n",
        "  EOP = '\\n' # The end-of-line character will be used to mark the end of paragraphs.\n",
        "\n",
        "  with open(filename, encoding='utf-8') as f:\n",
        "    # We want to skip everything before the actual text of the novel.\n",
        "    skip = 1\n",
        "    while(skip > 0):\n",
        "      line = f.readline().strip()\n",
        "      if(line == \"PREMIÈRE PARTIE\"): skip -= 1;\n",
        "\n",
        "    paragraphs = [] # Note that each dialog line will be considered a separate paragraph.\n",
        "    paragraph_buffer = [] # List[str]; each element corresponds to a line in the original text file + an additonal space if necessary.\n",
        "    while(True):\n",
        "      line = f.readline().strip()\n",
        "      if(\"END OF THE PROJECT GUTENBERG EBOOK ŒUVRES COMPLÈTES DE GUSTAVE FLAUBERT, TOME 3: L'ÉDUCATION SENTIMENTALE, V. 1\" in line): break # End of the actual text.\n",
        "\n",
        "      if(line == \"\"): # We've reached the end of a paragraph.\n",
        "        if(len(paragraph_buffer) > 0):\n",
        "          paragraph_buffer.append(EOP) # End of the paragraph.\n",
        "\n",
        "          paragraph = \"\".join(paragraph_buffer) # The different lines that make up the paragraph are joined into a single string.\n",
        "          paragraphs.append(paragraph)\n",
        "          paragraph_buffer = []\n",
        "        continue\n",
        "\n",
        "      if(roman_regex.match(line)): continue # Ignores the lines that indicate the beginning of a chapter.\n",
        "      if(line.endswith(\" PARTIE\")): continue # Ignores the lines that indicate the beginning of a part.\n",
        "\n",
        "      if((len(paragraph_buffer) > 0) and (paragraph_buffer[-1][-1] != '-')): paragraph_buffer.append(' ') # Adds a space between consecutive lines except when the first one ends with \"-\" (e.g. if the word \"pomme-de-terre\" is split with \"pomme-de-\" at the end of a line and \"terre\" at the beginning of the next, we do not want to join the two lines with a space).\n",
        "      paragraph_buffer.append(line)\n",
        "\n",
        "  return paragraphs"
      ]
    },
    {
      "cell_type": "code",
      "execution_count": null,
      "metadata": {
        "id": "s7iur8Qg4GGQ"
      },
      "outputs": [],
      "source": [
        "import collections\n",
        "import numpy as np\n",
        "\n",
        "# Computes the frequency of all characters in the dataset.\n",
        "def count_characters(paragraphs):\n",
        "  char_counts = collections.defaultdict(int)\n",
        "  for paragraph in paragraphs:\n",
        "    for char in paragraph: char_counts[char] += 1\n",
        "\n",
        "  return char_counts"
      ]
    },
    {
      "cell_type": "code",
      "execution_count": null,
      "metadata": {
        "colab": {
          "base_uri": "https://localhost:8080/"
        },
        "id": "w8OhAaWl55PO",
        "outputId": "67b7d727-b74d-4826-b69c-82b719724450"
      },
      "outputs": [
        {
          "output_type": "stream",
          "name": "stdout",
          "text": [
            "2237 paragraphs read.\n",
            "L'ÉDUCATION SENTIMENTALE\n",
            "Le 15 septembre 1840, vers six heures du matin, _la Ville-de-Montereau_, près de partir, fumait à gros tourbillons devant le quai Saint-Bernard.\n",
            "Des gens arrivaient hors d'haleine; des barriques, des câbles, des corbeilles de linge gênaient la circulation; les matelots ne répondaient à personne; on se heurtait; les colis montaient entre les deux tambours, et le tapage s'absorbait dans le bruissement de la vapeur, qui, s'échappant par des plaques de tôle, enveloppait tout d'une nuée blanchâtre, tandis que la cloche, à l'avant, tintait sans discontinuer.\n"
          ]
        }
      ],
      "source": [
        "para2 = get_paragraphs2(filename2)\n",
        "print(f\"{len(para2)} paragraphs read.\")\n",
        "for i in range(3): print(para2[i], end='')"
      ]
    },
    {
      "cell_type": "code",
      "execution_count": null,
      "metadata": {
        "colab": {
          "base_uri": "https://localhost:8080/"
        },
        "id": "8VwFv1VR5YVF",
        "outputId": "d50e7ca0-8885-4f27-fe27-d4a6b607af46"
      },
      "outputs": [
        {
          "output_type": "stream",
          "name": "stdout",
          "text": [
            "5232 paragraphs read.\n",
            "99 different characters found in the dataset.\n",
            "[(' ', 173364), ('e', 121251), ('a', 71398), ('s', 68661), ('t', 61977), ('i', 61887), ('n', 57583), ('r', 56262), ('u', 52902), ('l', 52342), ('o', 43643), ('d', 31231), ('c', 23899), ('m', 23038), ('p', 21746), (',', 19662), ('é', 14138), ('v', 13200), (\"'\", 11676), ('.', 9920), ('b', 8944), ('f', 8654), ('h', 8317), ('q', 8114), ('g', 7676), ('-', 5895), ('\\n', 5232), ('à', 4148), ('x', 3671), ('è', 2743), ('j', 2726), ('!', 2678), ('y', 2438), (';', 2420), ('E', 2038), ('ê', 1829), ('L', 1543), ('M', 1532), ('C', 1479), ('I', 1434), ('A', 1389), ('z', 1183), ('?', 952), ('«', 864), ('»', 844), (':', 840), ('D', 830), ('P', 821), ('ç', 769), ('â', 648), ('F', 631), ('S', 581), ('B', 548), ('R', 537), ('î', 522), ('O', 504), ('ô', 469), ('ù', 416), ('J', 396), ('Q', 381), ('H', 375), ('T', 369), ('V', 353), ('û', 341), ('N', 271), ('U', 267), ('_', 222), ('G', 105), ('(', 101), (')', 101), ('œ', 96), ('À', 84), ('Y', 83), ('É', 62), ('ï', 60), ('1', 50), ('k', 42), ('2', 28), ('X', 22), ('3', 22), ('8', 21), ('4', 19), ('ë', 18), ('Ç', 17), ('9', 15), ('5', 14), ('7', 12), ('w', 12), ('6', 9), ('W', 8), ('Ê', 7), ('ü', 6), ('0', 5), ('*', 5), ('°', 4), ('Î', 1), ('Z', 1), ('æ', 1), ('Ï', 1)]\n"
          ]
        }
      ],
      "source": [
        "# Concatenation of the two datasets\n",
        "\n",
        "paragraphs = get_paragraphs(filename1) + get_paragraphs2(filename2)\n",
        "print(f\"{len(paragraphs)} paragraphs read.\")\n",
        "\n",
        "char_counts = count_characters(paragraphs)\n",
        "print(f\"{len(char_counts)} different characters found in the dataset.\")\n",
        "print(sorted(char_counts.items(), key=(lambda x: x[1]), reverse=True))"
      ]
    },
    {
      "cell_type": "code",
      "execution_count": null,
      "metadata": {
        "colab": {
          "base_uri": "https://localhost:8080/"
        },
        "id": "FOkAW45q4r3q",
        "outputId": "3c718fd8-c93b-4628-caff-dbb5a2673fa9"
      },
      "outputs": [
        {
          "output_type": "stream",
          "name": "stdout",
          "text": [
            "{'N': 0, 'o': 1, 'u': 2, 's': 3, ' ': 4, 'é': 5, 't': 6, 'i': 7, 'n': 8, 'à': 9, 'l': 10, \"'\": 11, 'É': 12, 'd': 13, 'e': 14, ',': 15, 'q': 16, 'a': 17, 'P': 18, 'r': 19, 'v': 20, 'h': 21, 'b': 22, 'g': 23, 'ç': 24, 'c': 25, 'p': 26, '.': 27, 'C': 28, 'x': 29, 'm': 30, 'è': 31, '\\n': 32, 'L': 33, 'f': 34, ';': 35, 'î': 36, ':': 37, '-': 38, 'M': 39, 'R': 40, 'j': 41, 'S': 42, 'ù': 43, 'â': 44, 'z': 45, 'I': 46, 'Q': 47, 'û': 48, 'ê': 49, 'O': 50, 'y': 51, 'k': 52, 'ï': 53, 'E': 54, 'T': 55, 'U': 56, 'D': 57, '!': 58, '(': 59, ')': 60, 'B': 61, '?': 62, '_': 63, 'G': 64, '1': 65, '8': 66, '2': 67, 'A': 68, 'À': 69, 'H': 70, 'ô': 71, 'V': 72, 'Ê': 73, '«': 74, '»': 75, 'Y': 76, 'F': 77, 'J': 78, 'ë': 79, 'W': 80, 'X': 81, '0': 82, '5': 83, '7': 84, '9': 85, '6': 86, '3': 87, 'w': 88, 'Î': 89, 'Ç': 90, '4': 91, 'ü': 92, '°': 93, 'œ': 94, 'Z': 95, 'æ': 96, 'Ï': 97, '*': 98}\n",
            "['N', 'o', 'u', 's', ' ', 'é', 't', 'i', 'n', 'à', 'l', \"'\", 'É', 'd', 'e', ',', 'q', 'a', 'P', 'r', 'v', 'h', 'b', 'g', 'ç', 'c', 'p', '.', 'C', 'x', 'm', 'è', '\\n', 'L', 'f', ';', 'î', ':', '-', 'M', 'R', 'j', 'S', 'ù', 'â', 'z', 'I', 'Q', 'û', 'ê', 'O', 'y', 'k', 'ï', 'E', 'T', 'U', 'D', '!', '(', ')', 'B', '?', '_', 'G', '1', '8', '2', 'A', 'À', 'H', 'ô', 'V', 'Ê', '«', '»', 'Y', 'F', 'J', 'ë', 'W', 'X', '0', '5', '7', '9', '6', '3', 'w', 'Î', 'Ç', '4', 'ü', '°', 'œ', 'Z', 'æ', 'Ï', '*']\n",
            "EOP_id = 32\n",
            "[[61, 1, 8, 41, 1, 2, 19, 27, 32, 33, 33], [28, 1, 30, 30, 14, 8, 6, 4, 17, 10, 10, 14, 45, 4, 20, 1, 2, 3, 4, 62]]\n",
            "['Bonjour.', 'Comment allez vous ?']\n",
            "'ids_to_texts(ids) == ps' should be True: True\n"
          ]
        }
      ],
      "source": [
        "# we put back the functions (already made before) here\n",
        "\n",
        "# As a reminder, we made a vocabulary function (returning char_vocab and id_to_char), and a ids_to_text function\n",
        "\n",
        "char_vocabulary, id_to_char = vocabulary(char_counts)\n",
        "\n",
        "EOP_id = char_vocabulary[EOP] # Id for the end-of-paragraph symbol\n",
        "padding_id = EOP_id + 1 # Pseudo-id for the \"padding symbol\" (which in fact does not exist)\n",
        "\n",
        "print(char_vocabulary)\n",
        "print(id_to_char)\n",
        "print(f\"EOP_id = {EOP_id}\")\n",
        "\n",
        "\n",
        "ps = [\"Bonjour.\", \"Comment allez vous ?\"]\n",
        "ids = [[char_vocabulary[c] for c in p] for p in ps]\n",
        "ids[0].extend([EOP_id, padding_id, padding_id]) # With the end-of-paragraph token id and additional (padding-like) stuff for the first string.\n",
        "print(ids)\n",
        "print(ids_to_texts(ids))\n",
        "print(f\"'ids_to_texts(ids) == ps' should be True: {ids_to_texts(ids) == ps}\") # If you have a problem here, remember that EOP indicates the end of the text (this might be related to your problem)."
      ]
    },
    {
      "cell_type": "markdown",
      "metadata": {
        "id": "qWlLXztkGqBM"
      },
      "source": [
        "Batch generator"
      ]
    },
    {
      "cell_type": "code",
      "execution_count": null,
      "metadata": {
        "colab": {
          "base_uri": "https://localhost:8080/"
        },
        "id": "4TuhDwHuGJys",
        "outputId": "194cc75c-0ffa-4f9a-d572-0329ddd1402a"
      },
      "outputs": [
        {
          "output_type": "stream",
          "name": "stdout",
          "text": [
            "5231\n"
          ]
        }
      ],
      "source": [
        "# The BatchGenerator class is defined above.\n",
        "batch_generator = BatchGenerator(paragraphs=paragraphs, char_vocabulary=char_vocabulary)\n",
        "print(batch_generator.length())"
      ]
    },
    {
      "cell_type": "markdown",
      "metadata": {
        "id": "fMR-M6XXHsS2"
      },
      "source": [
        "Training"
      ]
    },
    {
      "cell_type": "code",
      "execution_count": null,
      "metadata": {
        "id": "b-zgv8GpHkik",
        "colab": {
          "base_uri": "https://localhost:8080/"
        },
        "outputId": "d9bf0f88-30c8-43e6-bfcf-7c44cad8085c"
      },
      "outputs": [
        {
          "output_type": "stream",
          "name": "stdout",
          "text": [
            "-- END OF EPOCH 0.\n",
            "Average loss: 2.6686596870422363.\n",
            "38.54556679725647 s elapsed (i.e. 38.54556679725647 s/epoch)\n",
            "['-- Non, tu te trompes!']\n",
            "(['-- le la pour les pour les pour les pour les pour les pour les pour les pour les pour les pour les pour les pour les pour les pour les pour les pour les pour les pour les pour les pour les pour les pour les pour les pour les pour les pour les pour les pour les pour les pour les pour les pour les pour les pour les pour les pour les pour les pour les pour les pour les pour les pour les pour les pour les pour les pour les pour les pour les pour les pour les pour les pour les pour les pour les pour les pour les '], tensor([-549.4358], device='cuda:0'))\n",
            "-- END OF EPOCH 1.\n",
            "Average loss: 2.018890142440796.\n",
            "76.48845148086548 s elapsed (i.e. 38.24422574043274 s/epoch)\n",
            "['-- Cherchez-vous quelque chose? demanda-t-elle.']\n",
            "(['-- Il se de la comme de la comme de la comme de la comme de la comme de la comme de la comme de la comme de la comme de la comme de la comme de la comme de la comme de la comme de la comme de la comme de la comme de la comme de la comme de la comme de la comme de la comme de la comme de la comme de la comme de la comme de la comme de la comme de la comme de la comme de la comme de la comme de la comme de la comme de la comme de la comme de la comme de la comme de la comme de la comme de la comme de la comme '], tensor([-438.9255], device='cuda:0'))\n",
            "-- END OF EPOCH 2.\n",
            "Average loss: 1.817163109779358.\n",
            "115.74937152862549 s elapsed (i.e. 38.58312384287516 s/epoch)\n",
            "['«Serviteur, messieurs!»']\n",
            "(['Il se pas de la pas de la pas de la pas de la pas de la pas de la pas de la pas de la pas de la pas de la pas de la pas de la pas de la pas de la pas de la pas de la pas de la pas de la pas de la pas de la pas de la pas de la pas de la pas de la pas de la pas de la pas de la pas de la pas de la pas de la pas de la pas de la pas de la pas de la pas de la pas de la pas de la pas de la pas de la pas de la pas de la pas de la pas de la pas de la pas de la pas de la pas de la pas de la pas de la pas de la pas de '], tensor([-524.4874], device='cuda:0'))\n",
            "-- END OF EPOCH 3.\n",
            "Average loss: 1.7081739902496338.\n",
            "152.82567071914673 s elapsed (i.e. 38.20641767978668 s/epoch)\n",
            "[\"Naturellement, par nonchalance; il en vint à se délier de toutes les résolutions qu'il s'était faites. Une fois, il manqua la visite, le lendemain son cours, et, savourant la paresse, peu à peu, n'y retourna plus.\"]\n",
            "(['«Ah! se personnette de son par les de son par les de son par les de son par les de son par les de son par les de son par les de son par les de son par les de son par les de son par les de son par les de son par les de son par les de son par les de son par les de son par les de son par les de son par les de son par les de son par les de son par les de son par les de son par les de son par les de son par les de son par les de son par les de son par les de son par les de son par les de son par les de son par le'], tensor([-538.7260], device='cuda:0'))\n",
            "-- END OF EPOCH 4.\n",
            "Average loss: 1.6295993328094482.\n",
            "190.37581205368042 s elapsed (i.e. 38.075162410736084 s/epoch)\n",
            "['Et elle sortit.']\n",
            "(['-- Ah! contre les connaissait des connaissait des connaissait des connaissait des connaissait des connaissait des connaissait des connaissait des connaissait des connaissait des connaissait des connaissait des connaissait des connaissait des connaissait des connaissait des connaissait des connaissait des connaissait des connaissait des connaissait des connaissait des connaissait des connaissait des connaissait des connaissait des connaissait des connaissait des connaissait des connaissait des connaissait des'], tensor([-415.8197], device='cuda:0'))\n",
            "-- END OF EPOCH 5.\n",
            "Average loss: 1.570348858833313.\n",
            "228.54415845870972 s elapsed (i.e. 38.09069307645162 s/epoch)\n",
            "['--Mon Dieu! ce qui vous plaira, de quarante à soixante mille francs, je suppose.»']\n",
            "(['Et elle se pas de la cournissait les comme un contre les comme un contre les comme un contre les comme un contre les comme un contre les comme un contre les comme un contre les comme un contre les comme un contre les comme un contre les comme un contre les comme un contre les comme un contre les comme un contre les comme un contre les comme un contre les comme un contre les comme un contre les comme un contre les comme un contre les comme un contre les comme un contre les comme un contre les comme un contre '], tensor([-433.2489], device='cuda:0'))\n",
            "-- END OF EPOCH 6.\n",
            "Average loss: 1.5051770210266113.\n",
            "266.38393783569336 s elapsed (i.e. 38.05484826224191 s/epoch)\n",
            "[\"L'hiver fut froid. Les carreaux, chaque matin, étaient chargés de givre, et la lumière, blanchâtre à travers eux, comme par des verres dépolis, quelquefois ne variait pas de la journée. Dès quatre heures du soir, il fallait allumer la lampe.\"]\n",
            "(['-- Ah! ce qui se rentrait les portes de la courrier les considérations de la courrier les considérations de la courrier les considérations de la courrier les considérations de la courrier les considérations de la courrier les considérations de la courrier les considérations de la courrier les considérations de la courrier les considérations de la courrier les considérations de la courrier les considérations de la courrier les considérations de la courrier les considérations de la courrier les considérations '], tensor([-460.6491], device='cuda:0'))\n",
            "-- END OF EPOCH 7.\n",
            "Average loss: 1.4496718645095825.\n",
            "304.473806142807 s elapsed (i.e. 38.059225767850876 s/epoch)\n",
            "[\"Quelqu'un cria:\"]\n",
            "([\"-- C'est pas de son chapeau de son chapeau de son chapeau de son chapeau de son chapeau de son chapeau de son chapeau de son chapeau de son chapeau de son chapeau de son chapeau de son chapeau de son chapeau de son chapeau de son chapeau de son chapeau de son chapeau de son chapeau de son chapeau de son chapeau de son chapeau de son chapeau de son chapeau de son chapeau de son chapeau de son chapeau de son chapeau de son chapeau de son chapeau de son chapeau de son chapeau de son chapeau de son chapeau de so\"], tensor([-392.3770], device='cuda:0'))\n",
            "-- END OF EPOCH 8.\n",
            "Average loss: 1.4084603786468506.\n",
            "341.76789927482605 s elapsed (i.e. 37.974211030536225 s/epoch)\n",
            "[\"Et il redevint aussitôt respectueux, caressant, timide. Elle lui donna son bras. Ils s'en retournèrent. Il disait:\"]\n",
            "(['-- Ah! tout en la passait de la chemine de la chemine de la chemine de la chemine de la chemine de la chemine de la chemine de la chemine de la chemine de la chemine de la chemine de la chemine de la chemine de la chemine de la chemine de la chemine de la chemine de la chemine de la chemine de la chemine de la chemine de la chemine de la chemine de la chemine de la chemine de la chemine de la chemine de la chemine de la chemine de la chemine de la chemine de la chemine de la chemine de la chemine de la chemi'], tensor([-419.2394], device='cuda:0'))\n",
            "-- END OF EPOCH 9.\n",
            "Average loss: 1.3698270320892334.\n",
            "380.52105712890625 s elapsed (i.e. 38.05210571289062 s/epoch)\n",
            "[\"Charles avait entrevu dans le mariage l'avènement d'une condition meilleure, imaginant qu'il serait plus libre et pourrait disposer de sa personne et de son argent. Mais sa femme fut le maître; il devait devant le monde dire ceci, ne pas dire cela, faire maigre tous les vendredis, s'habiller comme elle l'entendait, harceler par son ordre les clients qui ne payaient pas. Elle décachetait ses lettres, épiait ses démarches, et l'écoutait, à travers la cloison, donner ses consultations dans son cabinet, quand il y avait des femmes.\"]\n",
            "(['-- Ce ne se rentrer sa poitrine de son petit plus de son petit plus de son courte de sa poitrine de sa poitrine de sa poitrine de sa poitrine de sa poitrine de sa poitrine de sa poitrine de sa poitrine de sa poitrine de sa poitrine de sa poitrine de sa poitrine de sa poitrine de sa poitrine de sa poitrine de sa poitrine de sa poitrine de sa poitrine de sa poitrine de sa poitrine de sa poitrine de sa poitrine de sa poitrine de sa poitrine de sa poitrine de sa poitrine de sa poitrine de sa poitrine de sa poitr'], tensor([-376.8662], device='cuda:0'))\n",
            "-- END OF EPOCH 10.\n",
            "Average loss: 1.3307092189788818.\n",
            "418.0993752479553 s elapsed (i.e. 38.00903411345048 s/epoch)\n",
            "['Mme Arnoux fit exhiber les moules pour les ouvrages plus difficiles.']\n",
            "([\"«Ce n'est pas la porte de la complier de la complier de la complier de la complier de la complier de la complier de la complier de la complier de la complier de la complier de la complier de la complier de la complier de la complier de la complier de la complier de la complier de la complier de la complier de la complier de la complier de la complier de la complier de la complier de la complier de la complier de la complier de la complier de la complier de la complier de la complier de la complier de la comp\"], tensor([-489.1611], device='cuda:0'))\n",
            "-- END OF EPOCH 11.\n",
            "Average loss: 1.2991433143615723.\n",
            "455.183696269989 s elapsed (i.e. 37.93197468916575 s/epoch)\n",
            "[\"-- Car enfin, exclamait-il en gesticulant, je ne peux pas m'expatrier, avoir la charge d'une enfant.\"]\n",
            "(['-- Eh bien que le point de la pointe de la pointe de la pointe de la pointe de la pointe de la pointe de la pointe de la pointe de la pointe de la pointe de la pointe de la pointe de la pointe de la pointe de la pointe de la pointe de la pointe de la pointe de la pointe de la pointe de la pointe de la pointe de la pointe de la pointe de la pointe de la pointe de la pointe de la pointe de la pointe de la pointe de la pointe de la pointe de la pointe de la pointe de la pointe de la pointe de la pointe de la po'], tensor([-379.4354], device='cuda:0'))\n",
            "-- END OF EPOCH 12.\n",
            "Average loss: 1.284350037574768.\n",
            "492.6704864501953 s elapsed (i.e. 37.8977297269381 s/epoch)\n",
            "[\"Un jour que Mme Moreau était sortie, il la fit monter dans sa chambre. Elle ouvrit tous les flacons d'odeur et se pommada les cheveux abondamment; puis, sans la moindre gêne, elle se coucha sur le lit où elle restait tout de son long, éveillée.\"]\n",
            "(['«Ah! je ne suis pas de la porte de la porte de la conseiller les promenades de la conseiller les promenades de la conseiller les promenades de la conseiller les promenades de la conseiller les promenades de la conseiller les promenades de la conseiller les promenades de la conseiller les promenades de la conseiller les promenades de la conseiller les promenades de la conseiller les promenades de la conseiller les promenades de la conseiller les promenades de la conseiller les promenades de la conseiller les '], tensor([-402.3731], device='cuda:0'))\n",
            "-- END OF EPOCH 13.\n",
            "Average loss: 1.2532646656036377.\n",
            "530.4759924411774 s elapsed (i.e. 37.89114231722696 s/epoch)\n",
            "['«Nullement!»']\n",
            "(['Et, se trouvaient des considérations de la considération de la considération de la considération de la considération de la considération de la considération de la considération de la considération de la considération de la considération de la considération de la considération de la considération de la considération de la considération de la considération de la considération de la considération de la considération de la considération de la considération de la considération de la considération de la considérat'], tensor([-310.2013], device='cuda:0'))\n",
            "-- END OF EPOCH 14.\n",
            "Average loss: 1.2391514778137207.\n",
            "568.1858735084534 s elapsed (i.e. 37.87905823389689 s/epoch)\n",
            "[\"Et il entra dans l'église, en faisant dès la porte une génuflexion.\"]\n",
            "(['-- Ah! tu te pas de la réponse de la réponse de la réponse de la réponse de la réponse de la réponse de la réponse de la réponse de la réponse de la réponse de la réponse de la réponse de la réponse de la réponse de la réponse de la réponse de la réponse de la réponse de la réponse de la réponse de la réponse de la réponse de la réponse de la réponse de la réponse de la réponse de la réponse de la réponse de la réponse de la réponse de la réponse de la réponse de la réponse de la réponse de la réponse de la '], tensor([-355.0598], device='cuda:0'))\n",
            "-- END OF EPOCH 15.\n",
            "Average loss: 1.2192649841308594.\n",
            "605.5539860725403 s elapsed (i.e. 37.84712412953377 s/epoch)\n",
            "[\"Charles et lui firent ensemble un voyage à Rouen, pour voir des tombeaux, chez un entrepreneur de sépultures, -- accompagnés d'un artiste peintre, un nommé Vaufrylard, ami de Bridoux, et qui, tout le temps, débita des calembours. Enfin, après avoir examiné une centaine de dessins, s'être commandé un devis et avoir fait un second voyage à Rouen, Charles se décida pour un mausolée qui devait porter sur ses deux faces principales «un génie tenant une torche éteinte».\"]\n",
            "(['Elle se retrouvait dans la chambre de la place de la chambre de la place de la chambre de la place de la chambre de la place de la chambre de la place de la chambre de la place de la chambre de la place de la chambre de la place de la chambre de la place de la chambre de la place de la chambre de la place de la chambre de la place de la chambre de la place de la chambre de la place de la chambre de la place de la chambre de la place de la chambre de la place de la chambre de la place de la chambre de la plac'], tensor([-337.8536], device='cuda:0'))\n",
            "-- END OF EPOCH 16.\n",
            "Average loss: 1.2105860710144043.\n",
            "643.191249370575 s elapsed (i.e. 37.8347793747397 s/epoch)\n",
            "['M. et madame Charles arrivèrent à Tostes, vers six heures. Les voisins se mirent aux fenêtres pour voir la nouvelle femme de leur médecin.']\n",
            "(['Elle se reprocha de la voiture de la commode des portes de la commode des portes de la commode des portes de la commode des portes de la commode des portes de la commode des portes de la commode des portes de la commode des portes de la commode des portes de la commode des portes de la commode des portes de la commode des portes de la commode des portes de la commode des portes de la commode des portes de la commode des portes de la commode des portes de la commode des portes de la commode des portes de la c'], tensor([-393.7810], device='cuda:0'))\n",
            "-- END OF EPOCH 17.\n",
            "Average loss: 1.1925045251846313.\n",
            "680.2985320091248 s elapsed (i.e. 37.79436288939582 s/epoch)\n",
            "[\"Elle objecta la difficulté d'un acquéreur; il donna l'espoir d'en trouver; mais elle demanda comment faire pour qu'elle pût vendre.\"]\n",
            "([\"-- C'est pas le personne de l'autre comme un peu de personne de se reprendre des conversations de la porte de la porte de la porte de la porte de la porte de la porte de la porte de la porte de son carateur de la porte de sa main de se reprendre des courses de son carrostice de sa personne de sa personne de ses présentions de la porte de sa main de se reprendre des courses de sa personne de sa personne de sa personne de ses présentions de la porte de sa main de se reprendre des courses de sa personne de sa p\"], tensor([-376.7583], device='cuda:0'))\n",
            "-- END OF EPOCH 18.\n",
            "Average loss: 1.1827409267425537.\n",
            "717.3596920967102 s elapsed (i.e. 37.75577326824791 s/epoch)\n",
            "['Et le Clerc écrivit une acceptation, à la troisième personne.']\n",
            "([\"-- C'est donc? dit-il en se disant que l'on avait pris de la main sur le monde, et elle se mettait à l'autre coup, et de la cour de la cour de la cour de la cour de la cour de la cour de la cour de la cour de la cour de la cour de la cour de la cour de la cour de la cour de la cour de la cour de la cour de la cour de la cour de la cour de la cour de la cour de la cour de la cour de la cour de la cour de la cour de la cour de la cour de la cour de la cour de la cour de la cour de la cour de la cour de la cour\"], tensor([-421.8081], device='cuda:0'))\n",
            "-- END OF EPOCH 19.\n",
            "Average loss: 1.167490839958191.\n",
            "755.0202813148499 s elapsed (i.e. 37.751014065742496 s/epoch)\n",
            "[\"Il admira des académies de femmes échevelées, des paysages où les troncs d'arbre tordus par la tempête foisonnaient, et surtout des caprices à la plume, souvenirs de Callot, de Rembrandt ou de Goya, dont il ne connaissait pas les modèles. Pellerin n'estimait plus ces travaux de sa jeunesse; maintenant, il était pour le grand style; il dogmatisa sur Phidias et Winckelmann, éloquemment. Les choses autour de lui renforçaient la puissance de sa parole: on voyait une tête de mort sur un prie-Dieu, des yatagans, une robe de moine; Frédéric l'endossa.\"]\n",
            "(['-- Cela ne serait pas de la cour de la cour de la cour de la cour de la cour de la cour de la cour de la cour de la cour de la cour de la cour de la cour de la cour de la cour de la cour de la cour de la cour de la cour de la cour de la cour de la cour de la cour de la cour de la cour de la cour de la cour de la cour de la cour de la cour de la cour de la cour de la cour de la cour de la cour de la cour de la cour de la cour de la cour de la cour de la cour de la cour de la cour de la cour de la cour de la c'], tensor([-401.7138], device='cuda:0'))\n",
            "-- END OF EPOCH 20.\n",
            "Average loss: 1.15626060962677.\n",
            "792.5982284545898 s elapsed (i.e. 37.7427727835519 s/epoch)\n",
            "['Puis, comme elle rouvrait les yeux en respirant le flacon:']\n",
            "([\"-- Mais ce n'est pas le conseiller le conseil de l'autre comme un peu de considération.\"], tensor([-56.9446], device='cuda:0'))\n",
            "-- END OF EPOCH 21.\n",
            "Average loss: 1.1508105993270874.\n",
            "831.5152404308319 s elapsed (i.e. 37.79614729231054 s/epoch)\n",
            "[\"Frédéric hésitait. Mais l'amitié fut plus forte. Il prit son chapeau.\"]\n",
            "([\"«Ah! c'est moi! dit le pharmacien, qui sont les marchands de la chambre, et la personne de la porte de la porte, en faire des considérations de la chambre, et la personne de se remercier dans les boucles de sa main sur le bas de la cheminée, les pareils de sa maison de la porte de la cheminée, les pareils de sa maison de la porte de la cheminée, les pareils de sa maison de la porte de la cheminée, les pareils de sa maison de la porte de la cheminée, les pareils de sa maison de la porte de la cheminée, les pa\"], tensor([-339.5932], device='cuda:0'))\n",
            "-- END OF EPOCH 22.\n",
            "Average loss: 1.1464171409606934.\n",
            "868.555094242096 s elapsed (i.e. 37.76326496704765 s/epoch)\n",
            "[\"«Je _n'en_ suis pas! et je la déteste autant que vous! Mais, avec des principes pareils, on corrompt les foules! Ça fait le compte du Gouvernement, du reste! il ne serait pas si fort sans la complicité d'un tas de farceurs comme celui-là.»\"]\n",
            "(['Et il se rappela les cheveux de la maison de sa personne, et les charrettes de sa personne, et les charrettes de sa personne, et les charrettes de sa personne, et les charrettes de sa personne, et les charrettes de sa personne, et les charrettes de sa personne, et les charrettes de sa personne, et les charrettes de sa personne, et les charrettes de sa personne, et les charrettes de sa personne, et les charrettes de sa personne, et les charrettes de sa personne, et les charrettes de sa personne, et les charre'], tensor([-307.8934], device='cuda:0'))\n",
            "-- END OF EPOCH 23.\n",
            "Average loss: 1.1319067478179932.\n",
            "905.624871969223 s elapsed (i.e. 37.73436966538429 s/epoch)\n",
            "[\"«Ah! comme c'est gentil, de venir me prendre pour dîner!»\"]\n",
            "(['Et il lui avait passé les parents de la chair de la chair de la chair de la chair de la chair de la chair de la chair de la chair de la chair de la chair de la chair de la chair de la chair de la chair de la chair de la chair de la chair de la chair de la chair de la chair de la chair de la chair de la chair de la chair de la chair de la chair de la chair de la chair de la chair de la chair de la chair de la chair de la chair de la chair de la chair de la chair de la chair de la chair de la chair de la chair'], tensor([-361.3698], device='cuda:0'))\n",
            "-- END OF EPOCH 24.\n",
            "Average loss: 1.1274082660675049.\n",
            "942.4537434577942 s elapsed (i.e. 37.69814973831177 s/epoch)\n",
            "[\"Et, avec des haussements d'épaules qui tiraient sur sa poitrine les mailles de son tricot, elle montrait des deux mains le cabaret de son rival, d'où sortaient alors des chansons.\"]\n",
            "([\"-- Ah! ce n'est pas de l'autre ce qu'elle avait pour lui dire quelque chose de précipitation de se trouver les mains de sa maison. Il le regardait des parapluies, et les mains de se reprocher de se trouver les mains de sa maison, et l'autre se tournait de se trouver les mains de sa maison, et l'autre se tournait de se retenir de ses deux bras de sa maison, et l'autre se tournait de se retenir de ses deux bras de sa maison, et l'autre se tournait de se retenir de ses deux bras de sa maison, et l'autre se tour\"], tensor([-336.3344], device='cuda:0'))\n",
            "-- END OF EPOCH 25.\n",
            "Average loss: 1.1230688095092773.\n",
            "980.6301856040955 s elapsed (i.e. 37.71654560015752 s/epoch)\n",
            "['La chose était facile, et ils convinrent du jour suivant.']\n",
            "(['-- Comment? reprit-elle.'], tensor([-11.2943], device='cuda:0'))\n",
            "-- END OF EPOCH 26.\n",
            "Average loss: 1.1183487176895142.\n",
            "1017.9379606246948 s elapsed (i.e. 37.701405949062774 s/epoch)\n",
            "['«Je vous remercie, monsieur.»']\n",
            "([\"Et il se trouva dans la chambre, et les conseils s'en allaient en comme un chapeau de courture, et les conseils s'en allaient en comme un chapeau de courture, et les conseils s'en allaient en comme un chapeau de courture, et les conseils s'en allaient en comme un chapeau de courture, et les conseils s'en allaient en comme un chapeau de courture, et les conseils s'en allaient en comme un chapeau de courture, et les conseils s'en allaient en comme un chapeau de courture, et les conseils s'en allaient en comme \"], tensor([-345.7412], device='cuda:0'))\n",
            "-- END OF EPOCH 27.\n",
            "Average loss: 1.10826575756073.\n",
            "1055.2835531234741 s elapsed (i.e. 37.68869832583836 s/epoch)\n",
            "['-- Oh! la musique allemande, celle qui porte à rêver.']\n",
            "(['-- Ah! mon moi!'], tensor([-10.7657], device='cuda:0'))\n",
            "-- END OF EPOCH 28.\n",
            "Average loss: 1.1067570447921753.\n",
            "1094.8602452278137 s elapsed (i.e. 37.753801559579784 s/epoch)\n",
            "[\"Emma, d'autre part; savait conduire sa maison. Elle envoyait aux malades le compte des visites, dans des lettres bien tournées, qui ne sentaient pas la facture. Quand ils avaient, le dimanche, quelque voisin à dîner, elle trouvait moyen d'offrir un plat coquet, s'entendait à poser sur des feuilles de vigne les pyramides de reines-claudes, servait renversés les pots de confitures dans une assiette, et même elle parlait d'acheter des rince-bouche pour le dessert. Il rejaillissait de tout cela beaucoup de considération sur Bovary.\"]\n",
            "([\"-- Ce n'est pas le prendre les premiers mois de la cour. Il ne pouvait pas le prendre les premiers mois de la cour. Il ne pouvait pas le prendre les premiers mois de la cour. Il ne pouvait pas le prendre les premiers mots de la cour. Il ne pouvait pas le prendre les premiers mots de la cour. Il avait peur de la compagnie de la cour de la chambre. Elle se retenait de se retenir de la cour de la chambre. Elle se retenait de se retenir de la cour de sa porte, et le conseil de la chambre de la chambre de la cham\"], tensor([-347.7814], device='cuda:0'))\n",
            "-- END OF EPOCH 29.\n",
            "Average loss: 1.101742148399353.\n",
            "1133.2367012500763 s elapsed (i.e. 37.77455670833588 s/epoch)\n",
            "[\"_Il souffla bien fort ce jour-là,_ _Et le jupon court s'envola!_\"]\n",
            "([\"-- Ah! qu'elle est de présent, dit-il, en revenant de l'autre.\"], tensor([-38.8682], device='cuda:0'))\n",
            "-- END OF EPOCH 30.\n",
            "Average loss: 1.1020983457565308.\n",
            "1170.3094644546509 s elapsed (i.e. 37.75191820821455 s/epoch)\n",
            "[\"--Impossible! répliqua brusquement Frédéric. On ne m'a invité que ce matin, tout à l'heure.»\"]\n",
            "([\"--Au milieu, dit le pharmacien, comme si je n'ai pas de ces chevaux de la cheminée de son chapeau, et les cheveux brillaient dans les cheveux bleusses de la vieille femme d'avoir pris de la somme profonde et se mit à présent la soirée de son cheval, et les cheveux brillaient dans les cheveux bleussés, et les cheveux brillaient en pleine sous les cheveux et les cheveux bleussés, et les cheveux blanches de sa bouche pour les autres, et les cheveux blanches de soie rouge sur le soleil, et les cheveux brillaient\"], tensor([-326.3739], device='cuda:0'))\n",
            "-- END OF EPOCH 31.\n",
            "Average loss: 1.0950531959533691.\n",
            "1209.820213317871 s elapsed (i.e. 37.80688166618347 s/epoch)\n",
            "['Mais Emma, se tournant vers madame Homais:']\n",
            "([\"-- Ah! c'est vrai, dit le pharmacien, comme celle-ciel de l'eau de la chair de l'autre.\"], tensor([-54.5960], device='cuda:0'))\n",
            "-- END OF EPOCH 32.\n",
            "Average loss: 1.0937919616699219.\n",
            "1248.2703158855438 s elapsed (i.e. 37.826373208652846 s/epoch)\n",
            "[\"-- En vérité, dit l'apothicaire, on devrait bien sévir contre l'ivresse! Je voudrais que l'on inscrivît, hebdomadairement, à la porte de la mairie, sur un tableau ad hoc, les noms de tous ceux qui, durant la semaine, se seraient intoxiqués avec des alcools. D'ailleurs, sous le rapport de la statistique, on aurait là comme des annales patentes qu'on irait au besoin... Mais excusez.\"]\n",
            "([\"-- C'est moi, je vous le partir... Et pour le partir.\"], tensor([-39.4265], device='cuda:0'))\n",
            "-- END OF EPOCH 33.\n",
            "Average loss: 1.0898616313934326.\n",
            "1286.3534247875214 s elapsed (i.e. 37.83392425845651 s/epoch)\n",
            "[\"Tout cela avait fasciné Rosanette; et elle s'était débarrassée du père Oudry, sans se soucier de rien, n'étant pas cupide.\"]\n",
            "(['-- Ah! non! dit Emma.'], tensor([-14.5857], device='cuda:0'))\n",
            "-- END OF EPOCH 34.\n",
            "Average loss: 1.0760595798492432.\n",
            "1323.2608573436737 s elapsed (i.e. 37.807453066962104 s/epoch)\n",
            "[\"La foule arrivait dans la grande rue par les deux bouts du village. Il s'en dégorgeait des ruelles, des allées, des maisons, et l'on entendait de temps à autre retomber le marteau des portes, derrière les bourgeoises en gants de fil, qui sortaient pour aller voir la fête. Ce que l'on admirait surtout, c'étaient deux longs ifs couverts de lampions qui flanquaient une estrade où s'allaient tenir les autorités; et il y avait de plus, contre les quatre colonnes de la mairie, quatre manières de gaules, portant chacune un petit étendard de toile verdâtre, enrichi d'inscriptions en lettres d'or. On lisait sur l'un: «Au Commerce»; sur l'autre: «À l'Agriculture»; sur le troisième: «À l'Industrie»; et sur le quatrième: «Aux Beaux-Arts».\"]\n",
            "([\"-- Ah! c'est l'argent, qui avait passé la conversation.\"], tensor([-32.2766], device='cuda:0'))\n",
            "-- END OF EPOCH 35.\n",
            "Average loss: 1.079073190689087.\n",
            "1361.1118993759155 s elapsed (i.e. 37.80866387155321 s/epoch)\n",
            "[\"-- Enfin, tu conviendras que, vu la quantité, ce n'est pas trop cher.\"]\n",
            "([\"-- C'est de recomprence, dit le premier de ces jours de l'autre, ce qui est de cette confiture de cette confiture et de ses contractions. Il se dit qu'il ne pouvait de recomprendre le courage. Il se dit qu'il ne pouvait de recomprendre le courage de l'auberge, les premiers mots de la couleur de sa poitrine, et il se mit à reconnaître le coulette, et il se mit à reconnaître le coulette, et il se mit à reconnaître le coulette, et il se mit à reconnaître le coulette, et il se mit à reconnaître le coulette, et i\"], tensor([-336.3540], device='cuda:0'))\n",
            "-- END OF EPOCH 36.\n",
            "Average loss: 1.0688912868499756.\n",
            "1398.7787353992462 s elapsed (i.e. 37.80483068646611 s/epoch)\n",
            "[\"Il entra dans le boudoir, capitonné de soie bleu-pâle avec des bouquets de fleurs des champs, tandis qu'au plafond, dans un cercle de bois doré, des Amours, émergeant d'un ciel d'azur, batifolaient sur des nuages en forme d'édredon. Ces élégances qui seraient aujourd'hui des misères pour les pareilles de Rosanette, l'éblouirent; et il admira tout: les volubilis artificiels ornant le contour de la glace, les rideaux de la cheminée, le divan turc, et, dans un renfoncement de la muraille, une manière de tente tapissée de soie rose, avec de la mousseline blanche par dessus. Des meubles noirs à marqueterie de cuivre garnissaient la chambre à coucher, où se dressait, sur une estrade couverte d'une peau de cygne, le grand lit à baldaquin et à plumes d'autruche. Des épingles à tête de pierreries fichées dans des pelotes, des bagues traînant sur des plateaux, des médaillons à cercle d'or et des coffrets d'argent se distinguaient dans l'ombre, sous la lueur qu'épanchait une urne de Bohême, suspendue à trois chaînettes. Par une petite porte entre-bâillée, on apercevait une serre chaude occupant toute la largeur d'une terrasse, et que terminait une volière à l'autre bout.\"]\n",
            "([\"-- Comment vous vous en a des travailleurs, ce qui le regarde dans la chambre, et de la porte. Il ne savez pas le monde à la fois de la porte. Il n'avait pas de la fois de la porte. Il ne savait pas le soir de la porte, et de la porte, et de la porte, et de la porte, et de la porte, et de la porte, et de la porte, et de la porte, et de la porte, et de la porte, et de la porte, et de la porte, et de la porte, et de la porte, et de la porte, et de la porte, et de la porte, et de la porte, et de la porte, et de\"], tensor([-357.9558], device='cuda:0'))\n",
            "-- END OF EPOCH 37.\n",
            "Average loss: 1.0695489645004272.\n",
            "1437.1055765151978 s elapsed (i.e. 37.81856780303152 s/epoch)\n",
            "[\"La nuit, quand les mareyeurs, dans leurs charrettes, passaient sous ses fenêtres en chantant la Marjolaine, elle s'éveillait, et écoutant le bruit des roues ferrées, qui, à la sortie du pays, s'amortissait vite sur la terre:\"]\n",
            "([\"-- Ah! madame Bovary, qui est de l'autre comme un peu de particulières et de savoires et de savoires et de savoires et de savoires et de savoires et de savoires et de savoires et de savoires et de savoires et de savoires et de savoires et de savoires et de savoires et de savoires et de savoires et de savoires et de savoires et de savoires et de savoires et de savoires et de savoires et de savoires et de savoires et de savoires et de savoires et de savoires et de savoires et de savoires et de savoires et de s\"], tensor([-386.0802], device='cuda:0'))\n",
            "-- END OF EPOCH 38.\n",
            "Average loss: 1.0657081604003906.\n",
            "1475.115654706955 s elapsed (i.e. 37.82347832581936 s/epoch)\n",
            "[\"Enfin, lorsqu'il avait mangé sa soupe, endossé sa limousine, allumé sa pipe et empoigné son fouet, il s'installait tranquillement sur le siège.\"]\n",
            "([\"Le professeur de la charrette s'étalait en place de catholiciste, et les portes de cartonnier de cartonnier de cartonnier de cartonnier de cartonnier de cartonnier de cartonnier de cartonnier de cartonnier de cartonnier de cartonnier de cartonnier de cartonnier de cartonnier de cartonnier de cartonnier de cartonnier de cartonnier de cartonnier de cartonnier de cartonnier de cartonnier de cartonnier de cartonnier de cartonnier de cartonnier de cartonnier de cartonnier de pouvoir s'étalait dans le cabinet de l\"], tensor([-345.5817], device='cuda:0'))\n",
            "-- END OF EPOCH 39.\n",
            "Average loss: 1.0671557188034058.\n",
            "1512.7892467975616 s elapsed (i.e. 37.81973116993904 s/epoch)\n",
            "[\"-- Ah! que j'ai pensé à eux, savez-vous? Souvent je les revoyais comme autrefois, quand, par les matins d'été, le soleil frappait sur les jalousies... et j'apercevais vos deux bras nus qui passaient entre les fleurs.\"]\n",
            "(['-- Oh! reprit-elle.'], tensor([-8.5029], device='cuda:0'))\n",
            "-- END OF EPOCH 40.\n",
            "Average loss: 1.0604686737060547.\n",
            "1552.1144151687622 s elapsed (i.e. 37.856449150457614 s/epoch)\n",
            "[\"Mais, dans leur dernière entrevue, le Citoyen avait parlé de l'estaminet Alexandre. Frédéric avala une brioche, et, sautant dans un cabriolet, s'enquit près du cocher s'il n'y avait point quelque part, sur les hauteurs de Sainte-Geneviève, un certain café Alexandre. Le cocher le conduisit rue des Francs-Bourgeois-Saint-Michel dans un établissement de ce nom-là, et à sa question: «M. Regimbart, s'il vous plaît? le cafetier lui répondit, avec un sourire extra-gracieux:\"]\n",
            "([\"«Ce n'est pas la peine de la personne de la campagne. Le proteste de la campagne n'est pas moins partir.\"], tensor([-66.8915], device='cuda:0'))\n",
            "-- END OF EPOCH 41.\n",
            "Average loss: 1.0585901737213135.\n",
            "1590.2687327861786 s elapsed (i.e. 37.863541256813775 s/epoch)\n",
            "[\"Delphine, étant revenue, s'approcha de la Maréchale pour chuchoter un mot à son oreille.\"]\n",
            "([\"«Comment vous voilà bien que l'autre mariage de la conversation de sa mère, pour vous savoir sa maison.\"], tensor([-67.6736], device='cuda:0'))\n",
            "-- END OF EPOCH 42.\n",
            "Average loss: 1.0570956468582153.\n",
            "1629.6012043952942 s elapsed (i.e. 37.89770242779754 s/epoch)\n",
            "[\"Pensant qu'après tout l'on ne risquait rien, Charles se promit de faire la demande quand l'occasion s'en offrirait; mais, chaque fois qu'elle s'offrit, la peur de ne point trouver les mots convenables lui collait les lèvres.\"]\n",
            "([\"«Ah! c'est vrai! dit le pharmacien, et l'autre contemplait le pharmacien, et l'autre contemplait le pharmacien, et l'autre contemplait la contemplation de la contre et les profits de l'autre contre la porte en plein de considération de ses enfants. C'était un peu de préparation et le profit de l'autre contre la porte en plein de couleur, et qui se trouvaient au milieu de la porte de son coup de la chambre de la chambre. Il se penchait de ses promenades et le profit de ses enfants qui l'envahissaient dans la \"], tensor([-310.4769], device='cuda:0'))\n",
            "-- END OF EPOCH 43.\n",
            "Average loss: 1.0533231496810913.\n",
            "1668.2244584560394 s elapsed (i.e. 37.91419223763726 s/epoch)\n",
            "['--Certainement,» dit Frédéric.']\n",
            "([\"--Ah! tant pis!» dit le pharmacien, et le percepteur de la porte de la religion, que je vous rendez les propriétaires de l'art. Il n'y a pas de la pointe de ses amis, avec un rire de la route. Il n'y a pas de la pointe de ses amis, avec un rire de la route. Il n'y pensait pas à l'autre pour le parti de la construction de sa pensée, et le porta circulait avec les pareils de la muraille.\"], tensor([-252.0191], device='cuda:0'))\n",
            "-- END OF EPOCH 44.\n",
            "Average loss: 1.0457454919815063.\n",
            "1705.681744813919 s elapsed (i.e. 37.90403877364265 s/epoch)\n",
            "[\"Puis, remontée chez elle, Emma se jeta tout à plat ventre sur son lit, et elle y pleura comme un enfant, la tête enfoncée dans l'oreiller.\"]\n",
            "([\"-- Comment? dit le pharmacien, et l'on entendit les prétextes du commis de la chambre. Il en vous allez des conseils d'un mot de la chambre. Il est fait de se retrouver ces mots de la compagnie, qui en sortait de l'autre chose. Il n'y a pas de cours de précieux de compte de la chambre. Il en vous allez des conseils d'un mot de la chambre. Il est fait de se retrouver ces mots de la compagnie, qui en sortait de l'autre chose. Il n'y a pas de cours de précieux de compte de la chambre. Il en vous allez des conse\"], tensor([-353.7965], device='cuda:0'))\n",
            "-- END OF EPOCH 45.\n",
            "Average loss: 1.046276569366455.\n",
            "1742.4918570518494 s elapsed (i.e. 37.880257761996724 s/epoch)\n",
            "[\"Charles resta seul toute l'après-midi: on avait conduit Berthe chez madame Homais; Félicité se tenait en haut, dans la chambre, avec la mère Lefrançois.\"]\n",
            "([\"-- Ah! mon Dieu! dit le pharmacien, et le charme des choses pour les autres de la soirée... Et il en faisait des conseils de la soirée. Il faut de l'avoir prodigue aux conseils de la fin de se découler les conseils de la soirée. Il faut des choses de rendre les premières couches, et des pantalons de chambre avait pris de la soirée. Il se leva de son ami, et il se présentait de l'avoir prodigue au coucher des choses de couleur.\"], tensor([-285.7505], device='cuda:0'))\n",
            "-- END OF EPOCH 46.\n",
            "Average loss: 1.0440365076065063.\n",
            "1779.4667918682098 s elapsed (i.e. 37.86099557166404 s/epoch)\n",
            "['-- Donnez-moi, je vous prie, une demi-once de vitriol.']\n",
            "([\"-- Comment vous l'a reconnaissez de mon Deux balager!»\"], tensor([-38.9230], device='cuda:0'))\n",
            "-- END OF EPOCH 47.\n",
            "Average loss: 1.045954942703247.\n",
            "1817.8670320510864 s elapsed (i.e. 37.872229834397636 s/epoch)\n",
            "['Et elle le serra dans ses bras avec emportement.']\n",
            "(['Elle se rappela la porte du pharmacien, qui se rappelait les conseils du couleur de la porte du pharmacien, et les paupières comme les poitrines se tournaient dans la campagne.'], tensor([-92.6791], device='cuda:0'))\n",
            "-- END OF EPOCH 48.\n",
            "Average loss: 1.0386099815368652.\n",
            "1854.2335104942322 s elapsed (i.e. 37.841500214168 s/epoch)\n",
            "[\"À la nuit, ils repartaient. La barque suivait le bord des îles. Ils restaient au fond, tous les deux cachés par l'ombre, sans parler. Les avirons carrés sonnaient entre les tolets de fer; et cela marquait dans le silence comme un battement de métronome, tandis qu'à l'arrière la bauce qui traînait ne discontinuait pas son petit clapotement doux dans l'eau.\"]\n",
            "(['Elle se regardait dans la chambre, avec les deux bras des choses de bouche, des poussières de bois de poussière, des compagnies de bois de poussière, des compagnies de bois de poussière, des compagnies de bois de poussière, des compagnies de bois de poussière, des compagnies de bois de poussière, des compagnies de bois de poussière, des compagnies de bois de poussière, des compagnies de bois de poussière, des compagnies de bois de poussière, des compagnies de bois de poussière, des compagnies de bois de pous'], tensor([-316.8546], device='cuda:0'))\n",
            "-- END OF EPOCH 49.\n",
            "Average loss: 1.0407042503356934.\n",
            "1891.8878390789032 s elapsed (i.e. 37.837756781578065 s/epoch)\n",
            "[\"Dès qu'il fut seul, Frédéric se rendit chez le célèbre Pomadère, où il se commanda trois pantalons, deux habits, une pelisse de fourrure et cinq gilets; puis chez un bottier, chez un chemisier, et chez un chapelier, ordonnant partout qu'on se hâtât le plus possible.\"]\n",
            "([\"Le bonhomme se trouvait au bout de son cabinet, et les mains se découvraient dans les bras autour de la campagne. Il se récria que les mains s'était retenus de cette fenêtre et de sa main sur les pommes de son bourgeois, et les mains s'échappaient des chambres de sa bouche, et les mains se découvraient dans les bras autour de la campagne. Il se récria que les mains s'était retenus de cette fenêtre et de sa main sur les pommes de son bourgeois, et les mains s'abaissant dans les bras autour de la campagne. Il \"], tensor([-301.6306], device='cuda:0'))\n"
          ]
        }
      ],
      "source": [
        "model = Model(size_vocabulary=len(char_vocabulary), EOP_id=EOP_id, embedding_dim=256, lstm_hidden_size=512, lstm_layers=1, device=device)\n",
        "\n",
        "import time\n",
        "\n",
        "model.eval() # Tells PyTorch we are in evaluation/inference mode (can be useful if dropout is used, for instance).\n",
        "\n",
        "# Training procedure\n",
        "learning_rate = 0.2\n",
        "momentum = 0.99\n",
        "l2_reg = 0.0001\n",
        "optimizer = torch.optim.SGD(model.parameters(), lr=learning_rate, momentum=momentum, weight_decay=l2_reg) # Once the backward propagation has been done, call the 'step' method (with no argument) to update the parameters.\n",
        "batch_size = 64 if(not use_toy_dataset) else 128\n",
        "subset = None # Use an integer to train on a smaller portion of the training set, otherwise use None.\n",
        "epoch_size = batch_generator.length() if(subset is None) else subset # In number of instances\n",
        "\n",
        "nb_epoch = 50 if(not use_toy_dataset) else 1\n",
        "epoch_id = 0 # Id of the current epoch\n",
        "instances_processed = 0 # Number of instances trained on in the current epoch\n",
        "epoch_loss = [] # Will contain the loss for each batch of the current epoch\n",
        "new_train_loss = [] # Will contain the train loss for every epoch\n",
        "new_durations = [] # Will contain the computation time for every epoch\n",
        "time_0 = time.time()\n",
        "while(epoch_id < nb_epoch):\n",
        "  model.train() # Tells Pytorch we are in training mode (can be useful if dropout is used, for instance).\n",
        "\n",
        "  model.zero_grad() # Makes sure the gradient is reinitialised to zero.\n",
        "\n",
        "  batch = batch_generator.get_batch(batch_size, subset=subset)\n",
        "  #print(ids_to_texts(batch[0])); print(ids_to_texts(batch[1]))\n",
        "  in_paragraphs = batch[0].to(model.device)\n",
        "  out_paragraphs = batch[1].to(model.device)\n",
        "\n",
        "  # You have to (i) compute the prediction of the model, (ii) compute the loss, (iii) call \"backward\" on the loss and (iv) store the loss in \"epoch_loss\".\n",
        "  # For the loss, use torch.nn.functional.nll_loss. Computes an average over all tokens of the batch, but do not take into account distribution logits that corresonds to padding characters. Read the documentation and be careful about the shape of your tensors.\n",
        "  # TAKE THIS COMMENT EXTRA-SERIOUSLY: If you have a problem of unmatching length, consider a batch of size 1 and represent in details on paper what is in `out_paragraphs`, what is output by `trainingLogits`, and what the loss function computes; there is probably an additional meaningless item somewhere (or maybe something is missing).\n",
        "  ###################\n",
        "  preds = model.trainingLogits(in_paragraphs, out_paragraphs) # Shape: (batch_size, seq_len, vocab_size)\n",
        "  # Reshape the predictions to compute the loss.\n",
        "  reshaped_preds = preds.view(-1, len(char_vocabulary)) # Shape: (batch_size * seq_len, vocab_size)\n",
        "  targets = out_paragraphs.view(-1) # Shape: (batch_size * seq_len)\n",
        "\n",
        "  loss = torch.nn.functional.nll_loss(\n",
        "      input=reshaped_preds,\n",
        "      target=targets,\n",
        "      ignore_index=batch_generator.padding_idx,\n",
        "      reduction='mean'\n",
        "  )\n",
        "\n",
        "  loss.backward()\n",
        "  epoch_loss.append(loss)\n",
        "  ###################\n",
        "\n",
        "  optimizer.step() # Updates the parameters.\n",
        "\n",
        "  instances_processed += batch_size\n",
        "  if(instances_processed > epoch_size):\n",
        "    print(f\"-- END OF EPOCH {epoch_id}.\")\n",
        "    average_loss = sum(epoch_loss) / len(epoch_loss)\n",
        "    new_train_loss.append(average_loss) # Append the list of average losses.\n",
        "    print(f\"Average loss: {average_loss.item()}.\")\n",
        "    duration = time.time() - time_0\n",
        "    new_durations.append(duration)\n",
        "    print(f\"{duration} s elapsed (i.e. {duration / (epoch_id + 1)} s/epoch)\")\n",
        "\n",
        "    # Example of generation\n",
        "    with torch.no_grad(): # Deactivates Autograd (it is computationaly expensive and we don't need it here).\n",
        "      batch = batch_generator.get_batch(1, subset=subset)\n",
        "      print(ids_to_texts(batch[0])) # Input paragraph\n",
        "      print(model.predictionStrings(batch[0].to(model.device), max_predicted_char=512)) # Generated output paragraph.\n",
        "\n",
        "    epoch_id += 1\n",
        "    instances_processed -= epoch_size\n",
        "    epoch_loss = []"
      ]
    },
    {
      "cell_type": "code",
      "execution_count": null,
      "metadata": {
        "id": "Wj4N1cBfHrJh",
        "colab": {
          "base_uri": "https://localhost:8080/"
        },
        "outputId": "6775773b-fdd0-4c9e-f9d0-b09a081d402c"
      },
      "outputs": [
        {
          "output_type": "stream",
          "name": "stdout",
          "text": [
            "Charles Bovary sortit une bonne bouteille de vin et alla chercher des verres pour ses invités.\n",
            "\n",
            "0: -- Eh bien, je vous assure, dit le pharmacien, et les premiers mois s'écriant à l'autre jour, comme un cheval de caline avec un autre bourgeois qui s'en allait.\n",
            "log-probability: -99.94194030761719\n",
            "1: -- Eh bien, je vous assure, dit le pharmacien, et les premiers mois s'écriant à l'autre jour, comme un cheval de caline avec un autre bourgeois qui s'en allait.\n",
            "log-probability: -99.94194030761719\n",
            "2: -- Eh bien, je vous assure, dit le pharmacien, et les premiers mois s'écriant à l'autre jour, comme un cheval de caline avec un autre bourgeois qui s'en allait.\n",
            "log-probability: -99.94194030761719\n",
            "3: -- Eh bien, je vous assure, dit le pharmacien, et les premiers mois s'écriant à l'autre jour, comme un cheval de caline avec un autre bourgeois qui s'en allait.\n",
            "log-probability: -99.94194030761719\n",
            "4: -- Eh bien, je vous assure, dit le pharmacien, et les premiers mois s'écriant à l'autre jour, comme un cheval de caline avec un autre bourgeois qui s'en allait.\n",
            "log-probability: -99.94194030761719\n",
            "5: -- Eh bien, je vous assure, dit le pharmacien, et les premiers mois s'écriant à l'autre jour, comme un cheval de caline avec un autre bourgeois qui s'en allait.\n",
            "log-probability: -99.94194030761719\n",
            "6: -- Eh bien, je vous assure, dit le pharmacien, et les premiers mois s'écriant à l'autre jour, comme un cheval de caline avec un autre bourgeois qui s'en allait.\n",
            "log-probability: -99.94194030761719\n",
            "7: -- Eh bien, je vous assure, dit le pharmacien, et les premiers mois s'écriant à l'autre jour, comme un cheval de caline avec un autre bourgeois qui s'en allait.\n",
            "log-probability: -99.94194030761719\n",
            "8: -- Eh bien, je vous assure, dit le pharmacien, et les premiers mois s'écriant à l'autre jour, comme un cheval de caline avec un autre bourgeois qui s'en allait.\n",
            "log-probability: -99.94194030761719\n",
            "9: -- Eh bien, je vous assure, dit le pharmacien, et les premiers mois s'écriant à l'autre jour, comme un cheval de caline avec un autre bourgeois qui s'en allait.\n",
            "log-probability: -99.94194030761719\n"
          ]
        }
      ],
      "source": [
        "with torch.no_grad(): # Deactivates Autograd (it is computationaly expensive and we don't need it here).\n",
        "  if(use_toy_dataset):\n",
        "    prompt = [\"AAAA. Now, please write 3 i.\" + EOP] #[paragraphs[0]]\n",
        "    print(prompt[0])\n",
        "    print(f\"(Is this prompt in the training set? {prompt[0] in paragraphs})\\n\")\n",
        "\n",
        "    for _ in range(10):\n",
        "      batch = batch_generator.turn_into_batch(prompt)\n",
        "      gen_texts, logprobs = model.predictionStrings(batch.to(model.device), max_predicted_char=128)\n",
        "\n",
        "      print(f\"{gen_texts[0]} (log-probability: {logprobs.item()})\")\n",
        "      prompt = [gen_texts[0] + EOP]\n",
        "  else:\n",
        "    prompt = [\"Charles Bovary sortit une bonne bouteille de vin et alla chercher des verres pour ses invités.\"] * 10\n",
        "    batch = batch_generator.turn_into_batch(prompt)\n",
        "    gen_texts, logprobs = model.predictionStrings(batch.to(model.device), max_predicted_char=1024)\n",
        "\n",
        "    print(prompt[0])\n",
        "    print()\n",
        "    for i, (gen_text, logprob) in enumerate(zip(gen_texts, logprobs)):\n",
        "      print(f\"{i}: \", end=\"\")\n",
        "      print(gen_text)\n",
        "      print(f\"log-probability: {logprob.item()}\")"
      ]
    },
    {
      "cell_type": "code",
      "execution_count": null,
      "metadata": {
        "colab": {
          "base_uri": "https://localhost:8080/",
          "height": 1000
        },
        "id": "PbsYgpbaOaj4",
        "outputId": "78756966-73c2-4765-ea21-d704f9a6ca6a"
      },
      "outputs": [
        {
          "output_type": "display_data",
          "data": {
            "text/plain": [
              "<Figure size 800x1000 with 2 Axes>"
            ],
            "image/png": "[encoded data removed]"
          },
          "metadata": {}
        }
      ],
      "source": [
        "new_train_loss = [loss.detach().cpu().item() for loss in new_train_loss]\n",
        "\n",
        "fig, (ax1, ax2) = plt.subplots(2, 1, figsize=(8, 10))\n",
        "\n",
        "ax1.plot(range(1, nb_epoch + 1), train_loss, marker='o', color='blue', label='Train Loss')\n",
        "ax2.plot(range(1, nb_epoch + 1), durations, marker='o', color='orange', label='Epoch Duration')\n",
        "\n",
        "ax1.plot(range(1, nb_epoch + 1), new_train_loss, marker='x', color='green', label='New Train Loss')\n",
        "ax2.plot(range(1, nb_epoch + 1), new_durations, marker='x', color='purple', label='New Epoch Duration')\n",
        "\n",
        "ax1.legend()\n",
        "ax2.legend()\n",
        "\n",
        "plt.tight_layout()\n",
        "plt.show()"
      ]
    },
    {
      "cell_type": "markdown",
      "source": [
        "We can see that adding data requires much more computing time. However, we can also see that the loss goes down faster towards 1.25."
      ],
      "metadata": {
        "id": "DbLBxo0mdMhe"
      }
    }
  ],
  "metadata": {
    "accelerator": "GPU",
    "colab": {
      "collapsed_sections": [
        "ZgKHfkBwh2LA"
      ],
      "provenance": []
    },
    "kernelspec": {
      "display_name": "env",
      "language": "python",
      "name": "python3"
    },
    "language_info": {
      "codemirror_mode": {
        "name": "ipython",
        "version": 3
      },
      "file_extension": ".py",
      "mimetype": "text/x-python",
      "name": "python",
      "nbconvert_exporter": "python",
      "pygments_lexer": "ipython3",
      "version": "3.10.11"
    }
  },
  "nbformat": 4,
  "nbformat_minor": 0
}